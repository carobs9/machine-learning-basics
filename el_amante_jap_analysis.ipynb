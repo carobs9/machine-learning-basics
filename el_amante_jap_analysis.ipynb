{
  "nbformat": 4,
  "nbformat_minor": 0,
  "metadata": {
    "colab": {
      "provenance": [],
      "gpuType": "T4",
      "authorship_tag": "ABX9TyOzBdr2C78Ulvx5TMQZxPTL",
      "include_colab_link": true
    },
    "kernelspec": {
      "name": "python3",
      "display_name": "Python 3"
    },
    "language_info": {
      "name": "python"
    },
    "accelerator": "GPU",
    "widgets": {
      "application/vnd.jupyter.widget-state+json": {
        "6301bc3a1991448190cc9dbdd92e63e8": {
          "model_module": "@jupyter-widgets/controls",
          "model_name": "HBoxModel",
          "model_module_version": "1.5.0",
          "state": {
            "_dom_classes": [],
            "_model_module": "@jupyter-widgets/controls",
            "_model_module_version": "1.5.0",
            "_model_name": "HBoxModel",
            "_view_count": null,
            "_view_module": "@jupyter-widgets/controls",
            "_view_module_version": "1.5.0",
            "_view_name": "HBoxView",
            "box_style": "",
            "children": [
              "IPY_MODEL_7ddc8d1c80ac442c8361b30000c3663f",
              "IPY_MODEL_0ebc3af28e26460da657f77488f3f70e",
              "IPY_MODEL_a64e4f2a8b644db2856012c24471df4f"
            ],
            "layout": "IPY_MODEL_657ccc64bff348dca194421422b37b16"
          }
        },
        "7ddc8d1c80ac442c8361b30000c3663f": {
          "model_module": "@jupyter-widgets/controls",
          "model_name": "HTMLModel",
          "model_module_version": "1.5.0",
          "state": {
            "_dom_classes": [],
            "_model_module": "@jupyter-widgets/controls",
            "_model_module_version": "1.5.0",
            "_model_name": "HTMLModel",
            "_view_count": null,
            "_view_module": "@jupyter-widgets/controls",
            "_view_module_version": "1.5.0",
            "_view_name": "HTMLView",
            "description": "",
            "description_tooltip": null,
            "layout": "IPY_MODEL_91c6adac5d334cd4bf3c6b5695fa26c1",
            "placeholder": "​",
            "style": "IPY_MODEL_1c86b8adc9d24569aa286b44d8d518af",
            "value": "tokenizer_config.json: 100%"
          }
        },
        "0ebc3af28e26460da657f77488f3f70e": {
          "model_module": "@jupyter-widgets/controls",
          "model_name": "FloatProgressModel",
          "model_module_version": "1.5.0",
          "state": {
            "_dom_classes": [],
            "_model_module": "@jupyter-widgets/controls",
            "_model_module_version": "1.5.0",
            "_model_name": "FloatProgressModel",
            "_view_count": null,
            "_view_module": "@jupyter-widgets/controls",
            "_view_module_version": "1.5.0",
            "_view_name": "ProgressView",
            "bar_style": "success",
            "description": "",
            "description_tooltip": null,
            "layout": "IPY_MODEL_9b9e65a1c65043e59602ebdd376f5a6c",
            "max": 399,
            "min": 0,
            "orientation": "horizontal",
            "style": "IPY_MODEL_5ad4a73e75df493984b4fe8fe8724b1b",
            "value": 399
          }
        },
        "a64e4f2a8b644db2856012c24471df4f": {
          "model_module": "@jupyter-widgets/controls",
          "model_name": "HTMLModel",
          "model_module_version": "1.5.0",
          "state": {
            "_dom_classes": [],
            "_model_module": "@jupyter-widgets/controls",
            "_model_module_version": "1.5.0",
            "_model_name": "HTMLModel",
            "_view_count": null,
            "_view_module": "@jupyter-widgets/controls",
            "_view_module_version": "1.5.0",
            "_view_name": "HTMLView",
            "description": "",
            "description_tooltip": null,
            "layout": "IPY_MODEL_8f9ab88611194f30b49ce54c06ebcd7e",
            "placeholder": "​",
            "style": "IPY_MODEL_4b1d59dd400942a88c3f89021ee5e239",
            "value": " 399/399 [00:00&lt;00:00, 15.6kB/s]"
          }
        },
        "657ccc64bff348dca194421422b37b16": {
          "model_module": "@jupyter-widgets/base",
          "model_name": "LayoutModel",
          "model_module_version": "1.2.0",
          "state": {
            "_model_module": "@jupyter-widgets/base",
            "_model_module_version": "1.2.0",
            "_model_name": "LayoutModel",
            "_view_count": null,
            "_view_module": "@jupyter-widgets/base",
            "_view_module_version": "1.2.0",
            "_view_name": "LayoutView",
            "align_content": null,
            "align_items": null,
            "align_self": null,
            "border": null,
            "bottom": null,
            "display": null,
            "flex": null,
            "flex_flow": null,
            "grid_area": null,
            "grid_auto_columns": null,
            "grid_auto_flow": null,
            "grid_auto_rows": null,
            "grid_column": null,
            "grid_gap": null,
            "grid_row": null,
            "grid_template_areas": null,
            "grid_template_columns": null,
            "grid_template_rows": null,
            "height": null,
            "justify_content": null,
            "justify_items": null,
            "left": null,
            "margin": null,
            "max_height": null,
            "max_width": null,
            "min_height": null,
            "min_width": null,
            "object_fit": null,
            "object_position": null,
            "order": null,
            "overflow": null,
            "overflow_x": null,
            "overflow_y": null,
            "padding": null,
            "right": null,
            "top": null,
            "visibility": null,
            "width": null
          }
        },
        "91c6adac5d334cd4bf3c6b5695fa26c1": {
          "model_module": "@jupyter-widgets/base",
          "model_name": "LayoutModel",
          "model_module_version": "1.2.0",
          "state": {
            "_model_module": "@jupyter-widgets/base",
            "_model_module_version": "1.2.0",
            "_model_name": "LayoutModel",
            "_view_count": null,
            "_view_module": "@jupyter-widgets/base",
            "_view_module_version": "1.2.0",
            "_view_name": "LayoutView",
            "align_content": null,
            "align_items": null,
            "align_self": null,
            "border": null,
            "bottom": null,
            "display": null,
            "flex": null,
            "flex_flow": null,
            "grid_area": null,
            "grid_auto_columns": null,
            "grid_auto_flow": null,
            "grid_auto_rows": null,
            "grid_column": null,
            "grid_gap": null,
            "grid_row": null,
            "grid_template_areas": null,
            "grid_template_columns": null,
            "grid_template_rows": null,
            "height": null,
            "justify_content": null,
            "justify_items": null,
            "left": null,
            "margin": null,
            "max_height": null,
            "max_width": null,
            "min_height": null,
            "min_width": null,
            "object_fit": null,
            "object_position": null,
            "order": null,
            "overflow": null,
            "overflow_x": null,
            "overflow_y": null,
            "padding": null,
            "right": null,
            "top": null,
            "visibility": null,
            "width": null
          }
        },
        "1c86b8adc9d24569aa286b44d8d518af": {
          "model_module": "@jupyter-widgets/controls",
          "model_name": "DescriptionStyleModel",
          "model_module_version": "1.5.0",
          "state": {
            "_model_module": "@jupyter-widgets/controls",
            "_model_module_version": "1.5.0",
            "_model_name": "DescriptionStyleModel",
            "_view_count": null,
            "_view_module": "@jupyter-widgets/base",
            "_view_module_version": "1.2.0",
            "_view_name": "StyleView",
            "description_width": ""
          }
        },
        "9b9e65a1c65043e59602ebdd376f5a6c": {
          "model_module": "@jupyter-widgets/base",
          "model_name": "LayoutModel",
          "model_module_version": "1.2.0",
          "state": {
            "_model_module": "@jupyter-widgets/base",
            "_model_module_version": "1.2.0",
            "_model_name": "LayoutModel",
            "_view_count": null,
            "_view_module": "@jupyter-widgets/base",
            "_view_module_version": "1.2.0",
            "_view_name": "LayoutView",
            "align_content": null,
            "align_items": null,
            "align_self": null,
            "border": null,
            "bottom": null,
            "display": null,
            "flex": null,
            "flex_flow": null,
            "grid_area": null,
            "grid_auto_columns": null,
            "grid_auto_flow": null,
            "grid_auto_rows": null,
            "grid_column": null,
            "grid_gap": null,
            "grid_row": null,
            "grid_template_areas": null,
            "grid_template_columns": null,
            "grid_template_rows": null,
            "height": null,
            "justify_content": null,
            "justify_items": null,
            "left": null,
            "margin": null,
            "max_height": null,
            "max_width": null,
            "min_height": null,
            "min_width": null,
            "object_fit": null,
            "object_position": null,
            "order": null,
            "overflow": null,
            "overflow_x": null,
            "overflow_y": null,
            "padding": null,
            "right": null,
            "top": null,
            "visibility": null,
            "width": null
          }
        },
        "5ad4a73e75df493984b4fe8fe8724b1b": {
          "model_module": "@jupyter-widgets/controls",
          "model_name": "ProgressStyleModel",
          "model_module_version": "1.5.0",
          "state": {
            "_model_module": "@jupyter-widgets/controls",
            "_model_module_version": "1.5.0",
            "_model_name": "ProgressStyleModel",
            "_view_count": null,
            "_view_module": "@jupyter-widgets/base",
            "_view_module_version": "1.2.0",
            "_view_name": "StyleView",
            "bar_color": null,
            "description_width": ""
          }
        },
        "8f9ab88611194f30b49ce54c06ebcd7e": {
          "model_module": "@jupyter-widgets/base",
          "model_name": "LayoutModel",
          "model_module_version": "1.2.0",
          "state": {
            "_model_module": "@jupyter-widgets/base",
            "_model_module_version": "1.2.0",
            "_model_name": "LayoutModel",
            "_view_count": null,
            "_view_module": "@jupyter-widgets/base",
            "_view_module_version": "1.2.0",
            "_view_name": "LayoutView",
            "align_content": null,
            "align_items": null,
            "align_self": null,
            "border": null,
            "bottom": null,
            "display": null,
            "flex": null,
            "flex_flow": null,
            "grid_area": null,
            "grid_auto_columns": null,
            "grid_auto_flow": null,
            "grid_auto_rows": null,
            "grid_column": null,
            "grid_gap": null,
            "grid_row": null,
            "grid_template_areas": null,
            "grid_template_columns": null,
            "grid_template_rows": null,
            "height": null,
            "justify_content": null,
            "justify_items": null,
            "left": null,
            "margin": null,
            "max_height": null,
            "max_width": null,
            "min_height": null,
            "min_width": null,
            "object_fit": null,
            "object_position": null,
            "order": null,
            "overflow": null,
            "overflow_x": null,
            "overflow_y": null,
            "padding": null,
            "right": null,
            "top": null,
            "visibility": null,
            "width": null
          }
        },
        "4b1d59dd400942a88c3f89021ee5e239": {
          "model_module": "@jupyter-widgets/controls",
          "model_name": "DescriptionStyleModel",
          "model_module_version": "1.5.0",
          "state": {
            "_model_module": "@jupyter-widgets/controls",
            "_model_module_version": "1.5.0",
            "_model_name": "DescriptionStyleModel",
            "_view_count": null,
            "_view_module": "@jupyter-widgets/base",
            "_view_module_version": "1.2.0",
            "_view_name": "StyleView",
            "description_width": ""
          }
        },
        "a6cd038f69e74d02b548396cdd92bb6e": {
          "model_module": "@jupyter-widgets/controls",
          "model_name": "HBoxModel",
          "model_module_version": "1.5.0",
          "state": {
            "_dom_classes": [],
            "_model_module": "@jupyter-widgets/controls",
            "_model_module_version": "1.5.0",
            "_model_name": "HBoxModel",
            "_view_count": null,
            "_view_module": "@jupyter-widgets/controls",
            "_view_module_version": "1.5.0",
            "_view_name": "HBoxView",
            "box_style": "",
            "children": [
              "IPY_MODEL_237e50c2f91c47c2967156f6413292d3",
              "IPY_MODEL_5fc16a2783bf4052a3efa358231807c3",
              "IPY_MODEL_68124b4d38bb40aeb798646185391612"
            ],
            "layout": "IPY_MODEL_a3ba77ff9aa24e3f8bece4148bc0eef5"
          }
        },
        "237e50c2f91c47c2967156f6413292d3": {
          "model_module": "@jupyter-widgets/controls",
          "model_name": "HTMLModel",
          "model_module_version": "1.5.0",
          "state": {
            "_dom_classes": [],
            "_model_module": "@jupyter-widgets/controls",
            "_model_module_version": "1.5.0",
            "_model_name": "HTMLModel",
            "_view_count": null,
            "_view_module": "@jupyter-widgets/controls",
            "_view_module_version": "1.5.0",
            "_view_name": "HTMLView",
            "description": "",
            "description_tooltip": null,
            "layout": "IPY_MODEL_27d1601639ba47c1b0e6c3b734b1665c",
            "placeholder": "​",
            "style": "IPY_MODEL_9c03ae7dee0a47af8ed6a4fdbd51979e",
            "value": "sentencepiece.bpe.model: 100%"
          }
        },
        "5fc16a2783bf4052a3efa358231807c3": {
          "model_module": "@jupyter-widgets/controls",
          "model_name": "FloatProgressModel",
          "model_module_version": "1.5.0",
          "state": {
            "_dom_classes": [],
            "_model_module": "@jupyter-widgets/controls",
            "_model_module_version": "1.5.0",
            "_model_name": "FloatProgressModel",
            "_view_count": null,
            "_view_module": "@jupyter-widgets/controls",
            "_view_module_version": "1.5.0",
            "_view_name": "ProgressView",
            "bar_style": "success",
            "description": "",
            "description_tooltip": null,
            "layout": "IPY_MODEL_1fa7e1e9b62a40479fecae8af87d1a96",
            "max": 5069051,
            "min": 0,
            "orientation": "horizontal",
            "style": "IPY_MODEL_ba82d5363c9149ecac049b29c004b097",
            "value": 5069051
          }
        },
        "68124b4d38bb40aeb798646185391612": {
          "model_module": "@jupyter-widgets/controls",
          "model_name": "HTMLModel",
          "model_module_version": "1.5.0",
          "state": {
            "_dom_classes": [],
            "_model_module": "@jupyter-widgets/controls",
            "_model_module_version": "1.5.0",
            "_model_name": "HTMLModel",
            "_view_count": null,
            "_view_module": "@jupyter-widgets/controls",
            "_view_module_version": "1.5.0",
            "_view_name": "HTMLView",
            "description": "",
            "description_tooltip": null,
            "layout": "IPY_MODEL_14f82162ffc4445a91f4482f1256e68f",
            "placeholder": "​",
            "style": "IPY_MODEL_ba9f9faf365842ab9ca7737bfce9ce6e",
            "value": " 5.07M/5.07M [00:00&lt;00:00, 10.4MB/s]"
          }
        },
        "a3ba77ff9aa24e3f8bece4148bc0eef5": {
          "model_module": "@jupyter-widgets/base",
          "model_name": "LayoutModel",
          "model_module_version": "1.2.0",
          "state": {
            "_model_module": "@jupyter-widgets/base",
            "_model_module_version": "1.2.0",
            "_model_name": "LayoutModel",
            "_view_count": null,
            "_view_module": "@jupyter-widgets/base",
            "_view_module_version": "1.2.0",
            "_view_name": "LayoutView",
            "align_content": null,
            "align_items": null,
            "align_self": null,
            "border": null,
            "bottom": null,
            "display": null,
            "flex": null,
            "flex_flow": null,
            "grid_area": null,
            "grid_auto_columns": null,
            "grid_auto_flow": null,
            "grid_auto_rows": null,
            "grid_column": null,
            "grid_gap": null,
            "grid_row": null,
            "grid_template_areas": null,
            "grid_template_columns": null,
            "grid_template_rows": null,
            "height": null,
            "justify_content": null,
            "justify_items": null,
            "left": null,
            "margin": null,
            "max_height": null,
            "max_width": null,
            "min_height": null,
            "min_width": null,
            "object_fit": null,
            "object_position": null,
            "order": null,
            "overflow": null,
            "overflow_x": null,
            "overflow_y": null,
            "padding": null,
            "right": null,
            "top": null,
            "visibility": null,
            "width": null
          }
        },
        "27d1601639ba47c1b0e6c3b734b1665c": {
          "model_module": "@jupyter-widgets/base",
          "model_name": "LayoutModel",
          "model_module_version": "1.2.0",
          "state": {
            "_model_module": "@jupyter-widgets/base",
            "_model_module_version": "1.2.0",
            "_model_name": "LayoutModel",
            "_view_count": null,
            "_view_module": "@jupyter-widgets/base",
            "_view_module_version": "1.2.0",
            "_view_name": "LayoutView",
            "align_content": null,
            "align_items": null,
            "align_self": null,
            "border": null,
            "bottom": null,
            "display": null,
            "flex": null,
            "flex_flow": null,
            "grid_area": null,
            "grid_auto_columns": null,
            "grid_auto_flow": null,
            "grid_auto_rows": null,
            "grid_column": null,
            "grid_gap": null,
            "grid_row": null,
            "grid_template_areas": null,
            "grid_template_columns": null,
            "grid_template_rows": null,
            "height": null,
            "justify_content": null,
            "justify_items": null,
            "left": null,
            "margin": null,
            "max_height": null,
            "max_width": null,
            "min_height": null,
            "min_width": null,
            "object_fit": null,
            "object_position": null,
            "order": null,
            "overflow": null,
            "overflow_x": null,
            "overflow_y": null,
            "padding": null,
            "right": null,
            "top": null,
            "visibility": null,
            "width": null
          }
        },
        "9c03ae7dee0a47af8ed6a4fdbd51979e": {
          "model_module": "@jupyter-widgets/controls",
          "model_name": "DescriptionStyleModel",
          "model_module_version": "1.5.0",
          "state": {
            "_model_module": "@jupyter-widgets/controls",
            "_model_module_version": "1.5.0",
            "_model_name": "DescriptionStyleModel",
            "_view_count": null,
            "_view_module": "@jupyter-widgets/base",
            "_view_module_version": "1.2.0",
            "_view_name": "StyleView",
            "description_width": ""
          }
        },
        "1fa7e1e9b62a40479fecae8af87d1a96": {
          "model_module": "@jupyter-widgets/base",
          "model_name": "LayoutModel",
          "model_module_version": "1.2.0",
          "state": {
            "_model_module": "@jupyter-widgets/base",
            "_model_module_version": "1.2.0",
            "_model_name": "LayoutModel",
            "_view_count": null,
            "_view_module": "@jupyter-widgets/base",
            "_view_module_version": "1.2.0",
            "_view_name": "LayoutView",
            "align_content": null,
            "align_items": null,
            "align_self": null,
            "border": null,
            "bottom": null,
            "display": null,
            "flex": null,
            "flex_flow": null,
            "grid_area": null,
            "grid_auto_columns": null,
            "grid_auto_flow": null,
            "grid_auto_rows": null,
            "grid_column": null,
            "grid_gap": null,
            "grid_row": null,
            "grid_template_areas": null,
            "grid_template_columns": null,
            "grid_template_rows": null,
            "height": null,
            "justify_content": null,
            "justify_items": null,
            "left": null,
            "margin": null,
            "max_height": null,
            "max_width": null,
            "min_height": null,
            "min_width": null,
            "object_fit": null,
            "object_position": null,
            "order": null,
            "overflow": null,
            "overflow_x": null,
            "overflow_y": null,
            "padding": null,
            "right": null,
            "top": null,
            "visibility": null,
            "width": null
          }
        },
        "ba82d5363c9149ecac049b29c004b097": {
          "model_module": "@jupyter-widgets/controls",
          "model_name": "ProgressStyleModel",
          "model_module_version": "1.5.0",
          "state": {
            "_model_module": "@jupyter-widgets/controls",
            "_model_module_version": "1.5.0",
            "_model_name": "ProgressStyleModel",
            "_view_count": null,
            "_view_module": "@jupyter-widgets/base",
            "_view_module_version": "1.2.0",
            "_view_name": "StyleView",
            "bar_color": null,
            "description_width": ""
          }
        },
        "14f82162ffc4445a91f4482f1256e68f": {
          "model_module": "@jupyter-widgets/base",
          "model_name": "LayoutModel",
          "model_module_version": "1.2.0",
          "state": {
            "_model_module": "@jupyter-widgets/base",
            "_model_module_version": "1.2.0",
            "_model_name": "LayoutModel",
            "_view_count": null,
            "_view_module": "@jupyter-widgets/base",
            "_view_module_version": "1.2.0",
            "_view_name": "LayoutView",
            "align_content": null,
            "align_items": null,
            "align_self": null,
            "border": null,
            "bottom": null,
            "display": null,
            "flex": null,
            "flex_flow": null,
            "grid_area": null,
            "grid_auto_columns": null,
            "grid_auto_flow": null,
            "grid_auto_rows": null,
            "grid_column": null,
            "grid_gap": null,
            "grid_row": null,
            "grid_template_areas": null,
            "grid_template_columns": null,
            "grid_template_rows": null,
            "height": null,
            "justify_content": null,
            "justify_items": null,
            "left": null,
            "margin": null,
            "max_height": null,
            "max_width": null,
            "min_height": null,
            "min_width": null,
            "object_fit": null,
            "object_position": null,
            "order": null,
            "overflow": null,
            "overflow_x": null,
            "overflow_y": null,
            "padding": null,
            "right": null,
            "top": null,
            "visibility": null,
            "width": null
          }
        },
        "ba9f9faf365842ab9ca7737bfce9ce6e": {
          "model_module": "@jupyter-widgets/controls",
          "model_name": "DescriptionStyleModel",
          "model_module_version": "1.5.0",
          "state": {
            "_model_module": "@jupyter-widgets/controls",
            "_model_module_version": "1.5.0",
            "_model_name": "DescriptionStyleModel",
            "_view_count": null,
            "_view_module": "@jupyter-widgets/base",
            "_view_module_version": "1.2.0",
            "_view_name": "StyleView",
            "description_width": ""
          }
        },
        "4e883dfe09ce48528b62196a047e1433": {
          "model_module": "@jupyter-widgets/controls",
          "model_name": "HBoxModel",
          "model_module_version": "1.5.0",
          "state": {
            "_dom_classes": [],
            "_model_module": "@jupyter-widgets/controls",
            "_model_module_version": "1.5.0",
            "_model_name": "HBoxModel",
            "_view_count": null,
            "_view_module": "@jupyter-widgets/controls",
            "_view_module_version": "1.5.0",
            "_view_name": "HBoxView",
            "box_style": "",
            "children": [
              "IPY_MODEL_2cf8d72f455b4c26a1dcebc98e3904e0",
              "IPY_MODEL_c52f0d862c8c45ea90ca4a0b6646e3d1",
              "IPY_MODEL_ba736f836e294e3e85ba9a767aa6265f"
            ],
            "layout": "IPY_MODEL_43d9433c1f3a4450973e11232afe8303"
          }
        },
        "2cf8d72f455b4c26a1dcebc98e3904e0": {
          "model_module": "@jupyter-widgets/controls",
          "model_name": "HTMLModel",
          "model_module_version": "1.5.0",
          "state": {
            "_dom_classes": [],
            "_model_module": "@jupyter-widgets/controls",
            "_model_module_version": "1.5.0",
            "_model_name": "HTMLModel",
            "_view_count": null,
            "_view_module": "@jupyter-widgets/controls",
            "_view_module_version": "1.5.0",
            "_view_name": "HTMLView",
            "description": "",
            "description_tooltip": null,
            "layout": "IPY_MODEL_dfa4b501fe874978ac5ca4e12b7b56c8",
            "placeholder": "​",
            "style": "IPY_MODEL_2ed6d198fcb04872a782ab0befd94621",
            "value": "tokenizer.json: 100%"
          }
        },
        "c52f0d862c8c45ea90ca4a0b6646e3d1": {
          "model_module": "@jupyter-widgets/controls",
          "model_name": "FloatProgressModel",
          "model_module_version": "1.5.0",
          "state": {
            "_dom_classes": [],
            "_model_module": "@jupyter-widgets/controls",
            "_model_module_version": "1.5.0",
            "_model_name": "FloatProgressModel",
            "_view_count": null,
            "_view_module": "@jupyter-widgets/controls",
            "_view_module_version": "1.5.0",
            "_view_name": "ProgressView",
            "bar_style": "success",
            "description": "",
            "description_tooltip": null,
            "layout": "IPY_MODEL_d3218844bca64725b4efac59e53b5fd0",
            "max": 9081383,
            "min": 0,
            "orientation": "horizontal",
            "style": "IPY_MODEL_72c1664fbb8d4acc817f45923e7d901d",
            "value": 9081383
          }
        },
        "ba736f836e294e3e85ba9a767aa6265f": {
          "model_module": "@jupyter-widgets/controls",
          "model_name": "HTMLModel",
          "model_module_version": "1.5.0",
          "state": {
            "_dom_classes": [],
            "_model_module": "@jupyter-widgets/controls",
            "_model_module_version": "1.5.0",
            "_model_name": "HTMLModel",
            "_view_count": null,
            "_view_module": "@jupyter-widgets/controls",
            "_view_module_version": "1.5.0",
            "_view_name": "HTMLView",
            "description": "",
            "description_tooltip": null,
            "layout": "IPY_MODEL_6be1dfa3d79843f9ba207c63d1dca22b",
            "placeholder": "​",
            "style": "IPY_MODEL_d43d1f00e7e04327b372c3d9d085c47e",
            "value": " 9.08M/9.08M [00:00&lt;00:00, 25.0MB/s]"
          }
        },
        "43d9433c1f3a4450973e11232afe8303": {
          "model_module": "@jupyter-widgets/base",
          "model_name": "LayoutModel",
          "model_module_version": "1.2.0",
          "state": {
            "_model_module": "@jupyter-widgets/base",
            "_model_module_version": "1.2.0",
            "_model_name": "LayoutModel",
            "_view_count": null,
            "_view_module": "@jupyter-widgets/base",
            "_view_module_version": "1.2.0",
            "_view_name": "LayoutView",
            "align_content": null,
            "align_items": null,
            "align_self": null,
            "border": null,
            "bottom": null,
            "display": null,
            "flex": null,
            "flex_flow": null,
            "grid_area": null,
            "grid_auto_columns": null,
            "grid_auto_flow": null,
            "grid_auto_rows": null,
            "grid_column": null,
            "grid_gap": null,
            "grid_row": null,
            "grid_template_areas": null,
            "grid_template_columns": null,
            "grid_template_rows": null,
            "height": null,
            "justify_content": null,
            "justify_items": null,
            "left": null,
            "margin": null,
            "max_height": null,
            "max_width": null,
            "min_height": null,
            "min_width": null,
            "object_fit": null,
            "object_position": null,
            "order": null,
            "overflow": null,
            "overflow_x": null,
            "overflow_y": null,
            "padding": null,
            "right": null,
            "top": null,
            "visibility": null,
            "width": null
          }
        },
        "dfa4b501fe874978ac5ca4e12b7b56c8": {
          "model_module": "@jupyter-widgets/base",
          "model_name": "LayoutModel",
          "model_module_version": "1.2.0",
          "state": {
            "_model_module": "@jupyter-widgets/base",
            "_model_module_version": "1.2.0",
            "_model_name": "LayoutModel",
            "_view_count": null,
            "_view_module": "@jupyter-widgets/base",
            "_view_module_version": "1.2.0",
            "_view_name": "LayoutView",
            "align_content": null,
            "align_items": null,
            "align_self": null,
            "border": null,
            "bottom": null,
            "display": null,
            "flex": null,
            "flex_flow": null,
            "grid_area": null,
            "grid_auto_columns": null,
            "grid_auto_flow": null,
            "grid_auto_rows": null,
            "grid_column": null,
            "grid_gap": null,
            "grid_row": null,
            "grid_template_areas": null,
            "grid_template_columns": null,
            "grid_template_rows": null,
            "height": null,
            "justify_content": null,
            "justify_items": null,
            "left": null,
            "margin": null,
            "max_height": null,
            "max_width": null,
            "min_height": null,
            "min_width": null,
            "object_fit": null,
            "object_position": null,
            "order": null,
            "overflow": null,
            "overflow_x": null,
            "overflow_y": null,
            "padding": null,
            "right": null,
            "top": null,
            "visibility": null,
            "width": null
          }
        },
        "2ed6d198fcb04872a782ab0befd94621": {
          "model_module": "@jupyter-widgets/controls",
          "model_name": "DescriptionStyleModel",
          "model_module_version": "1.5.0",
          "state": {
            "_model_module": "@jupyter-widgets/controls",
            "_model_module_version": "1.5.0",
            "_model_name": "DescriptionStyleModel",
            "_view_count": null,
            "_view_module": "@jupyter-widgets/base",
            "_view_module_version": "1.2.0",
            "_view_name": "StyleView",
            "description_width": ""
          }
        },
        "d3218844bca64725b4efac59e53b5fd0": {
          "model_module": "@jupyter-widgets/base",
          "model_name": "LayoutModel",
          "model_module_version": "1.2.0",
          "state": {
            "_model_module": "@jupyter-widgets/base",
            "_model_module_version": "1.2.0",
            "_model_name": "LayoutModel",
            "_view_count": null,
            "_view_module": "@jupyter-widgets/base",
            "_view_module_version": "1.2.0",
            "_view_name": "LayoutView",
            "align_content": null,
            "align_items": null,
            "align_self": null,
            "border": null,
            "bottom": null,
            "display": null,
            "flex": null,
            "flex_flow": null,
            "grid_area": null,
            "grid_auto_columns": null,
            "grid_auto_flow": null,
            "grid_auto_rows": null,
            "grid_column": null,
            "grid_gap": null,
            "grid_row": null,
            "grid_template_areas": null,
            "grid_template_columns": null,
            "grid_template_rows": null,
            "height": null,
            "justify_content": null,
            "justify_items": null,
            "left": null,
            "margin": null,
            "max_height": null,
            "max_width": null,
            "min_height": null,
            "min_width": null,
            "object_fit": null,
            "object_position": null,
            "order": null,
            "overflow": null,
            "overflow_x": null,
            "overflow_y": null,
            "padding": null,
            "right": null,
            "top": null,
            "visibility": null,
            "width": null
          }
        },
        "72c1664fbb8d4acc817f45923e7d901d": {
          "model_module": "@jupyter-widgets/controls",
          "model_name": "ProgressStyleModel",
          "model_module_version": "1.5.0",
          "state": {
            "_model_module": "@jupyter-widgets/controls",
            "_model_module_version": "1.5.0",
            "_model_name": "ProgressStyleModel",
            "_view_count": null,
            "_view_module": "@jupyter-widgets/base",
            "_view_module_version": "1.2.0",
            "_view_name": "StyleView",
            "bar_color": null,
            "description_width": ""
          }
        },
        "6be1dfa3d79843f9ba207c63d1dca22b": {
          "model_module": "@jupyter-widgets/base",
          "model_name": "LayoutModel",
          "model_module_version": "1.2.0",
          "state": {
            "_model_module": "@jupyter-widgets/base",
            "_model_module_version": "1.2.0",
            "_model_name": "LayoutModel",
            "_view_count": null,
            "_view_module": "@jupyter-widgets/base",
            "_view_module_version": "1.2.0",
            "_view_name": "LayoutView",
            "align_content": null,
            "align_items": null,
            "align_self": null,
            "border": null,
            "bottom": null,
            "display": null,
            "flex": null,
            "flex_flow": null,
            "grid_area": null,
            "grid_auto_columns": null,
            "grid_auto_flow": null,
            "grid_auto_rows": null,
            "grid_column": null,
            "grid_gap": null,
            "grid_row": null,
            "grid_template_areas": null,
            "grid_template_columns": null,
            "grid_template_rows": null,
            "height": null,
            "justify_content": null,
            "justify_items": null,
            "left": null,
            "margin": null,
            "max_height": null,
            "max_width": null,
            "min_height": null,
            "min_width": null,
            "object_fit": null,
            "object_position": null,
            "order": null,
            "overflow": null,
            "overflow_x": null,
            "overflow_y": null,
            "padding": null,
            "right": null,
            "top": null,
            "visibility": null,
            "width": null
          }
        },
        "d43d1f00e7e04327b372c3d9d085c47e": {
          "model_module": "@jupyter-widgets/controls",
          "model_name": "DescriptionStyleModel",
          "model_module_version": "1.5.0",
          "state": {
            "_model_module": "@jupyter-widgets/controls",
            "_model_module_version": "1.5.0",
            "_model_name": "DescriptionStyleModel",
            "_view_count": null,
            "_view_module": "@jupyter-widgets/base",
            "_view_module_version": "1.2.0",
            "_view_name": "StyleView",
            "description_width": ""
          }
        },
        "f103e2aa0775441087f6ed7f41066b0e": {
          "model_module": "@jupyter-widgets/controls",
          "model_name": "HBoxModel",
          "model_module_version": "1.5.0",
          "state": {
            "_dom_classes": [],
            "_model_module": "@jupyter-widgets/controls",
            "_model_module_version": "1.5.0",
            "_model_name": "HBoxModel",
            "_view_count": null,
            "_view_module": "@jupyter-widgets/controls",
            "_view_module_version": "1.5.0",
            "_view_name": "HBoxView",
            "box_style": "",
            "children": [
              "IPY_MODEL_1b9034fd27c94a98941620b425bcb564",
              "IPY_MODEL_05344ca63be648f6a2c46bf0919862a0",
              "IPY_MODEL_4a1c018f35504bb7b76ccb43f4674524"
            ],
            "layout": "IPY_MODEL_7bd62067b0c644778154ebec3886c835"
          }
        },
        "1b9034fd27c94a98941620b425bcb564": {
          "model_module": "@jupyter-widgets/controls",
          "model_name": "HTMLModel",
          "model_module_version": "1.5.0",
          "state": {
            "_dom_classes": [],
            "_model_module": "@jupyter-widgets/controls",
            "_model_module_version": "1.5.0",
            "_model_name": "HTMLModel",
            "_view_count": null,
            "_view_module": "@jupyter-widgets/controls",
            "_view_module_version": "1.5.0",
            "_view_name": "HTMLView",
            "description": "",
            "description_tooltip": null,
            "layout": "IPY_MODEL_0a282057508c411e93d09bd8e6cdb1d2",
            "placeholder": "​",
            "style": "IPY_MODEL_df4695e2f19743aea8d09d25630e7b71",
            "value": "special_tokens_map.json: 100%"
          }
        },
        "05344ca63be648f6a2c46bf0919862a0": {
          "model_module": "@jupyter-widgets/controls",
          "model_name": "FloatProgressModel",
          "model_module_version": "1.5.0",
          "state": {
            "_dom_classes": [],
            "_model_module": "@jupyter-widgets/controls",
            "_model_module_version": "1.5.0",
            "_model_name": "FloatProgressModel",
            "_view_count": null,
            "_view_module": "@jupyter-widgets/controls",
            "_view_module_version": "1.5.0",
            "_view_name": "ProgressView",
            "bar_style": "success",
            "description": "",
            "description_tooltip": null,
            "layout": "IPY_MODEL_4d425b45a98e428a95f827ead3944e42",
            "max": 239,
            "min": 0,
            "orientation": "horizontal",
            "style": "IPY_MODEL_439372177ba7484ea15831a2cefd9b96",
            "value": 239
          }
        },
        "4a1c018f35504bb7b76ccb43f4674524": {
          "model_module": "@jupyter-widgets/controls",
          "model_name": "HTMLModel",
          "model_module_version": "1.5.0",
          "state": {
            "_dom_classes": [],
            "_model_module": "@jupyter-widgets/controls",
            "_model_module_version": "1.5.0",
            "_model_name": "HTMLModel",
            "_view_count": null,
            "_view_module": "@jupyter-widgets/controls",
            "_view_module_version": "1.5.0",
            "_view_name": "HTMLView",
            "description": "",
            "description_tooltip": null,
            "layout": "IPY_MODEL_10bb9ab49a1d4285b58d01953bbd4f4c",
            "placeholder": "​",
            "style": "IPY_MODEL_3f0ab06d79534470b41da2ecdab7fbd0",
            "value": " 239/239 [00:00&lt;00:00, 4.73kB/s]"
          }
        },
        "7bd62067b0c644778154ebec3886c835": {
          "model_module": "@jupyter-widgets/base",
          "model_name": "LayoutModel",
          "model_module_version": "1.2.0",
          "state": {
            "_model_module": "@jupyter-widgets/base",
            "_model_module_version": "1.2.0",
            "_model_name": "LayoutModel",
            "_view_count": null,
            "_view_module": "@jupyter-widgets/base",
            "_view_module_version": "1.2.0",
            "_view_name": "LayoutView",
            "align_content": null,
            "align_items": null,
            "align_self": null,
            "border": null,
            "bottom": null,
            "display": null,
            "flex": null,
            "flex_flow": null,
            "grid_area": null,
            "grid_auto_columns": null,
            "grid_auto_flow": null,
            "grid_auto_rows": null,
            "grid_column": null,
            "grid_gap": null,
            "grid_row": null,
            "grid_template_areas": null,
            "grid_template_columns": null,
            "grid_template_rows": null,
            "height": null,
            "justify_content": null,
            "justify_items": null,
            "left": null,
            "margin": null,
            "max_height": null,
            "max_width": null,
            "min_height": null,
            "min_width": null,
            "object_fit": null,
            "object_position": null,
            "order": null,
            "overflow": null,
            "overflow_x": null,
            "overflow_y": null,
            "padding": null,
            "right": null,
            "top": null,
            "visibility": null,
            "width": null
          }
        },
        "0a282057508c411e93d09bd8e6cdb1d2": {
          "model_module": "@jupyter-widgets/base",
          "model_name": "LayoutModel",
          "model_module_version": "1.2.0",
          "state": {
            "_model_module": "@jupyter-widgets/base",
            "_model_module_version": "1.2.0",
            "_model_name": "LayoutModel",
            "_view_count": null,
            "_view_module": "@jupyter-widgets/base",
            "_view_module_version": "1.2.0",
            "_view_name": "LayoutView",
            "align_content": null,
            "align_items": null,
            "align_self": null,
            "border": null,
            "bottom": null,
            "display": null,
            "flex": null,
            "flex_flow": null,
            "grid_area": null,
            "grid_auto_columns": null,
            "grid_auto_flow": null,
            "grid_auto_rows": null,
            "grid_column": null,
            "grid_gap": null,
            "grid_row": null,
            "grid_template_areas": null,
            "grid_template_columns": null,
            "grid_template_rows": null,
            "height": null,
            "justify_content": null,
            "justify_items": null,
            "left": null,
            "margin": null,
            "max_height": null,
            "max_width": null,
            "min_height": null,
            "min_width": null,
            "object_fit": null,
            "object_position": null,
            "order": null,
            "overflow": null,
            "overflow_x": null,
            "overflow_y": null,
            "padding": null,
            "right": null,
            "top": null,
            "visibility": null,
            "width": null
          }
        },
        "df4695e2f19743aea8d09d25630e7b71": {
          "model_module": "@jupyter-widgets/controls",
          "model_name": "DescriptionStyleModel",
          "model_module_version": "1.5.0",
          "state": {
            "_model_module": "@jupyter-widgets/controls",
            "_model_module_version": "1.5.0",
            "_model_name": "DescriptionStyleModel",
            "_view_count": null,
            "_view_module": "@jupyter-widgets/base",
            "_view_module_version": "1.2.0",
            "_view_name": "StyleView",
            "description_width": ""
          }
        },
        "4d425b45a98e428a95f827ead3944e42": {
          "model_module": "@jupyter-widgets/base",
          "model_name": "LayoutModel",
          "model_module_version": "1.2.0",
          "state": {
            "_model_module": "@jupyter-widgets/base",
            "_model_module_version": "1.2.0",
            "_model_name": "LayoutModel",
            "_view_count": null,
            "_view_module": "@jupyter-widgets/base",
            "_view_module_version": "1.2.0",
            "_view_name": "LayoutView",
            "align_content": null,
            "align_items": null,
            "align_self": null,
            "border": null,
            "bottom": null,
            "display": null,
            "flex": null,
            "flex_flow": null,
            "grid_area": null,
            "grid_auto_columns": null,
            "grid_auto_flow": null,
            "grid_auto_rows": null,
            "grid_column": null,
            "grid_gap": null,
            "grid_row": null,
            "grid_template_areas": null,
            "grid_template_columns": null,
            "grid_template_rows": null,
            "height": null,
            "justify_content": null,
            "justify_items": null,
            "left": null,
            "margin": null,
            "max_height": null,
            "max_width": null,
            "min_height": null,
            "min_width": null,
            "object_fit": null,
            "object_position": null,
            "order": null,
            "overflow": null,
            "overflow_x": null,
            "overflow_y": null,
            "padding": null,
            "right": null,
            "top": null,
            "visibility": null,
            "width": null
          }
        },
        "439372177ba7484ea15831a2cefd9b96": {
          "model_module": "@jupyter-widgets/controls",
          "model_name": "ProgressStyleModel",
          "model_module_version": "1.5.0",
          "state": {
            "_model_module": "@jupyter-widgets/controls",
            "_model_module_version": "1.5.0",
            "_model_name": "ProgressStyleModel",
            "_view_count": null,
            "_view_module": "@jupyter-widgets/base",
            "_view_module_version": "1.2.0",
            "_view_name": "StyleView",
            "bar_color": null,
            "description_width": ""
          }
        },
        "10bb9ab49a1d4285b58d01953bbd4f4c": {
          "model_module": "@jupyter-widgets/base",
          "model_name": "LayoutModel",
          "model_module_version": "1.2.0",
          "state": {
            "_model_module": "@jupyter-widgets/base",
            "_model_module_version": "1.2.0",
            "_model_name": "LayoutModel",
            "_view_count": null,
            "_view_module": "@jupyter-widgets/base",
            "_view_module_version": "1.2.0",
            "_view_name": "LayoutView",
            "align_content": null,
            "align_items": null,
            "align_self": null,
            "border": null,
            "bottom": null,
            "display": null,
            "flex": null,
            "flex_flow": null,
            "grid_area": null,
            "grid_auto_columns": null,
            "grid_auto_flow": null,
            "grid_auto_rows": null,
            "grid_column": null,
            "grid_gap": null,
            "grid_row": null,
            "grid_template_areas": null,
            "grid_template_columns": null,
            "grid_template_rows": null,
            "height": null,
            "justify_content": null,
            "justify_items": null,
            "left": null,
            "margin": null,
            "max_height": null,
            "max_width": null,
            "min_height": null,
            "min_width": null,
            "object_fit": null,
            "object_position": null,
            "order": null,
            "overflow": null,
            "overflow_x": null,
            "overflow_y": null,
            "padding": null,
            "right": null,
            "top": null,
            "visibility": null,
            "width": null
          }
        },
        "3f0ab06d79534470b41da2ecdab7fbd0": {
          "model_module": "@jupyter-widgets/controls",
          "model_name": "DescriptionStyleModel",
          "model_module_version": "1.5.0",
          "state": {
            "_model_module": "@jupyter-widgets/controls",
            "_model_module_version": "1.5.0",
            "_model_name": "DescriptionStyleModel",
            "_view_count": null,
            "_view_module": "@jupyter-widgets/base",
            "_view_module_version": "1.2.0",
            "_view_name": "StyleView",
            "description_width": ""
          }
        },
        "e3e8368921ce4f4da6ba5754e071e18d": {
          "model_module": "@jupyter-widgets/controls",
          "model_name": "HBoxModel",
          "model_module_version": "1.5.0",
          "state": {
            "_dom_classes": [],
            "_model_module": "@jupyter-widgets/controls",
            "_model_module_version": "1.5.0",
            "_model_name": "HBoxModel",
            "_view_count": null,
            "_view_module": "@jupyter-widgets/controls",
            "_view_module_version": "1.5.0",
            "_view_name": "HBoxView",
            "box_style": "",
            "children": [
              "IPY_MODEL_c14e7c7b3db34346b70cfe37462fa1df",
              "IPY_MODEL_0fff4e1a32b848768bcae34c118736db",
              "IPY_MODEL_53b50b457fda4838a587fc58ec651e27"
            ],
            "layout": "IPY_MODEL_ba5082f2ce3747dc8c419f1c335d9c55"
          }
        },
        "c14e7c7b3db34346b70cfe37462fa1df": {
          "model_module": "@jupyter-widgets/controls",
          "model_name": "HTMLModel",
          "model_module_version": "1.5.0",
          "state": {
            "_dom_classes": [],
            "_model_module": "@jupyter-widgets/controls",
            "_model_module_version": "1.5.0",
            "_model_name": "HTMLModel",
            "_view_count": null,
            "_view_module": "@jupyter-widgets/controls",
            "_view_module_version": "1.5.0",
            "_view_name": "HTMLView",
            "description": "",
            "description_tooltip": null,
            "layout": "IPY_MODEL_b94cc7de41bf4042a81b6bcbfd19065e",
            "placeholder": "​",
            "style": "IPY_MODEL_1c169a3dfa77419084ea62a6f14d5344",
            "value": "config.json: 100%"
          }
        },
        "0fff4e1a32b848768bcae34c118736db": {
          "model_module": "@jupyter-widgets/controls",
          "model_name": "FloatProgressModel",
          "model_module_version": "1.5.0",
          "state": {
            "_dom_classes": [],
            "_model_module": "@jupyter-widgets/controls",
            "_model_module_version": "1.5.0",
            "_model_name": "FloatProgressModel",
            "_view_count": null,
            "_view_module": "@jupyter-widgets/controls",
            "_view_module_version": "1.5.0",
            "_view_name": "ProgressView",
            "bar_style": "success",
            "description": "",
            "description_tooltip": null,
            "layout": "IPY_MODEL_1232019fdbef44f680501ec64c809f98",
            "max": 1050,
            "min": 0,
            "orientation": "horizontal",
            "style": "IPY_MODEL_9ef3a57dddff473e977d6ce75238e00d",
            "value": 1050
          }
        },
        "53b50b457fda4838a587fc58ec651e27": {
          "model_module": "@jupyter-widgets/controls",
          "model_name": "HTMLModel",
          "model_module_version": "1.5.0",
          "state": {
            "_dom_classes": [],
            "_model_module": "@jupyter-widgets/controls",
            "_model_module_version": "1.5.0",
            "_model_name": "HTMLModel",
            "_view_count": null,
            "_view_module": "@jupyter-widgets/controls",
            "_view_module_version": "1.5.0",
            "_view_name": "HTMLView",
            "description": "",
            "description_tooltip": null,
            "layout": "IPY_MODEL_0681a20ec28948aaaef0aac3c9e7d2e1",
            "placeholder": "​",
            "style": "IPY_MODEL_7e4d215387164de3b0d398434006ed51",
            "value": " 1.05k/1.05k [00:00&lt;00:00, 23.0kB/s]"
          }
        },
        "ba5082f2ce3747dc8c419f1c335d9c55": {
          "model_module": "@jupyter-widgets/base",
          "model_name": "LayoutModel",
          "model_module_version": "1.2.0",
          "state": {
            "_model_module": "@jupyter-widgets/base",
            "_model_module_version": "1.2.0",
            "_model_name": "LayoutModel",
            "_view_count": null,
            "_view_module": "@jupyter-widgets/base",
            "_view_module_version": "1.2.0",
            "_view_name": "LayoutView",
            "align_content": null,
            "align_items": null,
            "align_self": null,
            "border": null,
            "bottom": null,
            "display": null,
            "flex": null,
            "flex_flow": null,
            "grid_area": null,
            "grid_auto_columns": null,
            "grid_auto_flow": null,
            "grid_auto_rows": null,
            "grid_column": null,
            "grid_gap": null,
            "grid_row": null,
            "grid_template_areas": null,
            "grid_template_columns": null,
            "grid_template_rows": null,
            "height": null,
            "justify_content": null,
            "justify_items": null,
            "left": null,
            "margin": null,
            "max_height": null,
            "max_width": null,
            "min_height": null,
            "min_width": null,
            "object_fit": null,
            "object_position": null,
            "order": null,
            "overflow": null,
            "overflow_x": null,
            "overflow_y": null,
            "padding": null,
            "right": null,
            "top": null,
            "visibility": null,
            "width": null
          }
        },
        "b94cc7de41bf4042a81b6bcbfd19065e": {
          "model_module": "@jupyter-widgets/base",
          "model_name": "LayoutModel",
          "model_module_version": "1.2.0",
          "state": {
            "_model_module": "@jupyter-widgets/base",
            "_model_module_version": "1.2.0",
            "_model_name": "LayoutModel",
            "_view_count": null,
            "_view_module": "@jupyter-widgets/base",
            "_view_module_version": "1.2.0",
            "_view_name": "LayoutView",
            "align_content": null,
            "align_items": null,
            "align_self": null,
            "border": null,
            "bottom": null,
            "display": null,
            "flex": null,
            "flex_flow": null,
            "grid_area": null,
            "grid_auto_columns": null,
            "grid_auto_flow": null,
            "grid_auto_rows": null,
            "grid_column": null,
            "grid_gap": null,
            "grid_row": null,
            "grid_template_areas": null,
            "grid_template_columns": null,
            "grid_template_rows": null,
            "height": null,
            "justify_content": null,
            "justify_items": null,
            "left": null,
            "margin": null,
            "max_height": null,
            "max_width": null,
            "min_height": null,
            "min_width": null,
            "object_fit": null,
            "object_position": null,
            "order": null,
            "overflow": null,
            "overflow_x": null,
            "overflow_y": null,
            "padding": null,
            "right": null,
            "top": null,
            "visibility": null,
            "width": null
          }
        },
        "1c169a3dfa77419084ea62a6f14d5344": {
          "model_module": "@jupyter-widgets/controls",
          "model_name": "DescriptionStyleModel",
          "model_module_version": "1.5.0",
          "state": {
            "_model_module": "@jupyter-widgets/controls",
            "_model_module_version": "1.5.0",
            "_model_name": "DescriptionStyleModel",
            "_view_count": null,
            "_view_module": "@jupyter-widgets/base",
            "_view_module_version": "1.2.0",
            "_view_name": "StyleView",
            "description_width": ""
          }
        },
        "1232019fdbef44f680501ec64c809f98": {
          "model_module": "@jupyter-widgets/base",
          "model_name": "LayoutModel",
          "model_module_version": "1.2.0",
          "state": {
            "_model_module": "@jupyter-widgets/base",
            "_model_module_version": "1.2.0",
            "_model_name": "LayoutModel",
            "_view_count": null,
            "_view_module": "@jupyter-widgets/base",
            "_view_module_version": "1.2.0",
            "_view_name": "LayoutView",
            "align_content": null,
            "align_items": null,
            "align_self": null,
            "border": null,
            "bottom": null,
            "display": null,
            "flex": null,
            "flex_flow": null,
            "grid_area": null,
            "grid_auto_columns": null,
            "grid_auto_flow": null,
            "grid_auto_rows": null,
            "grid_column": null,
            "grid_gap": null,
            "grid_row": null,
            "grid_template_areas": null,
            "grid_template_columns": null,
            "grid_template_rows": null,
            "height": null,
            "justify_content": null,
            "justify_items": null,
            "left": null,
            "margin": null,
            "max_height": null,
            "max_width": null,
            "min_height": null,
            "min_width": null,
            "object_fit": null,
            "object_position": null,
            "order": null,
            "overflow": null,
            "overflow_x": null,
            "overflow_y": null,
            "padding": null,
            "right": null,
            "top": null,
            "visibility": null,
            "width": null
          }
        },
        "9ef3a57dddff473e977d6ce75238e00d": {
          "model_module": "@jupyter-widgets/controls",
          "model_name": "ProgressStyleModel",
          "model_module_version": "1.5.0",
          "state": {
            "_model_module": "@jupyter-widgets/controls",
            "_model_module_version": "1.5.0",
            "_model_name": "ProgressStyleModel",
            "_view_count": null,
            "_view_module": "@jupyter-widgets/base",
            "_view_module_version": "1.2.0",
            "_view_name": "StyleView",
            "bar_color": null,
            "description_width": ""
          }
        },
        "0681a20ec28948aaaef0aac3c9e7d2e1": {
          "model_module": "@jupyter-widgets/base",
          "model_name": "LayoutModel",
          "model_module_version": "1.2.0",
          "state": {
            "_model_module": "@jupyter-widgets/base",
            "_model_module_version": "1.2.0",
            "_model_name": "LayoutModel",
            "_view_count": null,
            "_view_module": "@jupyter-widgets/base",
            "_view_module_version": "1.2.0",
            "_view_name": "LayoutView",
            "align_content": null,
            "align_items": null,
            "align_self": null,
            "border": null,
            "bottom": null,
            "display": null,
            "flex": null,
            "flex_flow": null,
            "grid_area": null,
            "grid_auto_columns": null,
            "grid_auto_flow": null,
            "grid_auto_rows": null,
            "grid_column": null,
            "grid_gap": null,
            "grid_row": null,
            "grid_template_areas": null,
            "grid_template_columns": null,
            "grid_template_rows": null,
            "height": null,
            "justify_content": null,
            "justify_items": null,
            "left": null,
            "margin": null,
            "max_height": null,
            "max_width": null,
            "min_height": null,
            "min_width": null,
            "object_fit": null,
            "object_position": null,
            "order": null,
            "overflow": null,
            "overflow_x": null,
            "overflow_y": null,
            "padding": null,
            "right": null,
            "top": null,
            "visibility": null,
            "width": null
          }
        },
        "7e4d215387164de3b0d398434006ed51": {
          "model_module": "@jupyter-widgets/controls",
          "model_name": "DescriptionStyleModel",
          "model_module_version": "1.5.0",
          "state": {
            "_model_module": "@jupyter-widgets/controls",
            "_model_module_version": "1.5.0",
            "_model_name": "DescriptionStyleModel",
            "_view_count": null,
            "_view_module": "@jupyter-widgets/base",
            "_view_module_version": "1.2.0",
            "_view_name": "StyleView",
            "description_width": ""
          }
        },
        "cd99d4c7a3704ccfa7ef71e3bb531d1c": {
          "model_module": "@jupyter-widgets/controls",
          "model_name": "HBoxModel",
          "model_module_version": "1.5.0",
          "state": {
            "_dom_classes": [],
            "_model_module": "@jupyter-widgets/controls",
            "_model_module_version": "1.5.0",
            "_model_name": "HBoxModel",
            "_view_count": null,
            "_view_module": "@jupyter-widgets/controls",
            "_view_module_version": "1.5.0",
            "_view_name": "HBoxView",
            "box_style": "",
            "children": [
              "IPY_MODEL_c76488f899d044c2832c69513e5c44b4",
              "IPY_MODEL_557af4bb9a8b4585988b9c39d83903ec",
              "IPY_MODEL_0c6ff4db8b0c4973a04d1e93e19bfada"
            ],
            "layout": "IPY_MODEL_5d18c628d0274e5299e4a656d33d1986"
          }
        },
        "c76488f899d044c2832c69513e5c44b4": {
          "model_module": "@jupyter-widgets/controls",
          "model_name": "HTMLModel",
          "model_module_version": "1.5.0",
          "state": {
            "_dom_classes": [],
            "_model_module": "@jupyter-widgets/controls",
            "_model_module_version": "1.5.0",
            "_model_name": "HTMLModel",
            "_view_count": null,
            "_view_module": "@jupyter-widgets/controls",
            "_view_module_version": "1.5.0",
            "_view_name": "HTMLView",
            "description": "",
            "description_tooltip": null,
            "layout": "IPY_MODEL_981be692baee46fc93543dd83a7c00de",
            "placeholder": "​",
            "style": "IPY_MODEL_ec01f12e67ea4d3ba7095e12bcfbcf4c",
            "value": "model.safetensors: 100%"
          }
        },
        "557af4bb9a8b4585988b9c39d83903ec": {
          "model_module": "@jupyter-widgets/controls",
          "model_name": "FloatProgressModel",
          "model_module_version": "1.5.0",
          "state": {
            "_dom_classes": [],
            "_model_module": "@jupyter-widgets/controls",
            "_model_module_version": "1.5.0",
            "_model_name": "FloatProgressModel",
            "_view_count": null,
            "_view_module": "@jupyter-widgets/controls",
            "_view_module_version": "1.5.0",
            "_view_name": "ProgressView",
            "bar_style": "success",
            "description": "",
            "description_tooltip": null,
            "layout": "IPY_MODEL_0fbce77b3000499b97282a86b37a6f58",
            "max": 2235452960,
            "min": 0,
            "orientation": "horizontal",
            "style": "IPY_MODEL_76d1b4dd7fb84307934707c811195146",
            "value": 2235452960
          }
        },
        "0c6ff4db8b0c4973a04d1e93e19bfada": {
          "model_module": "@jupyter-widgets/controls",
          "model_name": "HTMLModel",
          "model_module_version": "1.5.0",
          "state": {
            "_dom_classes": [],
            "_model_module": "@jupyter-widgets/controls",
            "_model_module_version": "1.5.0",
            "_model_name": "HTMLModel",
            "_view_count": null,
            "_view_module": "@jupyter-widgets/controls",
            "_view_module_version": "1.5.0",
            "_view_name": "HTMLView",
            "description": "",
            "description_tooltip": null,
            "layout": "IPY_MODEL_f359c64e3a484e9e998fd4a4b96271a7",
            "placeholder": "​",
            "style": "IPY_MODEL_73d8e9e1a8454a05a1270d9d08fcf03a",
            "value": " 2.24G/2.24G [00:41&lt;00:00, 49.2MB/s]"
          }
        },
        "5d18c628d0274e5299e4a656d33d1986": {
          "model_module": "@jupyter-widgets/base",
          "model_name": "LayoutModel",
          "model_module_version": "1.2.0",
          "state": {
            "_model_module": "@jupyter-widgets/base",
            "_model_module_version": "1.2.0",
            "_model_name": "LayoutModel",
            "_view_count": null,
            "_view_module": "@jupyter-widgets/base",
            "_view_module_version": "1.2.0",
            "_view_name": "LayoutView",
            "align_content": null,
            "align_items": null,
            "align_self": null,
            "border": null,
            "bottom": null,
            "display": null,
            "flex": null,
            "flex_flow": null,
            "grid_area": null,
            "grid_auto_columns": null,
            "grid_auto_flow": null,
            "grid_auto_rows": null,
            "grid_column": null,
            "grid_gap": null,
            "grid_row": null,
            "grid_template_areas": null,
            "grid_template_columns": null,
            "grid_template_rows": null,
            "height": null,
            "justify_content": null,
            "justify_items": null,
            "left": null,
            "margin": null,
            "max_height": null,
            "max_width": null,
            "min_height": null,
            "min_width": null,
            "object_fit": null,
            "object_position": null,
            "order": null,
            "overflow": null,
            "overflow_x": null,
            "overflow_y": null,
            "padding": null,
            "right": null,
            "top": null,
            "visibility": null,
            "width": null
          }
        },
        "981be692baee46fc93543dd83a7c00de": {
          "model_module": "@jupyter-widgets/base",
          "model_name": "LayoutModel",
          "model_module_version": "1.2.0",
          "state": {
            "_model_module": "@jupyter-widgets/base",
            "_model_module_version": "1.2.0",
            "_model_name": "LayoutModel",
            "_view_count": null,
            "_view_module": "@jupyter-widgets/base",
            "_view_module_version": "1.2.0",
            "_view_name": "LayoutView",
            "align_content": null,
            "align_items": null,
            "align_self": null,
            "border": null,
            "bottom": null,
            "display": null,
            "flex": null,
            "flex_flow": null,
            "grid_area": null,
            "grid_auto_columns": null,
            "grid_auto_flow": null,
            "grid_auto_rows": null,
            "grid_column": null,
            "grid_gap": null,
            "grid_row": null,
            "grid_template_areas": null,
            "grid_template_columns": null,
            "grid_template_rows": null,
            "height": null,
            "justify_content": null,
            "justify_items": null,
            "left": null,
            "margin": null,
            "max_height": null,
            "max_width": null,
            "min_height": null,
            "min_width": null,
            "object_fit": null,
            "object_position": null,
            "order": null,
            "overflow": null,
            "overflow_x": null,
            "overflow_y": null,
            "padding": null,
            "right": null,
            "top": null,
            "visibility": null,
            "width": null
          }
        },
        "ec01f12e67ea4d3ba7095e12bcfbcf4c": {
          "model_module": "@jupyter-widgets/controls",
          "model_name": "DescriptionStyleModel",
          "model_module_version": "1.5.0",
          "state": {
            "_model_module": "@jupyter-widgets/controls",
            "_model_module_version": "1.5.0",
            "_model_name": "DescriptionStyleModel",
            "_view_count": null,
            "_view_module": "@jupyter-widgets/base",
            "_view_module_version": "1.2.0",
            "_view_name": "StyleView",
            "description_width": ""
          }
        },
        "0fbce77b3000499b97282a86b37a6f58": {
          "model_module": "@jupyter-widgets/base",
          "model_name": "LayoutModel",
          "model_module_version": "1.2.0",
          "state": {
            "_model_module": "@jupyter-widgets/base",
            "_model_module_version": "1.2.0",
            "_model_name": "LayoutModel",
            "_view_count": null,
            "_view_module": "@jupyter-widgets/base",
            "_view_module_version": "1.2.0",
            "_view_name": "LayoutView",
            "align_content": null,
            "align_items": null,
            "align_self": null,
            "border": null,
            "bottom": null,
            "display": null,
            "flex": null,
            "flex_flow": null,
            "grid_area": null,
            "grid_auto_columns": null,
            "grid_auto_flow": null,
            "grid_auto_rows": null,
            "grid_column": null,
            "grid_gap": null,
            "grid_row": null,
            "grid_template_areas": null,
            "grid_template_columns": null,
            "grid_template_rows": null,
            "height": null,
            "justify_content": null,
            "justify_items": null,
            "left": null,
            "margin": null,
            "max_height": null,
            "max_width": null,
            "min_height": null,
            "min_width": null,
            "object_fit": null,
            "object_position": null,
            "order": null,
            "overflow": null,
            "overflow_x": null,
            "overflow_y": null,
            "padding": null,
            "right": null,
            "top": null,
            "visibility": null,
            "width": null
          }
        },
        "76d1b4dd7fb84307934707c811195146": {
          "model_module": "@jupyter-widgets/controls",
          "model_name": "ProgressStyleModel",
          "model_module_version": "1.5.0",
          "state": {
            "_model_module": "@jupyter-widgets/controls",
            "_model_module_version": "1.5.0",
            "_model_name": "ProgressStyleModel",
            "_view_count": null,
            "_view_module": "@jupyter-widgets/base",
            "_view_module_version": "1.2.0",
            "_view_name": "StyleView",
            "bar_color": null,
            "description_width": ""
          }
        },
        "f359c64e3a484e9e998fd4a4b96271a7": {
          "model_module": "@jupyter-widgets/base",
          "model_name": "LayoutModel",
          "model_module_version": "1.2.0",
          "state": {
            "_model_module": "@jupyter-widgets/base",
            "_model_module_version": "1.2.0",
            "_model_name": "LayoutModel",
            "_view_count": null,
            "_view_module": "@jupyter-widgets/base",
            "_view_module_version": "1.2.0",
            "_view_name": "LayoutView",
            "align_content": null,
            "align_items": null,
            "align_self": null,
            "border": null,
            "bottom": null,
            "display": null,
            "flex": null,
            "flex_flow": null,
            "grid_area": null,
            "grid_auto_columns": null,
            "grid_auto_flow": null,
            "grid_auto_rows": null,
            "grid_column": null,
            "grid_gap": null,
            "grid_row": null,
            "grid_template_areas": null,
            "grid_template_columns": null,
            "grid_template_rows": null,
            "height": null,
            "justify_content": null,
            "justify_items": null,
            "left": null,
            "margin": null,
            "max_height": null,
            "max_width": null,
            "min_height": null,
            "min_width": null,
            "object_fit": null,
            "object_position": null,
            "order": null,
            "overflow": null,
            "overflow_x": null,
            "overflow_y": null,
            "padding": null,
            "right": null,
            "top": null,
            "visibility": null,
            "width": null
          }
        },
        "73d8e9e1a8454a05a1270d9d08fcf03a": {
          "model_module": "@jupyter-widgets/controls",
          "model_name": "DescriptionStyleModel",
          "model_module_version": "1.5.0",
          "state": {
            "_model_module": "@jupyter-widgets/controls",
            "_model_module_version": "1.5.0",
            "_model_name": "DescriptionStyleModel",
            "_view_count": null,
            "_view_module": "@jupyter-widgets/base",
            "_view_module_version": "1.2.0",
            "_view_name": "StyleView",
            "description_width": ""
          }
        }
      }
    }
  },
  "cells": [
    {
      "cell_type": "markdown",
      "metadata": {
        "id": "view-in-github",
        "colab_type": "text"
      },
      "source": [
        "<a href=\"https://colab.research.google.com/github/carobs9/machine-learning-basics/blob/main/el_amante_jap_analysis.ipynb\" target=\"_parent\"><img src=\"https://colab.research.google.com/assets/colab-badge.svg\" alt=\"Open In Colab\"/></a>"
      ]
    },
    {
      "cell_type": "markdown",
      "source": [
        "Resources:\n",
        "\n",
        "http://librarycarpentry.org/lc-tdm/12-collocations/index.html\n",
        "\n",
        "https://medium.com/@finalfire/one-hundred-years-of-solitude-how-i-analyzed-my-favorite-book-6c20456480c8\n",
        "\n",
        "https://becominghuman.ai/nlp-for-beginners-using-nltk-f58ec22005cd\n",
        "\n",
        "https://towardsdatascience.com/superior-person-name-recognition-with-pre-built-google-bert-e6215186eae0\n",
        "\n",
        "https://spacy.io/usage/linguistic-features#mappings-exceptions"
      ],
      "metadata": {
        "id": "1EO0djK4Pq2v"
      }
    },
    {
      "cell_type": "code",
      "source": [
        "try:\n",
        "    from google.colab import drive\n",
        "    drive.mount('/content/drive')\n",
        "    IN_COLAB = True\n",
        "except:\n",
        "    IN_COLAB = False"
      ],
      "metadata": {
        "colab": {
          "base_uri": "https://localhost:8080/"
        },
        "id": "Zf68yg5xd7P8",
        "outputId": "00c11f5b-38c2-48c0-da50-f52de20eff9b"
      },
      "execution_count": 1,
      "outputs": [
        {
          "output_type": "stream",
          "name": "stdout",
          "text": [
            "Mounted at /content/drive\n"
          ]
        }
      ]
    },
    {
      "cell_type": "code",
      "source": [
        "%cd /content/drive/MyDrive/NLP/"
      ],
      "metadata": {
        "colab": {
          "base_uri": "https://localhost:8080/"
        },
        "id": "I0LzSEWoV5qP",
        "outputId": "dc0c123a-519f-40f7-b36c-b28d13816546"
      },
      "execution_count": 2,
      "outputs": [
        {
          "output_type": "stream",
          "name": "stdout",
          "text": [
            "[Errno 2] No such file or directory: '/content/drive/MyDrive/NLP/'\n",
            "/content\n"
          ]
        }
      ]
    },
    {
      "cell_type": "code",
      "source": [
        "!git init el_amante_japones_analysis"
      ],
      "metadata": {
        "colab": {
          "base_uri": "https://localhost:8080/"
        },
        "id": "ftJl7owIfGYn",
        "outputId": "7893560d-f370-4748-e4f1-92a457067eb1"
      },
      "execution_count": 3,
      "outputs": [
        {
          "output_type": "stream",
          "name": "stdout",
          "text": [
            "\u001b[33mhint: Using 'master' as the name for the initial branch. This default branch name\u001b[m\n",
            "\u001b[33mhint: is subject to change. To configure the initial branch name to use in all\u001b[m\n",
            "\u001b[33mhint: of your new repositories, which will suppress this warning, call:\u001b[m\n",
            "\u001b[33mhint: \u001b[m\n",
            "\u001b[33mhint: \tgit config --global init.defaultBranch <name>\u001b[m\n",
            "\u001b[33mhint: \u001b[m\n",
            "\u001b[33mhint: Names commonly chosen instead of 'master' are 'main', 'trunk' and\u001b[m\n",
            "\u001b[33mhint: 'development'. The just-created branch can be renamed via this command:\u001b[m\n",
            "\u001b[33mhint: \u001b[m\n",
            "\u001b[33mhint: \tgit branch -m <name>\u001b[m\n",
            "Initialized empty Git repository in /content/el_amante_japones_analysis/.git/\n"
          ]
        }
      ]
    },
    {
      "cell_type": "code",
      "source": [
        "%cd el_amante_japones_analysis"
      ],
      "metadata": {
        "colab": {
          "base_uri": "https://localhost:8080/"
        },
        "id": "lKnA1ny8fUPt",
        "outputId": "f4d9097f-254f-4185-eb35-fcecad2e243f"
      },
      "execution_count": 4,
      "outputs": [
        {
          "output_type": "stream",
          "name": "stdout",
          "text": [
            "/content/el_amante_japones_analysis\n"
          ]
        }
      ]
    },
    {
      "cell_type": "code",
      "source": [
        "%ls -a"
      ],
      "metadata": {
        "id": "0V9SMA0MfZdl",
        "outputId": "c8a3a839-939e-4b6f-edc9-811645eb6346",
        "colab": {
          "base_uri": "https://localhost:8080/"
        }
      },
      "execution_count": 5,
      "outputs": [
        {
          "output_type": "stream",
          "name": "stdout",
          "text": [
            "\u001b[0m\u001b[01;34m.\u001b[0m/  \u001b[01;34m..\u001b[0m/  \u001b[01;34m.git\u001b[0m/\n"
          ]
        }
      ]
    },
    {
      "cell_type": "code",
      "source": [
        "%%capture\n",
        "!pip install PyPDF2\n",
        "!pip install datasets\n",
        "!pip install torch\n",
        "!pip install transformers==4.12.3\n",
        "!pip install datasets"
      ],
      "metadata": {
        "id": "MHVu5cfwdlQi"
      },
      "execution_count": 6,
      "outputs": []
    },
    {
      "cell_type": "code",
      "source": [
        "import numpy as np\n",
        "import matplotlib.pyplot as plt\n",
        "import PyPDF2\n",
        "import regex as re\n",
        "import unicodedata\n",
        "import nltk\n",
        "import pandas as pd\n",
        "from nltk.stem import WordNetLemmatizer\n",
        "from nltk.stem import SnowballStemmer\n",
        "nltk.download('punkt')\n",
        "nltk.download('stopwords')\n",
        "nltk.download('wordnet')\n",
        "from nltk import WordNetLemmatizer\n",
        "# Other imports\n",
        "from collections import Counter\n",
        "from sklearn.feature_extraction.text import TfidfVectorizer, CountVectorizer\n",
        "from sklearn.decomposition import NMF, LatentDirichletAllocation\n",
        "from matplotlib import pyplot as plt\n",
        "%matplotlib inline\n",
        "nltk.download('averaged_perceptron_tagger')\n",
        "nltk.download('stopwords')\n",
        "nltk.download('punkt')\n",
        "from nltk.tokenize import word_tokenize\n",
        "snowball_stemmer = SnowballStemmer('spanish')"
      ],
      "metadata": {
        "id": "FMVtfwmijej9",
        "colab": {
          "base_uri": "https://localhost:8080/"
        },
        "outputId": "a1f19ba9-e6f2-4711-b37b-a33aca73ebbb"
      },
      "execution_count": 7,
      "outputs": [
        {
          "output_type": "stream",
          "name": "stderr",
          "text": [
            "[nltk_data] Downloading package punkt to /root/nltk_data...\n",
            "[nltk_data]   Unzipping tokenizers/punkt.zip.\n",
            "[nltk_data] Downloading package stopwords to /root/nltk_data...\n",
            "[nltk_data]   Unzipping corpora/stopwords.zip.\n",
            "[nltk_data] Downloading package wordnet to /root/nltk_data...\n",
            "[nltk_data] Downloading package averaged_perceptron_tagger to\n",
            "[nltk_data]     /root/nltk_data...\n",
            "[nltk_data]   Unzipping taggers/averaged_perceptron_tagger.zip.\n",
            "[nltk_data] Downloading package stopwords to /root/nltk_data...\n",
            "[nltk_data]   Package stopwords is already up-to-date!\n",
            "[nltk_data] Downloading package punkt to /root/nltk_data...\n",
            "[nltk_data]   Package punkt is already up-to-date!\n"
          ]
        }
      ]
    },
    {
      "cell_type": "code",
      "source": [
        "# @title Extracting Text\n"
      ],
      "metadata": {
        "id": "C82DfNtVvGRh"
      },
      "execution_count": 8,
      "outputs": []
    },
    {
      "cell_type": "code",
      "execution_count": 16,
      "metadata": {
        "id": "Kwdi4ee9deuj"
      },
      "outputs": [],
      "source": [
        "def extract_text_from_pdf(pdf_file_path):\n",
        "    text = \"\"\n",
        "    with open(pdf_file_path, \"rb\") as pdf_file:\n",
        "        pdf_reader = PyPDF2.PdfReader(pdf_file)\n",
        "\n",
        "        num_pages = len(pdf_reader.pages)\n",
        "\n",
        "        # Loop through all pages and extract text\n",
        "        for page_num in range(num_pages):\n",
        "            page = pdf_reader.pages[page_num]\n",
        "            text += page.extract_text()\n",
        "\n",
        "    return text\n",
        "\n",
        "# Example usage:\n",
        "pdf_file_path = \"/content/drive/MyDrive/el_amante_japones/el-amante-japones-isabel-allende.pdf\"\n",
        "extracted_text = extract_text_from_pdf(pdf_file_path)"
      ]
    },
    {
      "cell_type": "code",
      "source": [
        "output_file_path = \"/content/drive/MyDrive/el_amante_japones/extracted_text.txt\"\n",
        "def save_text_to_file(text, output_file_path):\n",
        "    with open(output_file_path, \"w\", encoding=\"utf-8\") as output_file:\n",
        "        output_file.write(text)\n",
        "# Save the extracted text to a file\n",
        "save_text_to_file(extracted_text, output_file_path)"
      ],
      "metadata": {
        "id": "TsVPMTYCW2Q2"
      },
      "execution_count": 13,
      "outputs": []
    },
    {
      "cell_type": "code",
      "source": [
        "pdf_file_path = \"/content/drive/MyDrive/el_amante_japones/el-amante-japones-isabel-allende.pdf\"\n",
        "def read_text_from_file(pdf_file_path):\n",
        "    with open(pdf_file_path, \"r\", encoding=\"utf-8\") as input_file:\n",
        "        return input_file.read()\n",
        "\n",
        "# Read the text back from the file\n",
        "extracted_text = read_text_from_file(pdf_file_path)"
      ],
      "metadata": {
        "id": "0ukc_JjmW_eR",
        "colab": {
          "base_uri": "https://localhost:8080/",
          "height": 336
        },
        "outputId": "088dc8ab-b37f-4ffe-c1eb-19777eb9ce41"
      },
      "execution_count": 17,
      "outputs": [
        {
          "output_type": "error",
          "ename": "UnicodeDecodeError",
          "evalue": "'utf-8' codec can't decode byte 0xe2 in position 10: invalid continuation byte",
          "traceback": [
            "\u001b[0;31m---------------------------------------------------------------------------\u001b[0m",
            "\u001b[0;31mUnicodeDecodeError\u001b[0m                        Traceback (most recent call last)",
            "\u001b[0;32m<ipython-input-17-4ccb570cd273>\u001b[0m in \u001b[0;36m<cell line: 7>\u001b[0;34m()\u001b[0m\n\u001b[1;32m      5\u001b[0m \u001b[0;34m\u001b[0m\u001b[0m\n\u001b[1;32m      6\u001b[0m \u001b[0;31m# Read the text back from the file\u001b[0m\u001b[0;34m\u001b[0m\u001b[0;34m\u001b[0m\u001b[0m\n\u001b[0;32m----> 7\u001b[0;31m \u001b[0mextracted_text\u001b[0m \u001b[0;34m=\u001b[0m \u001b[0mread_text_from_file\u001b[0m\u001b[0;34m(\u001b[0m\u001b[0mpdf_file_path\u001b[0m\u001b[0;34m)\u001b[0m\u001b[0;34m\u001b[0m\u001b[0;34m\u001b[0m\u001b[0m\n\u001b[0m",
            "\u001b[0;32m<ipython-input-17-4ccb570cd273>\u001b[0m in \u001b[0;36mread_text_from_file\u001b[0;34m(pdf_file_path)\u001b[0m\n\u001b[1;32m      2\u001b[0m \u001b[0;32mdef\u001b[0m \u001b[0mread_text_from_file\u001b[0m\u001b[0;34m(\u001b[0m\u001b[0mpdf_file_path\u001b[0m\u001b[0;34m)\u001b[0m\u001b[0;34m:\u001b[0m\u001b[0;34m\u001b[0m\u001b[0;34m\u001b[0m\u001b[0m\n\u001b[1;32m      3\u001b[0m     \u001b[0;32mwith\u001b[0m \u001b[0mopen\u001b[0m\u001b[0;34m(\u001b[0m\u001b[0mpdf_file_path\u001b[0m\u001b[0;34m,\u001b[0m \u001b[0;34m\"r\"\u001b[0m\u001b[0;34m,\u001b[0m \u001b[0mencoding\u001b[0m\u001b[0;34m=\u001b[0m\u001b[0;34m\"utf-8\"\u001b[0m\u001b[0;34m)\u001b[0m \u001b[0;32mas\u001b[0m \u001b[0minput_file\u001b[0m\u001b[0;34m:\u001b[0m\u001b[0;34m\u001b[0m\u001b[0;34m\u001b[0m\u001b[0m\n\u001b[0;32m----> 4\u001b[0;31m         \u001b[0;32mreturn\u001b[0m \u001b[0minput_file\u001b[0m\u001b[0;34m.\u001b[0m\u001b[0mread\u001b[0m\u001b[0;34m(\u001b[0m\u001b[0;34m)\u001b[0m\u001b[0;34m\u001b[0m\u001b[0;34m\u001b[0m\u001b[0m\n\u001b[0m\u001b[1;32m      5\u001b[0m \u001b[0;34m\u001b[0m\u001b[0m\n\u001b[1;32m      6\u001b[0m \u001b[0;31m# Read the text back from the file\u001b[0m\u001b[0;34m\u001b[0m\u001b[0;34m\u001b[0m\u001b[0m\n",
            "\u001b[0;32m/usr/lib/python3.10/codecs.py\u001b[0m in \u001b[0;36mdecode\u001b[0;34m(self, input, final)\u001b[0m\n\u001b[1;32m    320\u001b[0m         \u001b[0;31m# decode input (taking the buffer into account)\u001b[0m\u001b[0;34m\u001b[0m\u001b[0;34m\u001b[0m\u001b[0m\n\u001b[1;32m    321\u001b[0m         \u001b[0mdata\u001b[0m \u001b[0;34m=\u001b[0m \u001b[0mself\u001b[0m\u001b[0;34m.\u001b[0m\u001b[0mbuffer\u001b[0m \u001b[0;34m+\u001b[0m \u001b[0minput\u001b[0m\u001b[0;34m\u001b[0m\u001b[0;34m\u001b[0m\u001b[0m\n\u001b[0;32m--> 322\u001b[0;31m         \u001b[0;34m(\u001b[0m\u001b[0mresult\u001b[0m\u001b[0;34m,\u001b[0m \u001b[0mconsumed\u001b[0m\u001b[0;34m)\u001b[0m \u001b[0;34m=\u001b[0m \u001b[0mself\u001b[0m\u001b[0;34m.\u001b[0m\u001b[0m_buffer_decode\u001b[0m\u001b[0;34m(\u001b[0m\u001b[0mdata\u001b[0m\u001b[0;34m,\u001b[0m \u001b[0mself\u001b[0m\u001b[0;34m.\u001b[0m\u001b[0merrors\u001b[0m\u001b[0;34m,\u001b[0m \u001b[0mfinal\u001b[0m\u001b[0;34m)\u001b[0m\u001b[0;34m\u001b[0m\u001b[0;34m\u001b[0m\u001b[0m\n\u001b[0m\u001b[1;32m    323\u001b[0m         \u001b[0;31m# keep undecoded input until the next call\u001b[0m\u001b[0;34m\u001b[0m\u001b[0;34m\u001b[0m\u001b[0m\n\u001b[1;32m    324\u001b[0m         \u001b[0mself\u001b[0m\u001b[0;34m.\u001b[0m\u001b[0mbuffer\u001b[0m \u001b[0;34m=\u001b[0m \u001b[0mdata\u001b[0m\u001b[0;34m[\u001b[0m\u001b[0mconsumed\u001b[0m\u001b[0;34m:\u001b[0m\u001b[0;34m]\u001b[0m\u001b[0;34m\u001b[0m\u001b[0;34m\u001b[0m\u001b[0m\n",
            "\u001b[0;31mUnicodeDecodeError\u001b[0m: 'utf-8' codec can't decode byte 0xe2 in position 10: invalid continuation byte"
          ]
        }
      ]
    },
    {
      "cell_type": "code",
      "source": [
        "# @title Preprocessing Text\n"
      ],
      "metadata": {
        "id": "oKa6ckQ5vMua"
      },
      "execution_count": null,
      "outputs": []
    },
    {
      "cell_type": "code",
      "source": [
        "text_lower = extracted_text.lower()\n",
        "text_normalized = unicodedata.normalize('NFKD', text_lower).encode('ascii', 'ignore').decode('utf-8')\n",
        "filtered_text = re.sub('[^A-Za-z0-9\\s]', ' ', text_normalized)\n",
        "#filtered_text = re.sub('[^A-Za-z0-9áéíóúÁÉÍÓÚñÑüÜ\\s]', ' ',text_lower)\n",
        "tokens = nltk.word_tokenize(filtered_text)\n",
        "tokens_no_stopwords = [word for word in tokens if word not in nltk.corpus.stopwords.words('spanish')]\n",
        "stemmed_words = [snowball_stemmer.stem(word) for word in tokens_no_stopwords]\n"
      ],
      "metadata": {
        "id": "6qpwq1bvsCR2"
      },
      "execution_count": 18,
      "outputs": []
    },
    {
      "cell_type": "code",
      "source": [
        "# @title Getting Most Common Stemmed Tokens\n"
      ],
      "metadata": {
        "id": "_XNJLewyvQlL"
      },
      "execution_count": 19,
      "outputs": []
    },
    {
      "cell_type": "code",
      "source": [
        "freq = nltk.FreqDist(stemmed_words)\n",
        "print(freq.most_common(200))"
      ],
      "metadata": {
        "colab": {
          "base_uri": "https://localhost:8080/"
        },
        "id": "J_ymkVyAs1pD",
        "outputId": "57466e66-a188-467f-bc94-8a98199f2fa3"
      },
      "execution_count": 20,
      "outputs": [
        {
          "output_type": "stream",
          "name": "stdout",
          "text": [
            "[('habi', 747), ('alma', 566), ('mas', 382), ('irin', 342), ('anos', 276), ('ichimei', 253), ('pas', 209), ('sol', 208), ('nathaniel', 201), ('si', 191), ('cas', 186), ('belasc', 182), ('seth', 167), ('teni', 159), ('podi', 153), ('dos', 149), ('vid', 147), ('mism', 141), ('famili', 139), ('despu', 135), ('lleg', 135), ('ser', 133), ('vez', 128), ('hac', 126), ('hous', 120), ('hij', 119), ('lark', 116), ('tiemp', 112), ('hombr', 110), ('siempr', 109), ('primer', 108), ('isaac', 108), ('man', 107), ('padr', 106), ('llev', 106), ('mes', 106), ('nin', 105), ('amor', 104), ('dij', 103), ('pregunt', 99), ('abuel', 99), ('esper', 98), ('tan', 97), ('dia', 96), ('nadi', 95), ('nunc', 95), ('viv', 94), ('fukud', 93), ('dej', 92), ('llam', 91), ('iba', 91), ('trabaj', 89), ('qued', 89), ('hor', 88), ('lenny', 88), ('buen', 85), ('habl', 83), ('haci', 83), ('unic', 82), ('pud', 82), ('noch', 82), ('lilli', 82), ('muj', 81), ('tres', 80), ('pued', 79), ('part', 78), ('habri', 77), ('tard', 75), ('taka', 75), ('ver', 73), ('debi', 73), ('ayud', 71), ('moment', 71), ('vist', 71), ('tambi', 70), ('men', 70), ('pareci', 67), ('seri', 67), ('vec', 67), ('junt', 67), ('san', 66), ('nombr', 66), ('prim', 66), ('cad', 65), ('pens', 65), ('mejor', 65), ('tom', 65), ('mar', 65), ('trat', 64), ('cam', 63), ('herman', 63), ('sid', 62), ('seman', 61), ('par', 61), ('mientr', 61), ('vari', 60), ('nuev', 60), ('dias', 60), ('encontr', 59), ('segur', 59), ('sab', 59), ('sabi', 57), ('cambi', 57), ('hech', 57), ('ningun', 55), ('madr', 55), ('megumi', 55), ('sal', 54), ('cont', 54), ('mund', 54), ('francisc', 53), ('bien', 53), ('amig', 53), ('acompan', 52), ('gent', 52), ('libr', 52), ('perd', 52), ('entonc', 52), ('japon', 52), ('baj', 51), ('cart', 51), ('explic', 51), ('empez', 51), ('person', 50), ('rest', 50), ('cre', 50), ('larg', 50), ('asi', 49), ('termin', 49), ('jardin', 49), ('blanc', 48), ('hiz', 48), ('jov', 48), ('mal', 48), ('falt', 48), ('muert', 48), ('present', 48), ('ojos', 48), ('diner', 48), ('cliff', 48), ('larry', 48), ('segund', 47), ('form', 47), ('busc', 47), ('result', 46), ('dec', 46), ('estudi', 46), ('sin', 46), ('ultim', 46), ('cabez', 46), ('samuel', 46), ('quier', 45), ('habit', 45), ('pes', 45), ('fin', 45), ('poc', 44), ('medi', 44), ('puert', 44), ('hab', 44), ('tal', 44), ('color', 44), ('com', 43), ('emple', 43), ('casi', 43), ('imagin', 42), ('edad', 42), ('conoc', 42), ('call', 42), ('guerr', 42), ('aunqu', 42), ('sent', 42), ('niet', 42), ('cuent', 42), ('tod', 41), ('alli', 41), ('mujer', 41), ('conoci', 41), ('senti', 41), ('viaj', 41), ('apen', 41), ('fotografi', 41), ('separ', 41), ('heidek', 41), ('ancian', 40), ('deb', 40), ('todavi', 40), ('cathy', 40), ('podri', 40), ('comun', 39), ('muchach', 39), ('cuatr', 39), ('viej', 39), ('braz', 39), ('dolor', 39), ('volvi', 39), ('pus', 39), ('pront', 38), ('camp', 38), ('propi', 38), ('negr', 38)]\n"
          ]
        }
      ]
    },
    {
      "cell_type": "code",
      "source": [
        "# @title Word Counts (Uncleaned and Cleaned Text)\n"
      ],
      "metadata": {
        "id": "AJXcqbpHvbz9"
      },
      "execution_count": 21,
      "outputs": []
    },
    {
      "cell_type": "code",
      "source": [
        "def word_count(text):\n",
        "  if type(text) == list:\n",
        "        text = ' '.join(text)\n",
        "  words = text.split()\n",
        "  # Create an empty dictionary\n",
        "  d = dict()\n",
        "\n",
        "  # Iterate over each word in line\n",
        "  for word in words:\n",
        "      word = word.lower()\n",
        "        # Check if the word is already in dictionary\n",
        "      if word in d:\n",
        "            # Increment count of word by 1\n",
        "          d[word] = d[word] + 1\n",
        "      else:\n",
        "            # Add the word to dictionary with count 1\n",
        "          d[word] = 1\n",
        "  # Print the contents of dictionary\n",
        "  sorted_d = sorted(d.items(), key=lambda x:x[1], reverse=True)\n",
        "  #return(sorted_d)\n",
        "\n",
        "  # Using zip function and Unpacking the values\n",
        "  word_used, occurrence = zip(*sorted_d)\n",
        "\n",
        "# printing the scatter values\n",
        "#print(word_used)\n",
        "#print(occurrence)\n",
        "\n",
        "  plt.scatter(word_used[0:50], occurrence[0:50])\n",
        "  plt.xticks(rotation = 90)\n",
        "  plt.title('Top 50 Used Words and Occurence')\n",
        "  plt.show()"
      ],
      "metadata": {
        "id": "6qG5hhnjhbJh"
      },
      "execution_count": 22,
      "outputs": []
    },
    {
      "cell_type": "code",
      "source": [
        "word_count(extracted_text)"
      ],
      "metadata": {
        "colab": {
          "base_uri": "https://localhost:8080/",
          "height": 503
        },
        "id": "qgS3FJ4be06M",
        "outputId": "caab818d-767a-4e2b-c422-a834837fd778"
      },
      "execution_count": 23,
      "outputs": [
        {
          "output_type": "display_data",
          "data": {
            "text/plain": [
              "<Figure size 640x480 with 1 Axes>"
            ],
            "image/png": "[encoded data removed]"
          },
          "metadata": {}
        }
      ]
    },
    {
      "cell_type": "code",
      "source": [
        "def word_count_clean(text):\n",
        "# Tokenize the text into words\n",
        "  words = word_tokenize(text.lower())\n",
        "# Remove stopwords\n",
        "  stop_words = nltk.corpus.stopwords.words('spanish')\n",
        "  filtered_words = [word for word in words if word.isalpha() and word not in stop_words]\n",
        "\n",
        "# Create an empty dictionary\n",
        "  d = dict()\n",
        "# Iterate over each word in line\n",
        "  for word in filtered_words:\n",
        "      word = word.lower()\n",
        "        # Check if the word is already in dictionary\n",
        "      if word in d:\n",
        "            # Increment count of word by 1\n",
        "          d[word] = d[word] + 1\n",
        "      else:\n",
        "            # Add the word to dictionary with count 1\n",
        "          d[word] = 1\n",
        "  # Print the contents of dictionary\n",
        "  sorted_d = sorted(d.items(), key=lambda x:x[1], reverse=True)\n",
        "  #return(sorted_d)\n",
        "\n",
        "  # Using zip function and Unpacking the values\n",
        "  word_used, occurrence = zip(*sorted_d)\n",
        "\n",
        "# printing the scatter values\n",
        "#print(word_used)\n",
        "#print(occurrence)\n",
        "\n",
        "  plt.scatter(word_used[0:50], occurrence[0:50])\n",
        "  plt.xticks(rotation = 90)\n",
        "  plt.title('Top 50 Used Words and Occurence (No Stopwords)')\n",
        "  plt.show()"
      ],
      "metadata": {
        "id": "4RlvSUFpTXYe"
      },
      "execution_count": 24,
      "outputs": []
    },
    {
      "cell_type": "code",
      "source": [
        "word_count_clean(extracted_text)"
      ],
      "metadata": {
        "colab": {
          "base_uri": "https://localhost:8080/",
          "height": 503
        },
        "id": "yVWuLNjaUEwK",
        "outputId": "24eceb07-c472-47db-8d7f-2733d1a0da29"
      },
      "execution_count": 25,
      "outputs": [
        {
          "output_type": "display_data",
          "data": {
            "text/plain": [
              "<Figure size 640x480 with 1 Axes>"
            ],
            "image/png": "[encoded data removed]"
          },
          "metadata": {}
        }
      ]
    },
    {
      "cell_type": "code",
      "source": [
        "word_count(stemmed_words)"
      ],
      "metadata": {
        "colab": {
          "base_uri": "https://localhost:8080/",
          "height": 503
        },
        "id": "Hw82PvUwwtYV",
        "outputId": "d461155b-18f2-40f6-fb9b-0a58cb45041f"
      },
      "execution_count": 26,
      "outputs": [
        {
          "output_type": "display_data",
          "data": {
            "text/plain": [
              "<Figure size 640x480 with 1 Axes>"
            ],
            "image/png": "[encoded data removed]"
          },
          "metadata": {}
        }
      ]
    },
    {
      "cell_type": "code",
      "source": [
        "# @title More Analysis (Lexical Dispersion, Collocations)\n"
      ],
      "metadata": {
        "id": "2SK2CsSLyl1R"
      },
      "execution_count": 27,
      "outputs": []
    },
    {
      "cell_type": "code",
      "source": [
        "ntext = nltk.Text(tokens)\n",
        "ntext.dispersion_plot(['tiempo', 'guerra', 'amor', 'vida', 'vejez', 'muerte'])"
      ],
      "metadata": {
        "id": "Q-S50NV3rpMG",
        "colab": {
          "base_uri": "https://localhost:8080/",
          "height": 472
        },
        "outputId": "40443f2f-248b-44ef-9234-6244074cada9"
      },
      "execution_count": 28,
      "outputs": [
        {
          "output_type": "display_data",
          "data": {
            "text/plain": [
              "<Figure size 640x480 with 1 Axes>"
            ],
            "image/png": "[encoded data removed]"
          },
          "metadata": {}
        }
      ]
    },
    {
      "cell_type": "code",
      "source": [
        "ntext.collocations(window_size=2, num=30)"
      ],
      "metadata": {
        "colab": {
          "base_uri": "https://localhost:8080/"
        },
        "id": "yv-7P8lSxjEM",
        "outputId": "1d7de1a6-f464-48f0-c25d-2d7dc53bbeba"
      },
      "execution_count": 29,
      "outputs": [
        {
          "output_type": "stream",
          "name": "stdout",
          "text": [
            "lark house; san francisco; sea cliff; isaac belasco; hans voigt; mas\n",
            "tarde; catherine hope; jacques devine; lenny beal; estados unidos; los\n",
            "fukuda; sus padres; boyd anderson; los ojos; habia sido; tal vez;\n",
            "irina bazili; una vez; primera vez; tia lillian; lupita farias; habia\n",
            "visto; ron wilkins; con una; cada uno; habia hecho; los belasco; sus\n",
            "abuelos; miss honeycomb; vera neumann\n"
          ]
        }
      ]
    },
    {
      "cell_type": "code",
      "source": [
        "# @title Characters Analysis"
      ],
      "metadata": {
        "id": "iRc1NY4w1zkW"
      },
      "execution_count": 30,
      "outputs": []
    },
    {
      "cell_type": "code",
      "source": [
        "for name in ('Alma', 'Ichimei', 'Nathaniel', 'Seth', 'Irina', 'Isaac', 'Lenny', 'Lillian'):\n",
        "    print('{}:'.format(name), freq.get(name.lower()))"
      ],
      "metadata": {
        "colab": {
          "base_uri": "https://localhost:8080/"
        },
        "id": "TsLueOxt0G-S",
        "outputId": "ea07c34d-ac6f-4803-f71a-8be962fa7665"
      },
      "execution_count": 31,
      "outputs": [
        {
          "output_type": "stream",
          "name": "stdout",
          "text": [
            "Alma: 566\n",
            "Ichimei: 253\n",
            "Nathaniel: 201\n",
            "Seth: 167\n",
            "Irina: None\n",
            "Isaac: 108\n",
            "Lenny: 88\n",
            "Lillian: None\n"
          ]
        }
      ]
    },
    {
      "cell_type": "code",
      "source": [
        "# @title Fine Tuning NER Spacy Model with my Own Custom Data\n"
      ],
      "metadata": {
        "id": "EGRBcIaoOXA2"
      },
      "execution_count": 32,
      "outputs": []
    },
    {
      "cell_type": "code",
      "source": [
        "# training data which might be useful in the future for fine tuning\n",
        "TRAIN_DATA = [\n",
        "    ('Quién es Ichimei?', {\n",
        "        'entities': [(9, 15, 'PERSON')]\n",
        "    }),\n",
        "     ('Quién es Isaac Belasco?', {\n",
        "        'entities': [(9, 21, 'PERSON')]\n",
        "    }),\n",
        "    ('Me gustan Lark House and San Francisco.', {\n",
        "        'entities': [(10, 19, 'LOC'), (25, 37, 'LOC')]\n",
        "    }),\n",
        "    ('A Alma le gusta comer?', {\n",
        "        'entities': [(2, 5, 'PERSON')]\n",
        "    }),\n",
        "    ('Además somos Seth y Lillian', {\n",
        "        'entities': [(13, 16, 'PERSON'), (20, 26, 'PERSON')]\n",
        "    }),\n",
        "]"
      ],
      "metadata": {
        "id": "vFTzHLgDPFvO"
      },
      "execution_count": 33,
      "outputs": []
    },
    {
      "cell_type": "code",
      "source": [
        "import json\n",
        "\n",
        "with open(\"/content/drive/MyDrive/el_amante_japones/annotations.json\", 'r') as f:\n",
        "  DATA = json.load(f)[\"annotations\"]\n",
        "\n",
        "#with open(\"/content/drive/MyDrive/el_amante_japones/annotations (1).json\", 'r') as f:\n",
        "#  DATA_2 = json.load(f)[\"annotations\"]\n",
        "\n",
        "# Merge the data from both files\n",
        "#merged_data = DATA + DATA_2\n",
        "\n",
        "# Write the merged data to a new JSON file\n",
        "#with open(\"/content/drive/MyDrive/el_amante_japones/merged_annotations.json\", 'w') as f:\n",
        "#    json.dump({\"annotations\": merged_data}, f, indent=4)"
      ],
      "metadata": {
        "id": "d9DdNrhyxD0d"
      },
      "execution_count": 34,
      "outputs": []
    },
    {
      "cell_type": "code",
      "source": [
        "# @title Important Resource https://towardsdatascience.com/how-to-mass-identify-recurring-textual-features-e3e98c4b0309"
      ],
      "metadata": {
        "id": "cCezXmmuR5fF"
      },
      "execution_count": 35,
      "outputs": []
    },
    {
      "cell_type": "markdown",
      "source": [
        "## Importing pretrained tokenizer and model"
      ],
      "metadata": {
        "id": "jhOaBvLhL2Cz"
      }
    },
    {
      "cell_type": "code",
      "source": [
        "%%capture\n",
        "!pip install transformers"
      ],
      "metadata": {
        "id": "jwvVexLQgGkQ"
      },
      "execution_count": 36,
      "outputs": []
    },
    {
      "cell_type": "code",
      "source": [
        "from transformers import AutoTokenizer, AutoModelForTokenClassification\n",
        "from transformers import pipeline\n",
        "tokenizer = AutoTokenizer.from_pretrained('MMG/xlm-roberta-large-ner-spanish')\n",
        "model = AutoModelForTokenClassification.from_pretrained('MMG/xlm-roberta-large-ner-spanish')\n",
        "\n",
        "nlp = pipeline(\"ner\", model=model, tokenizer=tokenizer)\n",
        "example = \"Me llamo Alma y vivo en Lark House\"\n",
        "# Tokenize the input manually\n",
        "tokens = word_tokenize(example.lower())\n",
        "\n",
        "# Use the tokenized input for NER\n",
        "ner_results = nlp(tokens)\n",
        "print(ner_results)"
      ],
      "metadata": {
        "colab": {
          "base_uri": "https://localhost:8080/",
          "height": 338,
          "referenced_widgets": [
            "6301bc3a1991448190cc9dbdd92e63e8",
            "7ddc8d1c80ac442c8361b30000c3663f",
            "0ebc3af28e26460da657f77488f3f70e",
            "a64e4f2a8b644db2856012c24471df4f",
            "657ccc64bff348dca194421422b37b16",
            "91c6adac5d334cd4bf3c6b5695fa26c1",
            "1c86b8adc9d24569aa286b44d8d518af",
            "9b9e65a1c65043e59602ebdd376f5a6c",
            "5ad4a73e75df493984b4fe8fe8724b1b",
            "8f9ab88611194f30b49ce54c06ebcd7e",
            "4b1d59dd400942a88c3f89021ee5e239",
            "a6cd038f69e74d02b548396cdd92bb6e",
            "237e50c2f91c47c2967156f6413292d3",
            "5fc16a2783bf4052a3efa358231807c3",
            "68124b4d38bb40aeb798646185391612",
            "a3ba77ff9aa24e3f8bece4148bc0eef5",
            "27d1601639ba47c1b0e6c3b734b1665c",
            "9c03ae7dee0a47af8ed6a4fdbd51979e",
            "1fa7e1e9b62a40479fecae8af87d1a96",
            "ba82d5363c9149ecac049b29c004b097",
            "14f82162ffc4445a91f4482f1256e68f",
            "ba9f9faf365842ab9ca7737bfce9ce6e",
            "4e883dfe09ce48528b62196a047e1433",
            "2cf8d72f455b4c26a1dcebc98e3904e0",
            "c52f0d862c8c45ea90ca4a0b6646e3d1",
            "ba736f836e294e3e85ba9a767aa6265f",
            "43d9433c1f3a4450973e11232afe8303",
            "dfa4b501fe874978ac5ca4e12b7b56c8",
            "2ed6d198fcb04872a782ab0befd94621",
            "d3218844bca64725b4efac59e53b5fd0",
            "72c1664fbb8d4acc817f45923e7d901d",
            "6be1dfa3d79843f9ba207c63d1dca22b",
            "d43d1f00e7e04327b372c3d9d085c47e",
            "f103e2aa0775441087f6ed7f41066b0e",
            "1b9034fd27c94a98941620b425bcb564",
            "05344ca63be648f6a2c46bf0919862a0",
            "4a1c018f35504bb7b76ccb43f4674524",
            "7bd62067b0c644778154ebec3886c835",
            "0a282057508c411e93d09bd8e6cdb1d2",
            "df4695e2f19743aea8d09d25630e7b71",
            "4d425b45a98e428a95f827ead3944e42",
            "439372177ba7484ea15831a2cefd9b96",
            "10bb9ab49a1d4285b58d01953bbd4f4c",
            "3f0ab06d79534470b41da2ecdab7fbd0",
            "e3e8368921ce4f4da6ba5754e071e18d",
            "c14e7c7b3db34346b70cfe37462fa1df",
            "0fff4e1a32b848768bcae34c118736db",
            "53b50b457fda4838a587fc58ec651e27",
            "ba5082f2ce3747dc8c419f1c335d9c55",
            "b94cc7de41bf4042a81b6bcbfd19065e",
            "1c169a3dfa77419084ea62a6f14d5344",
            "1232019fdbef44f680501ec64c809f98",
            "9ef3a57dddff473e977d6ce75238e00d",
            "0681a20ec28948aaaef0aac3c9e7d2e1",
            "7e4d215387164de3b0d398434006ed51",
            "cd99d4c7a3704ccfa7ef71e3bb531d1c",
            "c76488f899d044c2832c69513e5c44b4",
            "557af4bb9a8b4585988b9c39d83903ec",
            "0c6ff4db8b0c4973a04d1e93e19bfada",
            "5d18c628d0274e5299e4a656d33d1986",
            "981be692baee46fc93543dd83a7c00de",
            "ec01f12e67ea4d3ba7095e12bcfbcf4c",
            "0fbce77b3000499b97282a86b37a6f58",
            "76d1b4dd7fb84307934707c811195146",
            "f359c64e3a484e9e998fd4a4b96271a7",
            "73d8e9e1a8454a05a1270d9d08fcf03a"
          ]
        },
        "id": "he12rdw_aSzS",
        "outputId": "34691a7e-fea4-4b5e-8799-130c64aea631"
      },
      "execution_count": 37,
      "outputs": [
        {
          "output_type": "stream",
          "name": "stderr",
          "text": [
            "/usr/local/lib/python3.10/dist-packages/huggingface_hub/utils/_token.py:88: UserWarning: \n",
            "The secret `HF_TOKEN` does not exist in your Colab secrets.\n",
            "To authenticate with the Hugging Face Hub, create a token in your settings tab (https://huggingface.co/settings/tokens), set it as secret in your Google Colab and restart your session.\n",
            "You will be able to reuse this secret in all of your notebooks.\n",
            "Please note that authentication is recommended but still optional to access public models or datasets.\n",
            "  warnings.warn(\n"
          ]
        },
        {
          "output_type": "display_data",
          "data": {
            "text/plain": [
              "tokenizer_config.json:   0%|          | 0.00/399 [00:00<?, ?B/s]"
            ],
            "application/vnd.jupyter.widget-view+json": {
              "version_major": 2,
              "version_minor": 0,
              "model_id": "6301bc3a1991448190cc9dbdd92e63e8"
            }
          },
          "metadata": {}
        },
        {
          "output_type": "display_data",
          "data": {
            "text/plain": [
              "sentencepiece.bpe.model:   0%|          | 0.00/5.07M [00:00<?, ?B/s]"
            ],
            "application/vnd.jupyter.widget-view+json": {
              "version_major": 2,
              "version_minor": 0,
              "model_id": "a6cd038f69e74d02b548396cdd92bb6e"
            }
          },
          "metadata": {}
        },
        {
          "output_type": "display_data",
          "data": {
            "text/plain": [
              "tokenizer.json:   0%|          | 0.00/9.08M [00:00<?, ?B/s]"
            ],
            "application/vnd.jupyter.widget-view+json": {
              "version_major": 2,
              "version_minor": 0,
              "model_id": "4e883dfe09ce48528b62196a047e1433"
            }
          },
          "metadata": {}
        },
        {
          "output_type": "display_data",
          "data": {
            "text/plain": [
              "special_tokens_map.json:   0%|          | 0.00/239 [00:00<?, ?B/s]"
            ],
            "application/vnd.jupyter.widget-view+json": {
              "version_major": 2,
              "version_minor": 0,
              "model_id": "f103e2aa0775441087f6ed7f41066b0e"
            }
          },
          "metadata": {}
        },
        {
          "output_type": "display_data",
          "data": {
            "text/plain": [
              "config.json:   0%|          | 0.00/1.05k [00:00<?, ?B/s]"
            ],
            "application/vnd.jupyter.widget-view+json": {
              "version_major": 2,
              "version_minor": 0,
              "model_id": "e3e8368921ce4f4da6ba5754e071e18d"
            }
          },
          "metadata": {}
        },
        {
          "output_type": "display_data",
          "data": {
            "text/plain": [
              "model.safetensors:   0%|          | 0.00/2.24G [00:00<?, ?B/s]"
            ],
            "application/vnd.jupyter.widget-view+json": {
              "version_major": 2,
              "version_minor": 0,
              "model_id": "cd99d4c7a3704ccfa7ef71e3bb531d1c"
            }
          },
          "metadata": {}
        },
        {
          "output_type": "stream",
          "name": "stdout",
          "text": [
            "[[], [], [], [], [], [], [], []]\n"
          ]
        }
      ]
    },
    {
      "cell_type": "code",
      "source": [
        "ner_novel = nlp(extracted_text)"
      ],
      "metadata": {
        "id": "W2u8AjcyeqD8"
      },
      "execution_count": 38,
      "outputs": []
    },
    {
      "cell_type": "code",
      "source": [
        "ner_novel"
      ],
      "metadata": {
        "colab": {
          "base_uri": "https://localhost:8080/"
        },
        "id": "C2L9A7vpiO8r",
        "outputId": "0406d8a5-9f25-4860-fdcb-e83822aa4cfa"
      },
      "execution_count": 39,
      "outputs": [
        {
          "output_type": "execute_result",
          "data": {
            "text/plain": [
              "[{'entity': 'B-MISC',\n",
              "  'score': 0.9227004,\n",
              "  'index': 1,\n",
              "  'word': '▁WWW',\n",
              "  'start': 24,\n",
              "  'end': 27},\n",
              " {'entity': 'I-ORG',\n",
              "  'score': 0.34754592,\n",
              "  'index': 2,\n",
              "  'word': '.',\n",
              "  'start': 27,\n",
              "  'end': 28},\n",
              " {'entity': 'B-MISC',\n",
              "  'score': 0.8723368,\n",
              "  'index': 3,\n",
              "  'word': 'ME',\n",
              "  'start': 28,\n",
              "  'end': 30},\n",
              " {'entity': 'I-MISC',\n",
              "  'score': 0.8481777,\n",
              "  'index': 4,\n",
              "  'word': 'G',\n",
              "  'start': 30,\n",
              "  'end': 31},\n",
              " {'entity': 'I-MISC',\n",
              "  'score': 0.8921418,\n",
              "  'index': 5,\n",
              "  'word': 'UST',\n",
              "  'start': 31,\n",
              "  'end': 34},\n",
              " {'entity': 'I-MISC',\n",
              "  'score': 0.93701833,\n",
              "  'index': 6,\n",
              "  'word': 'ALE',\n",
              "  'start': 34,\n",
              "  'end': 37},\n",
              " {'entity': 'I-MISC',\n",
              "  'score': 0.82693815,\n",
              "  'index': 7,\n",
              "  'word': 'ERE',\n",
              "  'start': 37,\n",
              "  'end': 40},\n",
              " {'entity': 'I-MISC',\n",
              "  'score': 0.89057666,\n",
              "  'index': 8,\n",
              "  'word': 'BOOK',\n",
              "  'start': 40,\n",
              "  'end': 44},\n",
              " {'entity': 'I-MISC',\n",
              "  'score': 0.8478054,\n",
              "  'index': 9,\n",
              "  'word': 'S',\n",
              "  'start': 44,\n",
              "  'end': 45},\n",
              " {'entity': 'I-MISC',\n",
              "  'score': 0.5103528,\n",
              "  'index': 11,\n",
              "  'word': 'COM',\n",
              "  'start': 46,\n",
              "  'end': 49},\n",
              " {'entity': 'B-PER',\n",
              "  'score': 0.9971271,\n",
              "  'index': 16,\n",
              "  'word': '▁Pan',\n",
              "  'start': 71,\n",
              "  'end': 74},\n",
              " {'entity': 'B-PER',\n",
              "  'score': 0.9090044,\n",
              "  'index': 17,\n",
              "  'word': 'ch',\n",
              "  'start': 74,\n",
              "  'end': 76},\n",
              " {'entity': 'B-PER',\n",
              "  'score': 0.7926689,\n",
              "  'index': 18,\n",
              "  'word': 'ita',\n",
              "  'start': 76,\n",
              "  'end': 79},\n",
              " {'entity': 'B-PER',\n",
              "  'score': 0.9975515,\n",
              "  'index': 20,\n",
              "  'word': '▁Ramón',\n",
              "  'start': 82,\n",
              "  'end': 87},\n",
              " {'entity': 'B-PER',\n",
              "  'score': 0.67494607,\n",
              "  'index': 62,\n",
              "  'word': '▁S',\n",
              "  'start': 260,\n",
              "  'end': 261},\n",
              " {'entity': 'B-PER',\n",
              "  'score': 0.29739052,\n",
              "  'index': 63,\n",
              "  'word': '▁OR',\n",
              "  'start': 262,\n",
              "  'end': 264},\n",
              " {'entity': 'B-PER',\n",
              "  'score': 0.46836233,\n",
              "  'index': 64,\n",
              "  'word': '▁J',\n",
              "  'start': 266,\n",
              "  'end': 267},\n",
              " {'entity': 'B-PER',\n",
              "  'score': 0.4798024,\n",
              "  'index': 65,\n",
              "  'word': '▁U',\n",
              "  'start': 268,\n",
              "  'end': 269},\n",
              " {'entity': 'B-PER',\n",
              "  'score': 0.6399673,\n",
              "  'index': 66,\n",
              "  'word': 'ANA',\n",
              "  'start': 269,\n",
              "  'end': 272},\n",
              " {'entity': 'B-PER',\n",
              "  'score': 0.69435173,\n",
              "  'index': 67,\n",
              "  'word': '▁I',\n",
              "  'start': 274,\n",
              "  'end': 275},\n",
              " {'entity': 'B-PER',\n",
              "  'score': 0.5760904,\n",
              "  'index': 68,\n",
              "  'word': '▁N',\n",
              "  'start': 276,\n",
              "  'end': 277},\n",
              " {'entity': 'I-PER',\n",
              "  'score': 0.69439584,\n",
              "  'index': 69,\n",
              "  'word': 'ÉS',\n",
              "  'start': 277,\n",
              "  'end': 279},\n",
              " {'entity': 'I-PER',\n",
              "  'score': 0.91298246,\n",
              "  'index': 70,\n",
              "  'word': '▁DE',\n",
              "  'start': 280,\n",
              "  'end': 282},\n",
              " {'entity': 'I-PER',\n",
              "  'score': 0.95173335,\n",
              "  'index': 71,\n",
              "  'word': '▁LA',\n",
              "  'start': 283,\n",
              "  'end': 285},\n",
              " {'entity': 'I-PER',\n",
              "  'score': 0.8423548,\n",
              "  'index': 72,\n",
              "  'word': '▁C',\n",
              "  'start': 287,\n",
              "  'end': 288},\n",
              " {'entity': 'I-PER',\n",
              "  'score': 0.7050925,\n",
              "  'index': 73,\n",
              "  'word': '▁R',\n",
              "  'start': 289,\n",
              "  'end': 290},\n",
              " {'entity': 'I-MISC',\n",
              "  'score': 0.49250337,\n",
              "  'index': 74,\n",
              "  'word': 'UZ',\n",
              "  'start': 290,\n",
              "  'end': 292},\n",
              " {'entity': 'B-MISC',\n",
              "  'score': 0.885126,\n",
              "  'index': 75,\n",
              "  'word': 'La',\n",
              "  'start': 292,\n",
              "  'end': 294},\n",
              " {'entity': 'I-MISC',\n",
              "  'score': 0.3343227,\n",
              "  'index': 76,\n",
              "  'word': 'rk',\n",
              "  'start': 294,\n",
              "  'end': 296},\n",
              " {'entity': 'I-MISC',\n",
              "  'score': 0.61276776,\n",
              "  'index': 77,\n",
              "  'word': '▁House',\n",
              "  'start': 297,\n",
              "  'end': 302},\n",
              " {'entity': 'B-PER',\n",
              "  'score': 0.99215627,\n",
              "  'index': 78,\n",
              "  'word': '▁I',\n",
              "  'start': 311,\n",
              "  'end': 312},\n",
              " {'entity': 'B-PER',\n",
              "  'score': 0.757419,\n",
              "  'index': 80,\n",
              "  'word': 'rina',\n",
              "  'start': 313,\n",
              "  'end': 317},\n",
              " {'entity': 'I-PER',\n",
              "  'score': 0.99840957,\n",
              "  'index': 81,\n",
              "  'word': '▁Baz',\n",
              "  'start': 318,\n",
              "  'end': 321},\n",
              " {'entity': 'I-PER',\n",
              "  'score': 0.9870444,\n",
              "  'index': 82,\n",
              "  'word': 'ili',\n",
              "  'start': 321,\n",
              "  'end': 324},\n",
              " {'entity': 'B-ORG',\n",
              "  'score': 0.8929961,\n",
              "  'index': 88,\n",
              "  'word': '▁La',\n",
              "  'start': 345,\n",
              "  'end': 347},\n",
              " {'entity': 'I-ORG',\n",
              "  'score': 0.7560489,\n",
              "  'index': 89,\n",
              "  'word': 'rk',\n",
              "  'start': 347,\n",
              "  'end': 349},\n",
              " {'entity': 'I-ORG',\n",
              "  'score': 0.9623768,\n",
              "  'index': 90,\n",
              "  'word': '▁House',\n",
              "  'start': 350,\n",
              "  'end': 355},\n",
              " {'entity': 'B-LOC',\n",
              "  'score': 0.99666685,\n",
              "  'index': 98,\n",
              "  'word': '▁Ber',\n",
              "  'start': 375,\n",
              "  'end': 378},\n",
              " {'entity': 'I-LOC',\n",
              "  'score': 0.8103307,\n",
              "  'index': 99,\n",
              "  'word': 'ke',\n",
              "  'start': 378,\n",
              "  'end': 380},\n",
              " {'entity': 'I-LOC',\n",
              "  'score': 0.9789515,\n",
              "  'index': 100,\n",
              "  'word': 'ley',\n",
              "  'start': 380,\n",
              "  'end': 383},\n",
              " {'entity': 'B-ORG',\n",
              "  'score': 0.9378189,\n",
              "  'index': 187,\n",
              "  'word': '▁La',\n",
              "  'start': 740,\n",
              "  'end': 742},\n",
              " {'entity': 'I-ORG',\n",
              "  'score': 0.7184109,\n",
              "  'index': 188,\n",
              "  'word': 'rk',\n",
              "  'start': 742,\n",
              "  'end': 744},\n",
              " {'entity': 'I-ORG',\n",
              "  'score': 0.96535325,\n",
              "  'index': 189,\n",
              "  'word': '▁House',\n",
              "  'start': 745,\n",
              "  'end': 750},\n",
              " {'entity': 'B-LOC',\n",
              "  'score': 0.66831017,\n",
              "  'index': 349,\n",
              "  'word': '▁bah',\n",
              "  'start': 1427,\n",
              "  'end': 1430},\n",
              " {'entity': 'B-LOC',\n",
              "  'score': 0.6452384,\n",
              "  'index': 352,\n",
              "  'word': '▁San',\n",
              "  'start': 1436,\n",
              "  'end': 1439},\n",
              " {'entity': 'I-LOC',\n",
              "  'score': 0.99492633,\n",
              "  'index': 353,\n",
              "  'word': '▁Francisco',\n",
              "  'start': 1440,\n",
              "  'end': 1449},\n",
              " {'entity': 'B-PER',\n",
              "  'score': 0.9988901,\n",
              "  'index': 366,\n",
              "  'word': '▁Hans',\n",
              "  'start': 1507,\n",
              "  'end': 1511},\n",
              " {'entity': 'I-PER',\n",
              "  'score': 0.99806017,\n",
              "  'index': 367,\n",
              "  'word': '▁Vo',\n",
              "  'start': 1512,\n",
              "  'end': 1514},\n",
              " {'entity': 'I-PER',\n",
              "  'score': 0.993628,\n",
              "  'index': 368,\n",
              "  'word': 'igt',\n",
              "  'start': 1514,\n",
              "  'end': 1517},\n",
              " {'entity': 'B-PER',\n",
              "  'score': 0.99287593,\n",
              "  'index': 374,\n",
              "  'word': '▁Irina',\n",
              "  'start': 1533,\n",
              "  'end': 1538},\n",
              " {'entity': 'B-PER',\n",
              "  'score': 0.9899539,\n",
              "  'index': 420,\n",
              "  'word': '▁Irina',\n",
              "  'start': 1777,\n",
              "  'end': 1782},\n",
              " {'entity': 'B-PER',\n",
              "  'score': 0.9983822,\n",
              "  'index': 476,\n",
              "  'word': '▁Vo',\n",
              "  'start': 2025,\n",
              "  'end': 2027},\n",
              " {'entity': 'B-PER',\n",
              "  'score': 0.83627504,\n",
              "  'index': 477,\n",
              "  'word': 'igt',\n",
              "  'start': 2027,\n",
              "  'end': 2030},\n",
              " {'entity': 'B-PER',\n",
              "  'score': 0.966604,\n",
              "  'index': 510,\n",
              "  'word': '▁Irina',\n",
              "  'start': 2182,\n",
              "  'end': 2187}]"
            ]
          },
          "metadata": {},
          "execution_count": 39
        }
      ]
    },
    {
      "cell_type": "code",
      "source": [
        "for entity_info in ner_novel:\n",
        "    entity_type = entity_info['entity']\n",
        "    if entity_type == 'I-PER':\n",
        "      print(entity_info)"
      ],
      "metadata": {
        "colab": {
          "base_uri": "https://localhost:8080/"
        },
        "id": "IMA7q-hLh4Mj",
        "outputId": "4a5cfd5e-3712-4863-cedc-d4db10a00091"
      },
      "execution_count": 40,
      "outputs": [
        {
          "output_type": "stream",
          "name": "stdout",
          "text": [
            "{'entity': 'I-PER', 'score': 0.69439584, 'index': 69, 'word': 'ÉS', 'start': 277, 'end': 279}\n",
            "{'entity': 'I-PER', 'score': 0.91298246, 'index': 70, 'word': '▁DE', 'start': 280, 'end': 282}\n",
            "{'entity': 'I-PER', 'score': 0.95173335, 'index': 71, 'word': '▁LA', 'start': 283, 'end': 285}\n",
            "{'entity': 'I-PER', 'score': 0.8423548, 'index': 72, 'word': '▁C', 'start': 287, 'end': 288}\n",
            "{'entity': 'I-PER', 'score': 0.7050925, 'index': 73, 'word': '▁R', 'start': 289, 'end': 290}\n",
            "{'entity': 'I-PER', 'score': 0.99840957, 'index': 81, 'word': '▁Baz', 'start': 318, 'end': 321}\n",
            "{'entity': 'I-PER', 'score': 0.9870444, 'index': 82, 'word': 'ili', 'start': 321, 'end': 324}\n",
            "{'entity': 'I-PER', 'score': 0.99806017, 'index': 367, 'word': '▁Vo', 'start': 1512, 'end': 1514}\n",
            "{'entity': 'I-PER', 'score': 0.993628, 'index': 368, 'word': 'igt', 'start': 1514, 'end': 1517}\n"
          ]
        }
      ]
    },
    {
      "cell_type": "code",
      "source": [
        "# Create a dictionary to store entities based on their type\n",
        "entity_dict = {'B-PER': '', 'I-PER': ''}\n",
        "\n",
        "# Iterate over the data and concatenate entities based on their type\n",
        "for entity_info in ner_novel:\n",
        "    entity_type = entity_info['entity']\n",
        "    if entity_type == 'B-PER':# or entity_type.startswith('I-PER'):\n",
        "        entity_dict[entity_type] += entity_info['word']\n",
        "\n",
        "# Print the concatenated entities\n",
        "for entity_type, concatenated_entity in entity_dict.items():\n",
        "    print(f\"{entity_type}: {concatenated_entity}\")"
      ],
      "metadata": {
        "colab": {
          "base_uri": "https://localhost:8080/"
        },
        "id": "lhlj56uqhVo5",
        "outputId": "a3d85fad-311c-4ae5-d0c1-ecff7ff3da8d"
      },
      "execution_count": 41,
      "outputs": [
        {
          "output_type": "stream",
          "name": "stdout",
          "text": [
            "B-PER: ▁Panchita▁Ramón▁S▁OR▁J▁UANA▁I▁N▁Irina▁Hans▁Irina▁Irina▁Voigt▁Irina\n",
            "I-PER: \n"
          ]
        }
      ]
    },
    {
      "cell_type": "code",
      "source": [],
      "metadata": {
        "id": "6Z7P9Ws_49qg"
      },
      "execution_count": 41,
      "outputs": []
    }
  ]
}