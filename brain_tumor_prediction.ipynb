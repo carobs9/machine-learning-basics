{
 "cells": [
  {
   "cell_type": "code",
   "execution_count": 5,
   "metadata": {},
   "outputs": [],
   "source": [
    "%%capture\n",
    "!pip install keras\n",
    "!pip install tensorflow\n",
    "!pip install opencv-python"
   ]
  },
  {
   "cell_type": "code",
   "execution_count": 2,
   "metadata": {},
   "outputs": [
    {
     "name": "stderr",
     "output_type": "stream",
     "text": [
      "2024-03-09 11:08:57.891485: I tensorflow/core/platform/cpu_feature_guard.cc:182] This TensorFlow binary is optimized to use available CPU instructions in performance-critical operations.\n",
      "To enable the following instructions: AVX2 FMA, in other operations, rebuild TensorFlow with the appropriate compiler flags.\n"
     ]
    }
   ],
   "source": [
    "import os\n",
    "import numpy as np\n",
    "import pandas as pd\n",
    "import seaborn as sns\n",
    "import random\n",
    "import matplotlib.pyplot as plt\n",
    "import tensorflow as tf\n",
    "from sklearn.utils import shuffle\n",
    "import glob\n",
    "from tensorflow.keras.models import Model,Sequential\n",
    "from tensorflow.keras.layers import Input,Conv2D, Dense, Flatten ,Dropout ,MaxPooling2D,BatchNormalization,GlobalAveragePooling2D\n",
    "from tensorflow.keras.utils import to_categorical\n",
    "from sklearn.model_selection import train_test_split\n",
    "from tensorflow.keras.callbacks import EarlyStopping,LearningRateScheduler,ReduceLROnPlateau\n",
    "from keras.preprocessing.image import ImageDataGenerator\n",
    "from keras.optimizers import Adam,RMSprop\n",
    "from sklearn.metrics import accuracy_score, confusion_matrix\n",
    "from keras.applications.vgg16 import VGG16, preprocess_input\n",
    "from tensorflow.keras import regularizers"
   ]
  },
  {
   "cell_type": "code",
   "execution_count": 6,
   "metadata": {},
   "outputs": [],
   "source": [
    "import cv2"
   ]
  },
  {
   "cell_type": "code",
   "execution_count": 11,
   "metadata": {},
   "outputs": [],
   "source": [
    "path_no = '/Users/caro/Desktop/github/machine-learning-basics/mri_brain_tumor_kaggle/no'\n",
    "path_yes = '/Users/caro/Desktop/github/machine-learning-basics/mri_brain_tumor_kaggle/yes'"
   ]
  },
  {
   "cell_type": "code",
   "execution_count": 24,
   "metadata": {},
   "outputs": [
    {
     "name": "stderr",
     "output_type": "stream",
     "text": [
      "[ WARN:0@780.871] global loadsave.cpp:248 findDecoder imread_('Y157.JPG'): can't open/read file: check file path/integrity\n"
     ]
    },
    {
     "ename": "error",
     "evalue": "OpenCV(4.9.0) /Users/runner/work/opencv-python/opencv-python/opencv/modules/imgproc/src/color.cpp:196: error: (-215:Assertion failed) !_src.empty() in function 'cvtColor'\n",
     "output_type": "error",
     "traceback": [
      "\u001b[0;31m---------------------------------------------------------------------------\u001b[0m",
      "\u001b[0;31merror\u001b[0m                                     Traceback (most recent call last)",
      "Cell \u001b[0;32mIn[24], line 7\u001b[0m\n\u001b[1;32m      5\u001b[0m \u001b[39mfor\u001b[39;00m file \u001b[39min\u001b[39;00m os\u001b[39m.\u001b[39mlistdir(path_yes):\n\u001b[1;32m      6\u001b[0m     img \u001b[39m=\u001b[39m cv2\u001b[39m.\u001b[39mimread(file) \u001b[39m# reading imgs\u001b[39;00m\n\u001b[0;32m----> 7\u001b[0m     img \u001b[39m=\u001b[39m cv2\u001b[39m.\u001b[39mcvtColor(img, cv2\u001b[39m.\u001b[39mCOLOR_BGR2RGB) \u001b[39m# BGR to RGB\u001b[39;00m\n\u001b[1;32m      8\u001b[0m     img \u001b[39m=\u001b[39m cv2\u001b[39m.\u001b[39mresize(img, (\u001b[39m128\u001b[39m, \u001b[39m128\u001b[39m)) \u001b[39m# resizing \u001b[39;00m\n\u001b[1;32m      9\u001b[0m     tumor\u001b[39m.\u001b[39mappend((img, \u001b[39m1\u001b[39m))\n",
      "\u001b[0;31merror\u001b[0m: OpenCV(4.9.0) /Users/runner/work/opencv-python/opencv-python/opencv/modules/imgproc/src/color.cpp:196: error: (-215:Assertion failed) !_src.empty() in function 'cvtColor'\n"
     ]
    }
   ],
   "source": [
    "tumor = []\n",
    "no_tumor = []\n",
    "random_state = 42\n",
    "\n",
    "for file in os.listdir(path_yes):\n",
    "    img = cv2.imread(file) # reading imgs\n",
    "    img = cv2.cvtColor(img, cv2.COLOR_BGR2RGB) # BGR to RGB\n",
    "    img = cv2.resize(img, (128, 128)) # resizing \n",
    "    tumor.append((img, 1))\n",
    "\n",
    "for file in os.listdir(path_no):\n",
    "    img = cv2.imread(file) # reading imgs\n",
    "    img = cv2.cvtColor(img, cv2.COLOR_BGR2RGB) # BGR to RGB\n",
    "    img = cv2.resize(img, (128, 128)) # resizing \n",
    "    no_tumor.append((img, 0))\n",
    "\n",
    "data = tumor + no_tumor"
   ]
  },
  {
   "cell_type": "code",
   "execution_count": 23,
   "metadata": {},
   "outputs": [
    {
     "name": "stdout",
     "output_type": "stream",
     "text": [
      "/Users/caro/Desktop/github/machine-learning-basics/mri_brain_tumor_kaggle/yes\n"
     ]
    }
   ],
   "source": [
    "for file in glob.iglob(path_yes):\n",
    "    print(file)"
   ]
  },
  {
   "cell_type": "code",
   "execution_count": null,
   "metadata": {},
   "outputs": [],
   "source": []
  }
 ],
 "metadata": {
  "kernelspec": {
   "display_name": "base",
   "language": "python",
   "name": "python3"
  },
  "language_info": {
   "codemirror_mode": {
    "name": "ipython",
    "version": 3
   },
   "file_extension": ".py",
   "mimetype": "text/x-python",
   "name": "python",
   "nbconvert_exporter": "python",
   "pygments_lexer": "ipython3",
   "version": "3.11.4"
  },
  "orig_nbformat": 4,
  "vscode": {
   "interpreter": {
    "hash": "14f440346737baf57750a9993de80ecee63827d964be75bb687e02a1dcff7748"
   }
  }
 },
 "nbformat": 4,
 "nbformat_minor": 2
}
