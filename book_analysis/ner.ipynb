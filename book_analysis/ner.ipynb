{
  "cells": [
    {
      "cell_type": "code",
      "execution_count": 1,
      "metadata": {
        "id": "jo9FBRKL8xMA"
      },
      "outputs": [],
      "source": [
        "%%capture\n",
        "!pip install PyPDF2\n",
        "!pip install datasets\n",
        "!pip install torch\n",
        "!pip install -U accelerate\n",
        "!pip install -U transformers\n",
        "!pip install -U datasets\n",
        "!pip install transformers[torch]"
      ]
    },
    {
      "cell_type": "code",
      "execution_count": 2,
      "metadata": {},
      "outputs": [
        {
          "name": "stdout",
          "output_type": "stream",
          "text": [
            "WARNING:tensorflow:From c:\\Users\\CarolinaSoria\\anaconda3\\Lib\\site-packages\\keras\\src\\losses.py:2976: The name tf.losses.sparse_softmax_cross_entropy is deprecated. Please use tf.compat.v1.losses.sparse_softmax_cross_entropy instead.\n",
            "\n"
          ]
        }
      ],
      "source": [
        "from utils_ner import extract_text_from_pdf\n",
        "from utils_ner import PyPDF2\n",
        "from utils_ner import AutoTokenizer, DataCollatorForTokenClassification, AutoModelForTokenClassification, tokenize_and_align_tags, TrainingArguments, Trainer, TrainingArguments, pipeline"
      ]
    },
    {
      "cell_type": "code",
      "execution_count": 3,
      "metadata": {
        "id": "KD8a-pwy-kp3"
      },
      "outputs": [],
      "source": [
        "pdf_file_path = \"el-amante-japones-isabel-allende.pdf\"\n",
        "extracted_text = extract_text_from_pdf(pdf_file_path)"
      ]
    },
    {
      "cell_type": "code",
      "execution_count": 4,
      "metadata": {
        "id": "aBdWrhEB8xMD"
      },
      "outputs": [
        {
          "name": "stderr",
          "output_type": "stream",
          "text": [
            "Downloading data: 100%|██████████| 1.21M/1.21M [00:01<00:00, 750kB/s]\n",
            "Downloading data: 100%|██████████| 251k/251k [00:00<00:00, 1.41MB/s]\n",
            "Downloading data: 100%|██████████| 237k/237k [00:00<00:00, 654kB/s]\n"
          ]
        },
        {
          "data": {
            "application/vnd.jupyter.widget-view+json": {
              "model_id": "e1d1d594058c4c07834368b544578aca",
              "version_major": 2,
              "version_minor": 0
            },
            "text/plain": [
              "Generating train split:   0%|          | 0/8324 [00:00<?, ? examples/s]"
            ]
          },
          "metadata": {},
          "output_type": "display_data"
        },
        {
          "data": {
            "application/vnd.jupyter.widget-view+json": {
              "model_id": "0489fb96c386418b8b782081fe0474f0",
              "version_major": 2,
              "version_minor": 0
            },
            "text/plain": [
              "Generating validation split:   0%|          | 0/1916 [00:00<?, ? examples/s]"
            ]
          },
          "metadata": {},
          "output_type": "display_data"
        },
        {
          "data": {
            "application/vnd.jupyter.widget-view+json": {
              "model_id": "761cef48514b41a2a5918727f22195c4",
              "version_major": 2,
              "version_minor": 0
            },
            "text/plain": [
              "Generating test split:   0%|          | 0/1518 [00:00<?, ? examples/s]"
            ]
          },
          "metadata": {},
          "output_type": "display_data"
        }
      ],
      "source": [
        "from datasets import load_dataset\n",
        "\n",
        "# Load the CoNLL 2003 dataset\n",
        "conll_dataset = load_dataset(\"conll2002\", 'es')\n",
        "train_data = conll_dataset[\"train\"]\n",
        "validation_data = conll_dataset[\"validation\"]\n",
        "test_data = conll_dataset[\"test\"]"
      ]
    },
    {
      "cell_type": "code",
      "execution_count": 5,
      "metadata": {
        "id": "RTYIfTlz8xME"
      },
      "outputs": [
        {
          "data": {
            "application/vnd.jupyter.widget-view+json": {
              "model_id": "8e2c2ceb22f14da0b03e429d8ef89ce6",
              "version_major": 2,
              "version_minor": 0
            },
            "text/plain": [
              "Map:   0%|          | 0/8324 [00:00<?, ? examples/s]"
            ]
          },
          "metadata": {},
          "output_type": "display_data"
        },
        {
          "data": {
            "application/vnd.jupyter.widget-view+json": {
              "model_id": "a9d4af5d201f42acbd03c86405c5eaa4",
              "version_major": 2,
              "version_minor": 0
            },
            "text/plain": [
              "Map:   0%|          | 0/1916 [00:00<?, ? examples/s]"
            ]
          },
          "metadata": {},
          "output_type": "display_data"
        },
        {
          "data": {
            "application/vnd.jupyter.widget-view+json": {
              "model_id": "f6bc14e7bdea47528aab7ce56c673b70",
              "version_major": 2,
              "version_minor": 0
            },
            "text/plain": [
              "Map:   0%|          | 0/1518 [00:00<?, ? examples/s]"
            ]
          },
          "metadata": {},
          "output_type": "display_data"
        }
      ],
      "source": [
        "tokenized_conll = conll_dataset.map(tokenize_and_align_tags, batched=True)"
      ]
    },
    {
      "cell_type": "code",
      "execution_count": 6,
      "metadata": {
        "id": "4EQIWET78xME"
      },
      "outputs": [],
      "source": [
        "tag_names = conll_dataset[\"test\"].features[f\"ner_tags\"].feature.names\n",
        "id2label = dict(enumerate(tag_names))\n",
        "label2id = dict(zip(id2label.values(), id2label.keys()))"
      ]
    },
    {
      "cell_type": "code",
      "execution_count": 7,
      "metadata": {
        "colab": {
          "base_uri": "https://localhost:8080/",
          "height": 106,
          "referenced_widgets": [
            "9f51592073ac4c7791ea81bcee1e1afc",
            "07394ec2f1e54db39f538e96ef84c904",
            "e5d34cf2d6f94e258ecc11abb7f65791",
            "459aae3da07f4daf8aa44d28d2c43794",
            "c839f5ea333046e7ae7b39fa33238c1f",
            "9a9e326c069c485a9af82ba769fd557f",
            "1d041ef6702240879d3cbc8f5425c8c9",
            "66f3d849e87b4c2c93359fffd13de223",
            "60b180663a804725b30dc7df891dca4e",
            "f8592c8fa3ec4fc5a5dd33a578f56517",
            "d534fd21ca7b4e18aadaf128bd8289f5"
          ]
        },
        "id": "bF-WSUgD8xME",
        "outputId": "eb1b6e8b-1d68-4300-eaf0-48215db87eba"
      },
      "outputs": [
        {
          "data": {
            "application/vnd.jupyter.widget-view+json": {
              "model_id": "3fdb4c10f8f94eb8998c6625c8b546b6",
              "version_major": 2,
              "version_minor": 0
            },
            "text/plain": [
              "pytorch_model.bin:   0%|          | 0.00/440M [00:00<?, ?B/s]"
            ]
          },
          "metadata": {},
          "output_type": "display_data"
        },
        {
          "name": "stderr",
          "output_type": "stream",
          "text": [
            "c:\\Users\\CarolinaSoria\\anaconda3\\Lib\\site-packages\\huggingface_hub\\file_download.py:148: UserWarning: `huggingface_hub` cache-system uses symlinks by default to efficiently store duplicated files but your machine does not support them in C:\\Users\\CarolinaSoria\\.cache\\huggingface\\hub\\models--dccuchile--bert-base-spanish-wwm-uncased. Caching files will still work but in a degraded version that might require more space on your disk. This warning can be disabled by setting the `HF_HUB_DISABLE_SYMLINKS_WARNING` environment variable. For more details, see https://huggingface.co/docs/huggingface_hub/how-to-cache#limitations.\n",
            "To support symlinks on Windows, you either need to activate Developer Mode or to run Python as an administrator. In order to see activate developer mode, see this article: https://docs.microsoft.com/en-us/windows/apps/get-started/enable-your-device-for-development\n",
            "  warnings.warn(message)\n",
            "Some weights of BertForTokenClassification were not initialized from the model checkpoint at dccuchile/bert-base-spanish-wwm-uncased and are newly initialized: ['classifier.bias', 'classifier.weight']\n",
            "You should probably TRAIN this model on a down-stream task to be able to use it for predictions and inference.\n"
          ]
        }
      ],
      "source": [
        "model = AutoModelForTokenClassification.from_pretrained(\n",
        "    'dccuchile/bert-base-spanish-wwm-uncased', num_labels=len(id2label), id2label=id2label, label2id=label2id, ignore_mismatched_sizes=True\n",
        ")"
      ]
    },
    {
      "cell_type": "code",
      "execution_count": 8,
      "metadata": {
        "id": "rPMFgHaW8xMF"
      },
      "outputs": [],
      "source": [
        "training_args = TrainingArguments(\n",
        "    output_dir='/ner_model_4',\n",
        "    learning_rate=2e-6,\n",
        "    per_device_train_batch_size=8,\n",
        "    per_device_eval_batch_size=8,\n",
        "    num_train_epochs=3,\n",
        "    weight_decay=0.01,\n",
        "    evaluation_strategy=\"epoch\",\n",
        "    save_strategy=\"epoch\",\n",
        "    load_best_model_at_end=True,\n",
        "    push_to_hub=False,\n",
        ")"
      ]
    },
    {
      "cell_type": "code",
      "execution_count": 10,
      "metadata": {
        "colab": {
          "base_uri": "https://localhost:8080/",
          "height": 282
        },
        "id": "Dr_KWCvA8xMF",
        "outputId": "9a87c15d-4eb2-4df8-904e-b7742ebe8129"
      },
      "outputs": [],
      "source": [
        "from utils_ner import tokenizer, data_collator\n",
        "trainer = Trainer(\n",
        "    model=model,\n",
        "    args=training_args,\n",
        "    train_dataset=tokenized_conll[\"train\"],\n",
        "    eval_dataset=tokenized_conll[\"test\"],\n",
        "    tokenizer=tokenizer,\n",
        "    data_collator=data_collator,\n",
        ")\n",
        "\n",
        "trainer.train()"
      ]
    },
    {
      "cell_type": "code",
      "execution_count": 11,
      "metadata": {
        "id": "C4jIEEvE8xMF"
      },
      "outputs": [],
      "source": [
        "model = AutoModelForTokenClassification.from_pretrained('ner_model_2/checkpoint-3123')\n",
        "tokenizer = AutoTokenizer.from_pretrained('ner_model_2/checkpoint-3123')\n",
        "\n",
        "ner = pipeline(\"ner\", model=model, tokenizer=tokenizer)"
      ]
    },
    {
      "cell_type": "code",
      "execution_count": 12,
      "metadata": {
        "id": "JFQhZOqq8xMF"
      },
      "outputs": [
        {
          "name": "stderr",
          "output_type": "stream",
          "text": [
            "[nltk_data] Downloading package punkt to\n",
            "[nltk_data]     C:\\Users\\CarolinaSoria\\AppData\\Roaming\\nltk_data...\n",
            "[nltk_data]   Package punkt is already up-to-date!\n",
            "[nltk_data] Downloading package stopwords to\n",
            "[nltk_data]     C:\\Users\\CarolinaSoria\\AppData\\Roaming\\nltk_data...\n",
            "[nltk_data]   Package stopwords is already up-to-date!\n",
            "[nltk_data] Downloading package wordnet to\n",
            "[nltk_data]     C:\\Users\\CarolinaSoria\\AppData\\Roaming\\nltk_data...\n",
            "[nltk_data]   Package wordnet is already up-to-date!\n",
            "[nltk_data] Downloading package averaged_perceptron_tagger to\n",
            "[nltk_data]     C:\\Users\\CarolinaSoria\\AppData\\Roaming\\nltk_data...\n",
            "[nltk_data]   Package averaged_perceptron_tagger is already up-to-\n",
            "[nltk_data]       date!\n",
            "[nltk_data] Downloading package stopwords to\n",
            "[nltk_data]     C:\\Users\\CarolinaSoria\\AppData\\Roaming\\nltk_data...\n",
            "[nltk_data]   Package stopwords is already up-to-date!\n",
            "[nltk_data] Downloading package punkt to\n",
            "[nltk_data]     C:\\Users\\CarolinaSoria\\AppData\\Roaming\\nltk_data...\n",
            "[nltk_data]   Package punkt is already up-to-date!\n"
          ]
        }
      ],
      "source": [
        "from utils import unicodedata, re, nltk, snowball_stemmer\n",
        "\n",
        "text_lower = extracted_text.lower()\n",
        "text_normalized = unicodedata.normalize('NFKD', text_lower).encode('ascii', 'ignore').decode('utf-8')\n",
        "filtered_text = re.sub('[^A-Za-z0-9\\s]', ' ', text_normalized)\n",
        "#filtered_text = re.sub('[^A-Za-z0-9áéíóúÁÉÍÓÚñÑüÜ\\s]', ' ',text_lower)\n",
        "tokens = nltk.word_tokenize(filtered_text)\n",
        "tokens_no_stopwords = [word for word in tokens if word not in nltk.corpus.stopwords.words('spanish')]\n",
        "stemmed_words = [snowball_stemmer.stem(word) for word in tokens_no_stopwords]"
      ]
    },
    {
      "cell_type": "code",
      "execution_count": 7,
      "metadata": {
        "id": "jgXJjjL38xMG"
      },
      "outputs": [],
      "source": [
        "#text = filtered_text.replace('\\n', '')\n",
        "ner_results_1 = ner(filtered_text[0:2000])"
      ]
    },
    {
      "cell_type": "code",
      "execution_count": 8,
      "metadata": {
        "id": "CvzZhd1-x88d"
      },
      "outputs": [],
      "source": [
        "ner_results_2 = ner(filtered_text[2000:4000])"
      ]
    },
    {
      "cell_type": "code",
      "execution_count": 9,
      "metadata": {
        "id": "U9sa_GERyEH2"
      },
      "outputs": [],
      "source": [
        "ner_results_3 = ner(filtered_text[4000:6000])"
      ]
    },
    {
      "cell_type": "code",
      "execution_count": 10,
      "metadata": {
        "id": "onXNhYKB8xMG"
      },
      "outputs": [],
      "source": [
        "def concatenate_entities(tag_results):\n",
        "    concatenated_entities = []\n",
        "    current_entity = None\n",
        "    current_entity_text = \"\"\n",
        "    for result in tag_results:\n",
        "        if result['entity'] in ['B-PER', 'I-PER']:\n",
        "            if current_entity in ['B-PER', 'I-PER'] and result['entity'] == 'I-PER':\n",
        "                current_entity_text += result['word'].lstrip('▁')\n",
        "            else:\n",
        "                if current_entity is not None:\n",
        "                    concatenated_entities.append(current_entity_text)\n",
        "                current_entity = result['entity']\n",
        "                current_entity_text = result['word'].lstrip('▁')\n",
        "        else:\n",
        "            if current_entity in ['B-PER', 'I-PER']:\n",
        "                concatenated_entities.append(current_entity_text)\n",
        "            current_entity = None\n",
        "            current_entity_text = \"\"\n",
        "    if current_entity in ['B-PER', 'I-PER']:\n",
        "        concatenated_entities.append(current_entity_text)\n",
        "    return concatenated_entities"
      ]
    },
    {
      "cell_type": "code",
      "execution_count": 11,
      "metadata": {
        "colab": {
          "base_uri": "https://localhost:8080/"
        },
        "id": "QY9LR4wfGZTp",
        "outputId": "173109e4-0ae3-4d60-c149-9531ffd46518"
      },
      "outputs": [
        {
          "data": {
            "text/plain": [
              "{'B-LOC', 'B-MISC', 'B-ORG', 'B-PER', 'I-LOC', 'I-ORG', 'I-PER'}"
            ]
          },
          "execution_count": 11,
          "metadata": {},
          "output_type": "execute_result"
        }
      ],
      "source": [
        "def get_entity_types(ner_results):\n",
        "    entity_types = set()\n",
        "    for result in ner_results:\n",
        "        entity_types.add(result['entity'])\n",
        "    return entity_types\n",
        "\n",
        "get_entity_types(ner_results_1)"
      ]
    },
    {
      "cell_type": "code",
      "execution_count": 12,
      "metadata": {
        "colab": {
          "base_uri": "https://localhost:8080/"
        },
        "id": "In4W9glSUrl2",
        "outputId": "1d28a5a6-24af-4977-aca5-53c325672d18"
      },
      "outputs": [
        {
          "data": {
            "text/plain": [
              "[{'entity': 'B-LOC',\n",
              "  'score': 0.98319006,\n",
              "  'index': 13,\n",
              "  'word': '▁cuba',\n",
              "  'start': 42,\n",
              "  'end': 46},\n",
              " {'entity': 'B-LOC',\n",
              "  'score': 0.97265595,\n",
              "  'index': 22,\n",
              "  'word': '▁ber',\n",
              "  'start': 79,\n",
              "  'end': 82},\n",
              " {'entity': 'B-LOC',\n",
              "  'score': 0.945956,\n",
              "  'index': 23,\n",
              "  'word': 'ke',\n",
              "  'start': 82,\n",
              "  'end': 84},\n",
              " {'entity': 'B-LOC',\n",
              "  'score': 0.96639454,\n",
              "  'index': 24,\n",
              "  'word': 'ley',\n",
              "  'start': 84,\n",
              "  'end': 87},\n",
              " {'entity': 'B-PER',\n",
              "  'score': 0.97835314,\n",
              "  'index': 61,\n",
              "  'word': '▁sen',\n",
              "  'start': 265,\n",
              "  'end': 268},\n",
              " {'entity': 'B-PER',\n",
              "  'score': 0.97493297,\n",
              "  'index': 62,\n",
              "  'word': 'or',\n",
              "  'start': 268,\n",
              "  'end': 270},\n",
              " {'entity': 'B-PER',\n",
              "  'score': 0.92876166,\n",
              "  'index': 94,\n",
              "  'word': '▁tol',\n",
              "  'start': 435,\n",
              "  'end': 438},\n",
              " {'entity': 'B-PER',\n",
              "  'score': 0.8814607,\n",
              "  'index': 95,\n",
              "  'word': 'k',\n",
              "  'start': 438,\n",
              "  'end': 439},\n",
              " {'entity': 'B-PER',\n",
              "  'score': 0.71108973,\n",
              "  'index': 96,\n",
              "  'word': 'ien',\n",
              "  'start': 439,\n",
              "  'end': 442},\n",
              " {'entity': 'B-PER',\n",
              "  'score': 0.8217824,\n",
              "  'index': 97,\n",
              "  'word': '▁neil',\n",
              "  'start': 444,\n",
              "  'end': 448},\n",
              " {'entity': 'I-PER',\n",
              "  'score': 0.7707779,\n",
              "  'index': 98,\n",
              "  'word': '▁ga',\n",
              "  'start': 449,\n",
              "  'end': 451},\n",
              " {'entity': 'I-PER',\n",
              "  'score': 0.65883756,\n",
              "  'index': 99,\n",
              "  'word': 'iman',\n",
              "  'start': 451,\n",
              "  'end': 455},\n",
              " {'entity': 'B-PER',\n",
              "  'score': 0.8017308,\n",
              "  'index': 100,\n",
              "  'word': '▁philip',\n",
              "  'start': 457,\n",
              "  'end': 463},\n",
              " {'entity': 'B-PER',\n",
              "  'score': 0.66371906,\n",
              "  'index': 101,\n",
              "  'word': '▁pul',\n",
              "  'start': 464,\n",
              "  'end': 467},\n",
              " {'entity': 'B-PER',\n",
              "  'score': 0.5334241,\n",
              "  'index': 102,\n",
              "  'word': 'l',\n",
              "  'start': 467,\n",
              "  'end': 468},\n",
              " {'entity': 'B-PER',\n",
              "  'score': 0.5119635,\n",
              "  'index': 103,\n",
              "  'word': 'man',\n",
              "  'start': 468,\n",
              "  'end': 471},\n",
              " {'entity': 'B-PER',\n",
              "  'score': 0.97558165,\n",
              "  'index': 125,\n",
              "  'word': '▁sen',\n",
              "  'start': 580,\n",
              "  'end': 583},\n",
              " {'entity': 'B-PER',\n",
              "  'score': 0.9630955,\n",
              "  'index': 126,\n",
              "  'word': 'or',\n",
              "  'start': 583,\n",
              "  'end': 585},\n",
              " {'entity': 'B-PER',\n",
              "  'score': 0.97395724,\n",
              "  'index': 127,\n",
              "  'word': 'ita',\n",
              "  'start': 585,\n",
              "  'end': 588},\n",
              " {'entity': 'B-PER',\n",
              "  'score': 0.9746474,\n",
              "  'index': 139,\n",
              "  'word': '▁sen',\n",
              "  'start': 650,\n",
              "  'end': 653},\n",
              " {'entity': 'B-PER',\n",
              "  'score': 0.96933234,\n",
              "  'index': 140,\n",
              "  'word': 'or',\n",
              "  'start': 653,\n",
              "  'end': 655},\n",
              " {'entity': 'B-MISC',\n",
              "  'score': 0.56616527,\n",
              "  'index': 198,\n",
              "  'word': '▁lar',\n",
              "  'start': 950,\n",
              "  'end': 953},\n",
              " {'entity': 'B-MISC',\n",
              "  'score': 0.42392322,\n",
              "  'index': 199,\n",
              "  'word': 'k',\n",
              "  'start': 953,\n",
              "  'end': 954},\n",
              " {'entity': 'I-MISC',\n",
              "  'score': 0.5410085,\n",
              "  'index': 200,\n",
              "  'word': '▁house',\n",
              "  'start': 955,\n",
              "  'end': 960}]"
            ]
          },
          "execution_count": 12,
          "metadata": {},
          "output_type": "execute_result"
        }
      ],
      "source": [
        "ner_results_3"
      ]
    },
    {
      "cell_type": "code",
      "execution_count": 13,
      "metadata": {
        "colab": {
          "base_uri": "https://localhost:8080/"
        },
        "id": "VIAX0VaoZaPl",
        "outputId": "869c72d4-47be-4935-bff4-7dd8ae239328"
      },
      "outputs": [
        {
          "data": {
            "text/plain": [
              "499183"
            ]
          },
          "execution_count": 13,
          "metadata": {},
          "output_type": "execute_result"
        }
      ],
      "source": [
        "len(filtered_text)"
      ]
    }
  ],
  "metadata": {
    "accelerator": "TPU",
    "colab": {
      "provenance": []
    },
    "kernelspec": {
      "display_name": "Python 3",
      "name": "python3"
    },
    "language_info": {
      "codemirror_mode": {
        "name": "ipython",
        "version": 3
      },
      "file_extension": ".py",
      "mimetype": "text/x-python",
      "name": "python",
      "nbconvert_exporter": "python",
      "pygments_lexer": "ipython3",
      "version": "3.11.5"
    },
    "orig_nbformat": 4,
    "vscode": {
      "interpreter": {
        "hash": "aee8b7b246df8f9039afb4144a1f6fd8d2ca17a180786b69acc140d282b71a49"
      }
    },
    "widgets": {
      "application/vnd.jupyter.widget-state+json": {
        "07394ec2f1e54db39f538e96ef84c904": {
          "model_module": "@jupyter-widgets/controls",
          "model_module_version": "1.5.0",
          "model_name": "HTMLModel",
          "state": {
            "_dom_classes": [],
            "_model_module": "@jupyter-widgets/controls",
            "_model_module_version": "1.5.0",
            "_model_name": "HTMLModel",
            "_view_count": null,
            "_view_module": "@jupyter-widgets/controls",
            "_view_module_version": "1.5.0",
            "_view_name": "HTMLView",
            "description": "",
            "description_tooltip": null,
            "layout": "IPY_MODEL_9a9e326c069c485a9af82ba769fd557f",
            "placeholder": "​",
            "style": "IPY_MODEL_1d041ef6702240879d3cbc8f5425c8c9",
            "value": "pytorch_model.bin: 100%"
          }
        },
        "1d041ef6702240879d3cbc8f5425c8c9": {
          "model_module": "@jupyter-widgets/controls",
          "model_module_version": "1.5.0",
          "model_name": "DescriptionStyleModel",
          "state": {
            "_model_module": "@jupyter-widgets/controls",
            "_model_module_version": "1.5.0",
            "_model_name": "DescriptionStyleModel",
            "_view_count": null,
            "_view_module": "@jupyter-widgets/base",
            "_view_module_version": "1.2.0",
            "_view_name": "StyleView",
            "description_width": ""
          }
        },
        "459aae3da07f4daf8aa44d28d2c43794": {
          "model_module": "@jupyter-widgets/controls",
          "model_module_version": "1.5.0",
          "model_name": "HTMLModel",
          "state": {
            "_dom_classes": [],
            "_model_module": "@jupyter-widgets/controls",
            "_model_module_version": "1.5.0",
            "_model_name": "HTMLModel",
            "_view_count": null,
            "_view_module": "@jupyter-widgets/controls",
            "_view_module_version": "1.5.0",
            "_view_name": "HTMLView",
            "description": "",
            "description_tooltip": null,
            "layout": "IPY_MODEL_f8592c8fa3ec4fc5a5dd33a578f56517",
            "placeholder": "​",
            "style": "IPY_MODEL_d534fd21ca7b4e18aadaf128bd8289f5",
            "value": " 440M/440M [00:23&lt;00:00, 19.0MB/s]"
          }
        },
        "60b180663a804725b30dc7df891dca4e": {
          "model_module": "@jupyter-widgets/controls",
          "model_module_version": "1.5.0",
          "model_name": "ProgressStyleModel",
          "state": {
            "_model_module": "@jupyter-widgets/controls",
            "_model_module_version": "1.5.0",
            "_model_name": "ProgressStyleModel",
            "_view_count": null,
            "_view_module": "@jupyter-widgets/base",
            "_view_module_version": "1.2.0",
            "_view_name": "StyleView",
            "bar_color": null,
            "description_width": ""
          }
        },
        "66f3d849e87b4c2c93359fffd13de223": {
          "model_module": "@jupyter-widgets/base",
          "model_module_version": "1.2.0",
          "model_name": "LayoutModel",
          "state": {
            "_model_module": "@jupyter-widgets/base",
            "_model_module_version": "1.2.0",
            "_model_name": "LayoutModel",
            "_view_count": null,
            "_view_module": "@jupyter-widgets/base",
            "_view_module_version": "1.2.0",
            "_view_name": "LayoutView",
            "align_content": null,
            "align_items": null,
            "align_self": null,
            "border": null,
            "bottom": null,
            "display": null,
            "flex": null,
            "flex_flow": null,
            "grid_area": null,
            "grid_auto_columns": null,
            "grid_auto_flow": null,
            "grid_auto_rows": null,
            "grid_column": null,
            "grid_gap": null,
            "grid_row": null,
            "grid_template_areas": null,
            "grid_template_columns": null,
            "grid_template_rows": null,
            "height": null,
            "justify_content": null,
            "justify_items": null,
            "left": null,
            "margin": null,
            "max_height": null,
            "max_width": null,
            "min_height": null,
            "min_width": null,
            "object_fit": null,
            "object_position": null,
            "order": null,
            "overflow": null,
            "overflow_x": null,
            "overflow_y": null,
            "padding": null,
            "right": null,
            "top": null,
            "visibility": null,
            "width": null
          }
        },
        "9a9e326c069c485a9af82ba769fd557f": {
          "model_module": "@jupyter-widgets/base",
          "model_module_version": "1.2.0",
          "model_name": "LayoutModel",
          "state": {
            "_model_module": "@jupyter-widgets/base",
            "_model_module_version": "1.2.0",
            "_model_name": "LayoutModel",
            "_view_count": null,
            "_view_module": "@jupyter-widgets/base",
            "_view_module_version": "1.2.0",
            "_view_name": "LayoutView",
            "align_content": null,
            "align_items": null,
            "align_self": null,
            "border": null,
            "bottom": null,
            "display": null,
            "flex": null,
            "flex_flow": null,
            "grid_area": null,
            "grid_auto_columns": null,
            "grid_auto_flow": null,
            "grid_auto_rows": null,
            "grid_column": null,
            "grid_gap": null,
            "grid_row": null,
            "grid_template_areas": null,
            "grid_template_columns": null,
            "grid_template_rows": null,
            "height": null,
            "justify_content": null,
            "justify_items": null,
            "left": null,
            "margin": null,
            "max_height": null,
            "max_width": null,
            "min_height": null,
            "min_width": null,
            "object_fit": null,
            "object_position": null,
            "order": null,
            "overflow": null,
            "overflow_x": null,
            "overflow_y": null,
            "padding": null,
            "right": null,
            "top": null,
            "visibility": null,
            "width": null
          }
        },
        "9f51592073ac4c7791ea81bcee1e1afc": {
          "model_module": "@jupyter-widgets/controls",
          "model_module_version": "1.5.0",
          "model_name": "HBoxModel",
          "state": {
            "_dom_classes": [],
            "_model_module": "@jupyter-widgets/controls",
            "_model_module_version": "1.5.0",
            "_model_name": "HBoxModel",
            "_view_count": null,
            "_view_module": "@jupyter-widgets/controls",
            "_view_module_version": "1.5.0",
            "_view_name": "HBoxView",
            "box_style": "",
            "children": [
              "IPY_MODEL_07394ec2f1e54db39f538e96ef84c904",
              "IPY_MODEL_e5d34cf2d6f94e258ecc11abb7f65791",
              "IPY_MODEL_459aae3da07f4daf8aa44d28d2c43794"
            ],
            "layout": "IPY_MODEL_c839f5ea333046e7ae7b39fa33238c1f"
          }
        },
        "c839f5ea333046e7ae7b39fa33238c1f": {
          "model_module": "@jupyter-widgets/base",
          "model_module_version": "1.2.0",
          "model_name": "LayoutModel",
          "state": {
            "_model_module": "@jupyter-widgets/base",
            "_model_module_version": "1.2.0",
            "_model_name": "LayoutModel",
            "_view_count": null,
            "_view_module": "@jupyter-widgets/base",
            "_view_module_version": "1.2.0",
            "_view_name": "LayoutView",
            "align_content": null,
            "align_items": null,
            "align_self": null,
            "border": null,
            "bottom": null,
            "display": null,
            "flex": null,
            "flex_flow": null,
            "grid_area": null,
            "grid_auto_columns": null,
            "grid_auto_flow": null,
            "grid_auto_rows": null,
            "grid_column": null,
            "grid_gap": null,
            "grid_row": null,
            "grid_template_areas": null,
            "grid_template_columns": null,
            "grid_template_rows": null,
            "height": null,
            "justify_content": null,
            "justify_items": null,
            "left": null,
            "margin": null,
            "max_height": null,
            "max_width": null,
            "min_height": null,
            "min_width": null,
            "object_fit": null,
            "object_position": null,
            "order": null,
            "overflow": null,
            "overflow_x": null,
            "overflow_y": null,
            "padding": null,
            "right": null,
            "top": null,
            "visibility": null,
            "width": null
          }
        },
        "d534fd21ca7b4e18aadaf128bd8289f5": {
          "model_module": "@jupyter-widgets/controls",
          "model_module_version": "1.5.0",
          "model_name": "DescriptionStyleModel",
          "state": {
            "_model_module": "@jupyter-widgets/controls",
            "_model_module_version": "1.5.0",
            "_model_name": "DescriptionStyleModel",
            "_view_count": null,
            "_view_module": "@jupyter-widgets/base",
            "_view_module_version": "1.2.0",
            "_view_name": "StyleView",
            "description_width": ""
          }
        },
        "e5d34cf2d6f94e258ecc11abb7f65791": {
          "model_module": "@jupyter-widgets/controls",
          "model_module_version": "1.5.0",
          "model_name": "FloatProgressModel",
          "state": {
            "_dom_classes": [],
            "_model_module": "@jupyter-widgets/controls",
            "_model_module_version": "1.5.0",
            "_model_name": "FloatProgressModel",
            "_view_count": null,
            "_view_module": "@jupyter-widgets/controls",
            "_view_module_version": "1.5.0",
            "_view_name": "ProgressView",
            "bar_style": "success",
            "description": "",
            "description_tooltip": null,
            "layout": "IPY_MODEL_66f3d849e87b4c2c93359fffd13de223",
            "max": 439621341,
            "min": 0,
            "orientation": "horizontal",
            "style": "IPY_MODEL_60b180663a804725b30dc7df891dca4e",
            "value": 439621341
          }
        },
        "f8592c8fa3ec4fc5a5dd33a578f56517": {
          "model_module": "@jupyter-widgets/base",
          "model_module_version": "1.2.0",
          "model_name": "LayoutModel",
          "state": {
            "_model_module": "@jupyter-widgets/base",
            "_model_module_version": "1.2.0",
            "_model_name": "LayoutModel",
            "_view_count": null,
            "_view_module": "@jupyter-widgets/base",
            "_view_module_version": "1.2.0",
            "_view_name": "LayoutView",
            "align_content": null,
            "align_items": null,
            "align_self": null,
            "border": null,
            "bottom": null,
            "display": null,
            "flex": null,
            "flex_flow": null,
            "grid_area": null,
            "grid_auto_columns": null,
            "grid_auto_flow": null,
            "grid_auto_rows": null,
            "grid_column": null,
            "grid_gap": null,
            "grid_row": null,
            "grid_template_areas": null,
            "grid_template_columns": null,
            "grid_template_rows": null,
            "height": null,
            "justify_content": null,
            "justify_items": null,
            "left": null,
            "margin": null,
            "max_height": null,
            "max_width": null,
            "min_height": null,
            "min_width": null,
            "object_fit": null,
            "object_position": null,
            "order": null,
            "overflow": null,
            "overflow_x": null,
            "overflow_y": null,
            "padding": null,
            "right": null,
            "top": null,
            "visibility": null,
            "width": null
          }
        }
      }
    }
  },
  "nbformat": 4,
  "nbformat_minor": 0
}
