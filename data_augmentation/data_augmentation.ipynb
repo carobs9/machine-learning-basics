{
 "cells": [
  {
   "cell_type": "code",
   "execution_count": 1,
   "metadata": {},
   "outputs": [],
   "source": [
    "import pandas as pd\n",
    "import requests\n",
    "from PIL import Image\n",
    "from io import BytesIO\n",
    "import os\n",
    "import matplotlib.pyplot as plt\n",
    "import torch\n",
    "import torchvision\n",
    "from torchvision.transforms import v2\n",
    "from torchvision import transforms\n",
    "import torchvision.transforms.functional as TF\n",
    "import random"
   ]
  },
  {
   "cell_type": "code",
   "execution_count": 178,
   "metadata": {},
   "outputs": [],
   "source": [
    "def download_images_from_excel(excel_file, sheet_name,image_column, brand_column, output_folder):\n",
    "    '''This function downloads the images from the excel in a folder -- use only fist time'''\n",
    "    # Read Excel file\n",
    "    df = pd.read_excel(excel_file, sheet_name=sheet_name)\n",
    "    # Create output folder if it doesn't exist\n",
    "    if not os.path.exists(output_folder):\n",
    "        os.makedirs(output_folder)\n",
    "    # Iterate through rows and download images\n",
    "    for index, row in df.iterrows():\n",
    "        image_url = row[image_column]\n",
    "        brand_name = row[brand_column]\n",
    "        try:\n",
    "            response = requests.get(image_url)\n",
    "            if response.status_code == 200:\n",
    "                # Open image from the response\n",
    "                image = Image.open(BytesIO(response.content))\n",
    "                # Convert image to JPEG format\n",
    "                if image.format != 'JPEG':\n",
    "                    image = image.convert('RGB')\n",
    "                # Save image to the output folder with brand name as filename\n",
    "                image_path = os.path.join(output_folder, f\"{brand_name}.jpg\")\n",
    "                image.save(image_path, \"JPEG\")\n",
    "                #print(f\"Image for {brand_name} downloaded successfully.\")\n",
    "            else:\n",
    "                print(f\"Failed to download image for {brand_name}. Status code: {response.status_code}\")\n",
    "        except Exception as e:\n",
    "            print(f\"Failed to download image for {brand_name}. Error: {e}\")"
   ]
  },
  {
   "cell_type": "code",
   "execution_count": 2,
   "metadata": {},
   "outputs": [],
   "source": [
    "EXCEL_FILE = r\"C:\\Users\\CarolinaSoria\\Desktop\\media_catch\\merged_data.xlsx\" # path where excel is saved\n",
    "SHEET_NAME = 'Sheet1'\n",
    "IMAGE_COLUMN = 'exampleUrl'\n",
    "BRAND_COLUMN = 'name'\n",
    "IMAGE_DIR = r\"C:\\Users\\CarolinaSoria\\Desktop\\media_catch\\images\" # path where images will be saved\n",
    "AUGMENTED_OUTPUT_DIR = \"augmented_images\"\n",
    "IMAGE_FILENAMES = [f for f in os.listdir(IMAGE_DIR) if os.path.isfile(os.path.join(IMAGE_DIR, f))]"
   ]
  },
  {
   "cell_type": "code",
   "execution_count": 181,
   "metadata": {},
   "outputs": [
    {
     "name": "stderr",
     "output_type": "stream",
     "text": [
      "c:\\Users\\CarolinaSoria\\anaconda3\\Lib\\site-packages\\PIL\\Image.py:996: UserWarning: Palette images with Transparency expressed in bytes should be converted to RGBA images\n",
      "  warnings.warn(\n"
     ]
    },
    {
     "name": "stdout",
     "output_type": "stream",
     "text": [
      "Failed to download image for Betway. Status code: 403\n",
      "Failed to download image for BO1. Error: Invalid URL 'bo1.de/wp-content/uploads/2023/10/BO1-TypoLogo-Black-min.svg': No scheme supplied. Perhaps you meant https://bo1.de/wp-content/uploads/2023/10/BO1-TypoLogo-Black-min.svg?\n",
      "Failed to download image for Eleda. Error: cannot identify image file <_io.BytesIO object at 0x0000024543B05350>\n",
      "Failed to download image for Exakta. Status code: 404\n",
      "Failed to download image for GMB Ejendomme. Error: cannot identify image file <_io.BytesIO object at 0x00000243934A13F0>\n",
      "Failed to download image for HORN. Error: Invalid URL 'horn-group.com/typo3conf/ext/ph_content/Resources/Public/Icons/logo-main.svg': No scheme supplied. Perhaps you meant https://horn-group.com/typo3conf/ext/ph_content/Resources/Public/Icons/logo-main.svg?\n",
      "Failed to download image for Hotel Kronjylland. Status code: 403\n",
      "Failed to download image for Jacon. Status code: 555\n",
      "Failed to download image for Kreditbanken. Error: cannot identify image file <_io.BytesIO object at 0x00000243943857B0>\n",
      "Failed to download image for Levehuse. Error: cannot identify image file <_io.BytesIO object at 0x0000024393426BB0>\n",
      "Failed to download image for Lotto Hessen. Error: cannot identify image file <_io.BytesIO object at 0x00000243942BAE30>\n",
      "Failed to download image for Mainova. Error: cannot identify image file <_io.BytesIO object at 0x0000024393426BB0>\n",
      "Failed to download image for Nielsen Car Group Adminstration A/S. Error: [Errno 2] No such file or directory: 'C:\\\\Users\\\\CarolinaSoria\\\\Desktop\\\\media_catch\\\\images\\\\Nielsen Car Group Adminstration A/S.jpg'\n",
      "Failed to download image for Nonbo. Status code: 403\n",
      "Failed to download image for NordicBet. Error: cannot identify image file <_io.BytesIO object at 0x0000024539ED6570>\n",
      "Failed to download image for Novasol. Error: cannot identify image file <_io.BytesIO object at 0x00000245531753F0>\n",
      "Failed to download image for Nutramino. Error: cannot identify image file <_io.BytesIO object at 0x0000024545ED7C90>\n",
      "Failed to download image for Panelbyg ApS. Error: cannot identify image file <_io.BytesIO object at 0x0000024543A8CEA0>\n",
      "Failed to download image for Pierre Ejendomme. Status code: 403\n",
      "Failed to download image for Planet Huse. Error: cannot identify image file <_io.BytesIO object at 0x0000024396AB08B0>\n",
      "Failed to download image for Poul Munk. Error: cannot identify image file <_io.BytesIO object at 0x0000024387348BD0>\n",
      "Failed to download image for Ringsted Outlet. Status code: 555\n",
      "Failed to download image for RMV. Status code: 403\n",
      "Failed to download image for RoboMarkets. Error: cannot identify image file <_io.BytesIO object at 0x0000024543B049A0>\n",
      "Failed to download image for RoboMarkets. Error: cannot identify image file <_io.BytesIO object at 0x0000024543B05350>\n",
      "Failed to download image for SeSol. Error: cannot identify image file <_io.BytesIO object at 0x0000024388D248B0>\n",
      "Failed to download image for Skjern Bank A/S. Error: [Errno 2] No such file or directory: 'C:\\\\Users\\\\CarolinaSoria\\\\Desktop\\\\media_catch\\\\images\\\\Skjern Bank A/S.jpg'\n",
      "Failed to download image for Sparebanken Vest. Status code: 403\n"
     ]
    }
   ],
   "source": [
    "if __name__ == \"__main__\":\n",
    "    excel_file = EXCEL_FILE\n",
    "    sheet_name = SHEET_NAME\n",
    "    image_column = IMAGE_COLUMN\n",
    "    brand_column = BRAND_COLUMN\n",
    "    image_directory = IMAGE_DIR\n",
    "    download_images_from_excel(excel_file, sheet_name, image_column, brand_column, image_directory)"
   ]
  },
  {
   "cell_type": "code",
   "execution_count": 3,
   "metadata": {},
   "outputs": [],
   "source": [
    "def define_image_paths(image_directory):\n",
    "    '''\n",
    "    Find paths of images to process them later.\n",
    "    Input = directory (str)\n",
    "    Output = list of image paths\n",
    "    '''\n",
    "    image_paths = []\n",
    "    for dirpath, _, filenames in os.walk(image_directory):\n",
    "        for filename in filenames:\n",
    "            # Check if the file is an image (e.g., jpg or png)\n",
    "            if filename.lower().endswith(('.jpg', '.jpeg', '.png')):\n",
    "                image_path = os.path.join(dirpath, filename)\n",
    "                image_paths.append(image_path)\n",
    "    return image_paths\n",
    "\n",
    "def image_to_tensor(image_paths):\n",
    "    '''\n",
    "    Turn image to tensor format and normalize.\n",
    "    Input = image paths as list\n",
    "    Output = list of tensors\n",
    "    '''\n",
    "    tensor_images = []\n",
    "    for path in image_paths:\n",
    "        img = Image.open(path)\n",
    "        transform_to_tensor=v2.Compose([v2.ToTensor()])\n",
    "        img = transform_to_tensor(img)\n",
    "        tensor_images.append(img)\n",
    "    return tensor_images\n",
    "\n",
    "def rgb_to_rgba(images):\n",
    "    '''\n",
    "    Turn RGB to RGBA format\n",
    "    Input: RGB images (list)\n",
    "    Output: RGBA images (list)\n",
    "    '''\n",
    "    rgba_images = []\n",
    "    for img in images:\n",
    "        alpha_channel = torch.full((1, img.shape[1], img.shape[2]), 255, dtype=torch.uint8)\n",
    "        rgba_image = torch.cat((img, alpha_channel), dim=0)\n",
    "        rgba_images.append(rgba_image)\n",
    "    return rgba_images\n",
    "\n",
    "def tensor_to_pil(images):\n",
    "    '''\n",
    "    Turn image to PIL format. .\n",
    "    Input: tensor images (list)\n",
    "    Output: PIL imges (list)\n",
    "    '''\n",
    "    pil_images = []\n",
    "    for img in images:\n",
    "        pil_image = TF.to_pil_image(img)\n",
    "        pil_images.append(pil_image)\n",
    "    return pil_images\n",
    "\n",
    "def rotate(images, angle):\n",
    "    '''\n",
    "    This function transforms PIL images to RGBA and rotates them. Then, it turns them back into tensors.\n",
    "    Inputs: RGB images list as PIL format (list), rotation angle (int or float).\n",
    "    Output: rotated PIL images (list). NOTE: the images are not turned into tensors because they need to be in PIL format for saving them later.\n",
    "    '''\n",
    "    rotated_images = []\n",
    "    for img in images:\n",
    "        rgba_img = img.convert('RGBA')\n",
    "        rotated_img = torchvision.transforms.functional.rotate(rgba_img, angle, fill=(0, 0, 0, 0), expand=True)\n",
    "        rotated_images.append(rotated_img)\n",
    "    return rotated_images \n",
    "\n",
    "def apply(images, aug):\n",
    "    '''\n",
    "    Apply augmentation.\n",
    "    Input: tensors (list), augmentation (pytorch)\n",
    "    Output: augmented images as tensors (list)\n",
    "    '''\n",
    "    augmented_images = []\n",
    "    for img in images:\n",
    "        Y = aug(img)\n",
    "        augmented_images.append(Y)\n",
    "    return augmented_images\n",
    "\n",
    "def display_images(indices, images):\n",
    "    ''' \n",
    "    Display images visually.\n",
    "    Input: tensors (list), list indices(as a list of numbers).\n",
    "    Output: PIL image as display\n",
    "    '''\n",
    "    for idx in indices:\n",
    "        blurred_image_tensor = images[idx]\n",
    "        blurred_image_pil = transforms.ToPILImage()(blurred_image_tensor)  # Convert tensor to PIL image\n",
    "        plt.imshow(blurred_image_pil)\n",
    "        plt.axis('off')\n",
    "        plt.show()\n"
   ]
  },
  {
   "cell_type": "code",
   "execution_count": 4,
   "metadata": {},
   "outputs": [
    {
     "name": "stderr",
     "output_type": "stream",
     "text": [
      "c:\\Users\\CarolinaSoria\\anaconda3\\Lib\\site-packages\\torchvision\\transforms\\v2\\_deprecated.py:41: UserWarning: The transform `ToTensor()` is deprecated and will be removed in a future release. Instead, please use `v2.Compose([v2.ToImage(), v2.ToDtype(torch.float32, scale=True)])`.\n",
      "  warnings.warn(\n"
     ]
    }
   ],
   "source": [
    "image_paths = define_image_paths(IMAGE_DIR)\n",
    "tensor_images = image_to_tensor(image_paths)"
   ]
  },
  {
   "cell_type": "code",
   "execution_count": 5,
   "metadata": {},
   "outputs": [],
   "source": [
    "# SET OF TRANSFORMATIONS\n",
    "gaussian_blur = v2.Compose([v2.GaussianBlur(kernel_size=(7, 7), sigma=(0.1, 5))])\n",
    "color_jitter = v2.ColorJitter(brightness=0.5, contrast=0, saturation=0, hue=0) # NOT WORKING\n",
    "shape_aug = v2.RandomResizedCrop((200, 200), scale=(0.1, 1), ratio=(0.5, 2)) # shape augmentation\n",
    "random_affine = v2.RandomAffine(45)"
   ]
  },
  {
   "cell_type": "code",
   "execution_count": 6,
   "metadata": {},
   "outputs": [],
   "source": [
    "# APPLYING TRANSFORMATIONS\n",
    "blurred = apply(tensor_images, gaussian_blur)\n",
    "cropped = apply(tensor_images, shape_aug)\n",
    "random_affine = apply(tensor_images, random_affine)\n",
    "pil_images = tensor_to_pil(tensor_images) # for rotation, we first need to convert tensors into PIL images\n",
    "rotated_45 = rotate(pil_images, angle=45)\n",
    "rotated_90 = rotate(pil_images, angle=90)\n",
    "rotated_30 = rotate(pil_images, angle=30)"
   ]
  },
  {
   "cell_type": "code",
   "execution_count": 7,
   "metadata": {},
   "outputs": [
    {
     "data": {
      "image/png": "[encoded data removed]",
      "text/plain": [
       "<Figure size 640x480 with 1 Axes>"
      ]
     },
     "metadata": {},
     "output_type": "display_data"
    }
   ],
   "source": [
    "display_images([0], cropped)"
   ]
  },
  {
   "cell_type": "code",
   "execution_count": 8,
   "metadata": {},
   "outputs": [],
   "source": [
    "# display_images([19], rotated) TODO: fix display for rotated images"
   ]
  },
  {
   "cell_type": "code",
   "execution_count": 9,
   "metadata": {},
   "outputs": [],
   "source": [
    "augmented_output_dir = AUGMENTED_OUTPUT_DIR\n",
    "image_filenames = IMAGE_FILENAMES\n",
    "os.makedirs(augmented_output_dir, exist_ok=True)\n",
    "    # Create subfolders for each logo\n",
    "for logo_name in image_filenames:\n",
    "    logo_folder = os.path.join(augmented_output_dir, logo_name)\n",
    "    os.makedirs(logo_folder, exist_ok=True)\n",
    "\n",
    "    # Save each augmented image in the corresponding subfolder\n",
    "for i, (original_img, blurred_img, cropped_img, affine_img, rotated_1, rotated_2, rotated_3 ) in enumerate(zip(tensor_images, blurred, cropped, random_affine, rotated_45, rotated_30, rotated_90)):\n",
    "    logo_name = image_filenames[i]\n",
    "    logo_folder = os.path.join(augmented_output_dir, logo_name)\n",
    "    \n",
    "    original_pil = TF.to_pil_image(original_img)\n",
    "    blurred_pil = TF.to_pil_image(blurred_img)\n",
    "    cropped_pil = TF.to_pil_image(cropped_img)\n",
    "    affined_pil = TF.to_pil_image(affine_img)\n",
    "    rotated_pil_1, rotated_pil_2, rotated_pil_3 = rotated_1, rotated_2, rotated_3\n",
    "\n",
    "        # save PIL images\n",
    "    original_pil.save(os.path.join(logo_folder, f\"original_{i}.png\"))\n",
    "    blurred_pil.save(os.path.join(logo_folder, f\"blurred_{i}.png\"))\n",
    "    cropped_pil.save(os.path.join(logo_folder, f\"cropped_{i}.png\"))\n",
    "    affined_pil.save(os.path.join(logo_folder, f\"affined_{i}.png\"))\n",
    "    rotated_pil_1.save(os.path.join(logo_folder, f\"rotated_45_{i}.png\"))\n",
    "    rotated_pil_2.save(os.path.join(logo_folder, f\"rotated_30_{i}.png\"))\n",
    "    rotated_pil_3.save(os.path.join(logo_folder, f\"rotated_90_{i}.png\"))"
   ]
  },
  {
   "cell_type": "code",
   "execution_count": 174,
   "metadata": {},
   "outputs": [],
   "source": []
  },
  {
   "cell_type": "code",
   "execution_count": null,
   "metadata": {},
   "outputs": [],
   "source": []
  }
 ],
 "metadata": {
  "kernelspec": {
   "display_name": "base",
   "language": "python",
   "name": "python3"
  },
  "language_info": {
   "codemirror_mode": {
    "name": "ipython",
    "version": 3
   },
   "file_extension": ".py",
   "mimetype": "text/x-python",
   "name": "python",
   "nbconvert_exporter": "python",
   "pygments_lexer": "ipython3",
   "version": "3.11.5"
  }
 },
 "nbformat": 4,
 "nbformat_minor": 2
}
