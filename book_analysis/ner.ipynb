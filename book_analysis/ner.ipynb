{
  "cells": [
    {
      "cell_type": "code",
      "execution_count": 5,
      "metadata": {
        "id": "jo9FBRKL8xMA"
      },
      "outputs": [],
      "source": [
        "%%capture\n",
        "!pip install PyPDF2\n",
        "!pip install datasets\n",
        "!pip install torch\n",
        "!pip install -U accelerate\n",
        "!pip install -U transformers\n",
        "!pip install datasets\n",
        "!pip install transformers[torch]"
      ]
    },
    {
      "cell_type": "code",
      "execution_count": 1,
      "metadata": {},
      "outputs": [
        {
          "name": "stdout",
          "output_type": "stream",
          "text": [
            "WARNING:tensorflow:From c:\\Users\\CarolinaSoria\\anaconda3\\Lib\\site-packages\\keras\\src\\losses.py:2976: The name tf.losses.sparse_softmax_cross_entropy is deprecated. Please use tf.compat.v1.losses.sparse_softmax_cross_entropy instead.\n",
            "\n"
          ]
        },
        {
          "data": {
            "application/vnd.jupyter.widget-view+json": {
              "model_id": "a54c235b11754ebda0e092c6b03ab717",
              "version_major": 2,
              "version_minor": 0
            },
            "text/plain": [
              "tokenizer_config.json:   0%|          | 0.00/310 [00:00<?, ?B/s]"
            ]
          },
          "metadata": {},
          "output_type": "display_data"
        },
        {
          "name": "stderr",
          "output_type": "stream",
          "text": [
            "c:\\Users\\CarolinaSoria\\anaconda3\\Lib\\site-packages\\huggingface_hub\\file_download.py:148: UserWarning: `huggingface_hub` cache-system uses symlinks by default to efficiently store duplicated files but your machine does not support them in C:\\Users\\CarolinaSoria\\.cache\\huggingface\\hub\\models--dccuchile--bert-base-spanish-wwm-uncased. Caching files will still work but in a degraded version that might require more space on your disk. This warning can be disabled by setting the `HF_HUB_DISABLE_SYMLINKS_WARNING` environment variable. For more details, see https://huggingface.co/docs/huggingface_hub/how-to-cache#limitations.\n",
            "To support symlinks on Windows, you either need to activate Developer Mode or to run Python as an administrator. In order to see activate developer mode, see this article: https://docs.microsoft.com/en-us/windows/apps/get-started/enable-your-device-for-development\n",
            "  warnings.warn(message)\n"
          ]
        },
        {
          "data": {
            "application/vnd.jupyter.widget-view+json": {
              "model_id": "2ae8c70be263411292deda793a81f02d",
              "version_major": 2,
              "version_minor": 0
            },
            "text/plain": [
              "config.json:   0%|          | 0.00/650 [00:00<?, ?B/s]"
            ]
          },
          "metadata": {},
          "output_type": "display_data"
        },
        {
          "data": {
            "application/vnd.jupyter.widget-view+json": {
              "model_id": "30c320969730433b8426db7055910faa",
              "version_major": 2,
              "version_minor": 0
            },
            "text/plain": [
              "vocab.txt:   0%|          | 0.00/248k [00:00<?, ?B/s]"
            ]
          },
          "metadata": {},
          "output_type": "display_data"
        },
        {
          "data": {
            "application/vnd.jupyter.widget-view+json": {
              "model_id": "fe1157ff7d6c4a6e81171b45f4d528cd",
              "version_major": 2,
              "version_minor": 0
            },
            "text/plain": [
              "tokenizer.json:   0%|          | 0.00/486k [00:00<?, ?B/s]"
            ]
          },
          "metadata": {},
          "output_type": "display_data"
        },
        {
          "data": {
            "application/vnd.jupyter.widget-view+json": {
              "model_id": "1c837e55fe5341e78ac67d09f5cd9ff7",
              "version_major": 2,
              "version_minor": 0
            },
            "text/plain": [
              "special_tokens_map.json:   0%|          | 0.00/134 [00:00<?, ?B/s]"
            ]
          },
          "metadata": {},
          "output_type": "display_data"
        }
      ],
      "source": [
        "from utils_ner import extract_text_from_pdf\n",
        "from utils_ner import load_dataset, PyPDF2\n",
        "from utils_ner import AutoTokenizer, DataCollatorForTokenClassification, AutoModelForTokenClassification, tokenize_and_align_tags, TrainingArguments, Trainer, TrainingArguments, pipeline"
      ]
    },
    {
      "cell_type": "code",
      "execution_count": 2,
      "metadata": {
        "id": "KD8a-pwy-kp3"
      },
      "outputs": [],
      "source": [
        "pdf_file_path = \"el-amante-japones-isabel-allende.pdf\"\n",
        "extracted_text = extract_text_from_pdf(pdf_file_path)"
      ]
    },
    {
      "cell_type": "code",
      "execution_count": 16,
      "metadata": {
        "id": "aBdWrhEB8xMD"
      },
      "outputs": [
        {
          "name": "stderr",
          "output_type": "stream",
          "text": [
            "Found cached dataset conll2002 (file://C:/Users/CarolinaSoria/.cache/huggingface/datasets/conll2002/es/1.0.0/a3a8a8612caf57271f5b35c5ae1dd25f99ddb9efb9c1667abaa70ede33e863e5)\n"
          ]
        },
        {
          "ename": "NotImplementedError",
          "evalue": "Loading a dataset cached in a LocalFileSystem is not supported.",
          "output_type": "error",
          "traceback": [
            "\u001b[1;31m---------------------------------------------------------------------------\u001b[0m",
            "\u001b[1;31mNotImplementedError\u001b[0m                       Traceback (most recent call last)",
            "Cell \u001b[1;32mIn[16], line 1\u001b[0m\n\u001b[1;32m----> 1\u001b[0m conll_dataset \u001b[38;5;241m=\u001b[39m load_dataset(\u001b[38;5;124m\"\u001b[39m\u001b[38;5;124mconll2002\u001b[39m\u001b[38;5;124m\"\u001b[39m, \u001b[38;5;124m\"\u001b[39m\u001b[38;5;124mes\u001b[39m\u001b[38;5;124m\"\u001b[39m)\n\u001b[0;32m      2\u001b[0m train_data \u001b[38;5;241m=\u001b[39m conll_dataset[\u001b[38;5;124m\"\u001b[39m\u001b[38;5;124mtrain\u001b[39m\u001b[38;5;124m\"\u001b[39m]\n\u001b[0;32m      3\u001b[0m validation_data \u001b[38;5;241m=\u001b[39m conll_dataset[\u001b[38;5;124m\"\u001b[39m\u001b[38;5;124mvalidation\u001b[39m\u001b[38;5;124m\"\u001b[39m]\n",
            "File \u001b[1;32mc:\\Users\\CarolinaSoria\\anaconda3\\Lib\\site-packages\\datasets\\load.py:1810\u001b[0m, in \u001b[0;36mload_dataset\u001b[1;34m(path, name, data_dir, data_files, split, cache_dir, features, download_config, download_mode, verification_mode, ignore_verifications, keep_in_memory, save_infos, revision, use_auth_token, task, streaming, num_proc, storage_options, **config_kwargs)\u001b[0m\n\u001b[0;32m   1806\u001b[0m \u001b[38;5;66;03m# Build dataset for splits\u001b[39;00m\n\u001b[0;32m   1807\u001b[0m keep_in_memory \u001b[38;5;241m=\u001b[39m (\n\u001b[0;32m   1808\u001b[0m     keep_in_memory \u001b[38;5;28;01mif\u001b[39;00m keep_in_memory \u001b[38;5;129;01mis\u001b[39;00m \u001b[38;5;129;01mnot\u001b[39;00m \u001b[38;5;28;01mNone\u001b[39;00m \u001b[38;5;28;01melse\u001b[39;00m is_small_dataset(builder_instance\u001b[38;5;241m.\u001b[39minfo\u001b[38;5;241m.\u001b[39mdataset_size)\n\u001b[0;32m   1809\u001b[0m )\n\u001b[1;32m-> 1810\u001b[0m ds \u001b[38;5;241m=\u001b[39m builder_instance\u001b[38;5;241m.\u001b[39mas_dataset(split\u001b[38;5;241m=\u001b[39msplit, verification_mode\u001b[38;5;241m=\u001b[39mverification_mode, in_memory\u001b[38;5;241m=\u001b[39mkeep_in_memory)\n\u001b[0;32m   1811\u001b[0m \u001b[38;5;66;03m# Rename and cast features to match task schema\u001b[39;00m\n\u001b[0;32m   1812\u001b[0m \u001b[38;5;28;01mif\u001b[39;00m task \u001b[38;5;129;01mis\u001b[39;00m \u001b[38;5;129;01mnot\u001b[39;00m \u001b[38;5;28;01mNone\u001b[39;00m:\n",
            "File \u001b[1;32mc:\\Users\\CarolinaSoria\\anaconda3\\Lib\\site-packages\\datasets\\builder.py:1107\u001b[0m, in \u001b[0;36mDatasetBuilder.as_dataset\u001b[1;34m(self, split, run_post_process, verification_mode, ignore_verifications, in_memory)\u001b[0m\n\u001b[0;32m   1105\u001b[0m is_local \u001b[38;5;241m=\u001b[39m \u001b[38;5;129;01mnot\u001b[39;00m is_remote_filesystem(\u001b[38;5;28mself\u001b[39m\u001b[38;5;241m.\u001b[39m_fs)\n\u001b[0;32m   1106\u001b[0m \u001b[38;5;28;01mif\u001b[39;00m \u001b[38;5;129;01mnot\u001b[39;00m is_local:\n\u001b[1;32m-> 1107\u001b[0m     \u001b[38;5;28;01mraise\u001b[39;00m \u001b[38;5;167;01mNotImplementedError\u001b[39;00m(\u001b[38;5;124mf\u001b[39m\u001b[38;5;124m\"\u001b[39m\u001b[38;5;124mLoading a dataset cached in a \u001b[39m\u001b[38;5;132;01m{\u001b[39;00m\u001b[38;5;28mtype\u001b[39m(\u001b[38;5;28mself\u001b[39m\u001b[38;5;241m.\u001b[39m_fs)\u001b[38;5;241m.\u001b[39m\u001b[38;5;18m__name__\u001b[39m\u001b[38;5;132;01m}\u001b[39;00m\u001b[38;5;124m is not supported.\u001b[39m\u001b[38;5;124m\"\u001b[39m)\n\u001b[0;32m   1108\u001b[0m \u001b[38;5;28;01mif\u001b[39;00m \u001b[38;5;129;01mnot\u001b[39;00m os\u001b[38;5;241m.\u001b[39mpath\u001b[38;5;241m.\u001b[39mexists(\u001b[38;5;28mself\u001b[39m\u001b[38;5;241m.\u001b[39m_output_dir):\n\u001b[0;32m   1109\u001b[0m     \u001b[38;5;28;01mraise\u001b[39;00m \u001b[38;5;167;01mFileNotFoundError\u001b[39;00m(\n\u001b[0;32m   1110\u001b[0m         \u001b[38;5;124mf\u001b[39m\u001b[38;5;124m\"\u001b[39m\u001b[38;5;124mDataset \u001b[39m\u001b[38;5;132;01m{\u001b[39;00m\u001b[38;5;28mself\u001b[39m\u001b[38;5;241m.\u001b[39mname\u001b[38;5;132;01m}\u001b[39;00m\u001b[38;5;124m: could not find data in \u001b[39m\u001b[38;5;132;01m{\u001b[39;00m\u001b[38;5;28mself\u001b[39m\u001b[38;5;241m.\u001b[39m_output_dir\u001b[38;5;132;01m}\u001b[39;00m\u001b[38;5;124m. Please make sure to call \u001b[39m\u001b[38;5;124m\"\u001b[39m\n\u001b[0;32m   1111\u001b[0m         \u001b[38;5;124m\"\u001b[39m\u001b[38;5;124mbuilder.download_and_prepare(), or use \u001b[39m\u001b[38;5;124m\"\u001b[39m\n\u001b[0;32m   1112\u001b[0m         \u001b[38;5;124m\"\u001b[39m\u001b[38;5;124mdatasets.load_dataset() before trying to access the Dataset object.\u001b[39m\u001b[38;5;124m\"\u001b[39m\n\u001b[0;32m   1113\u001b[0m     )\n",
            "\u001b[1;31mNotImplementedError\u001b[0m: Loading a dataset cached in a LocalFileSystem is not supported."
          ]
        }
      ],
      "source": [
        "conll_dataset = load_dataset(\"conll2002\", \"es\")\n",
        "train_data = conll_dataset[\"train\"]\n",
        "validation_data = conll_dataset[\"validation\"]\n",
        "test_data = conll_dataset[\"test\"]"
      ]
    },
    {
      "cell_type": "code",
      "execution_count": 4,
      "metadata": {
        "id": "RTYIfTlz8xME"
      },
      "outputs": [
        {
          "ename": "NameError",
          "evalue": "name 'conll_dataset' is not defined",
          "output_type": "error",
          "traceback": [
            "\u001b[1;31m---------------------------------------------------------------------------\u001b[0m",
            "\u001b[1;31mNameError\u001b[0m                                 Traceback (most recent call last)",
            "Cell \u001b[1;32mIn[4], line 1\u001b[0m\n\u001b[1;32m----> 1\u001b[0m tokenized_conll \u001b[38;5;241m=\u001b[39m conll_dataset\u001b[38;5;241m.\u001b[39mmap(tokenize_and_align_tags, batched\u001b[38;5;241m=\u001b[39m\u001b[38;5;28;01mTrue\u001b[39;00m)\n",
            "\u001b[1;31mNameError\u001b[0m: name 'conll_dataset' is not defined"
          ]
        }
      ],
      "source": [
        "tokenized_conll = conll_dataset.map(tokenize_and_align_tags, batched=True)"
      ]
    },
    {
      "cell_type": "code",
      "execution_count": null,
      "metadata": {
        "id": "4EQIWET78xME"
      },
      "outputs": [],
      "source": [
        "tag_names = conll_dataset[\"test\"].features[f\"ner_tags\"].feature.names\n",
        "id2label = dict(enumerate(tag_names))\n",
        "label2id = dict(zip(id2label.values(), id2label.keys()))"
      ]
    },
    {
      "cell_type": "code",
      "execution_count": 10,
      "metadata": {
        "colab": {
          "base_uri": "https://localhost:8080/",
          "height": 106,
          "referenced_widgets": [
            "9f51592073ac4c7791ea81bcee1e1afc",
            "07394ec2f1e54db39f538e96ef84c904",
            "e5d34cf2d6f94e258ecc11abb7f65791",
            "459aae3da07f4daf8aa44d28d2c43794",
            "c839f5ea333046e7ae7b39fa33238c1f",
            "9a9e326c069c485a9af82ba769fd557f",
            "1d041ef6702240879d3cbc8f5425c8c9",
            "66f3d849e87b4c2c93359fffd13de223",
            "60b180663a804725b30dc7df891dca4e",
            "f8592c8fa3ec4fc5a5dd33a578f56517",
            "d534fd21ca7b4e18aadaf128bd8289f5"
          ]
        },
        "id": "bF-WSUgD8xME",
        "outputId": "eb1b6e8b-1d68-4300-eaf0-48215db87eba"
      },
      "outputs": [
        {
          "ename": "NameError",
          "evalue": "name 'AutoModelForTokenClassification' is not defined",
          "output_type": "error",
          "traceback": [
            "\u001b[1;31m---------------------------------------------------------------------------\u001b[0m",
            "\u001b[1;31mNameError\u001b[0m                                 Traceback (most recent call last)",
            "Cell \u001b[1;32mIn[10], line 1\u001b[0m\n\u001b[1;32m----> 1\u001b[0m model \u001b[38;5;241m=\u001b[39m AutoModelForTokenClassification\u001b[38;5;241m.\u001b[39mfrom_pretrained(\n\u001b[0;32m      2\u001b[0m     \u001b[38;5;124m'\u001b[39m\u001b[38;5;124mdccuchile/bert-base-spanish-wwm-uncased\u001b[39m\u001b[38;5;124m'\u001b[39m, num_labels\u001b[38;5;241m=\u001b[39m\u001b[38;5;28mlen\u001b[39m(id2label), id2label\u001b[38;5;241m=\u001b[39mid2label, label2id\u001b[38;5;241m=\u001b[39mlabel2id, ignore_mismatched_sizes\u001b[38;5;241m=\u001b[39m\u001b[38;5;28;01mTrue\u001b[39;00m\n\u001b[0;32m      3\u001b[0m )\n",
            "\u001b[1;31mNameError\u001b[0m: name 'AutoModelForTokenClassification' is not defined"
          ]
        }
      ],
      "source": [
        "model = AutoModelForTokenClassification.from_pretrained(\n",
        "    'dccuchile/bert-base-spanish-wwm-uncased', num_labels=len(id2label), id2label=id2label, label2id=label2id, ignore_mismatched_sizes=True\n",
        ")"
      ]
    },
    {
      "cell_type": "code",
      "execution_count": null,
      "metadata": {
        "id": "rPMFgHaW8xMF"
      },
      "outputs": [],
      "source": [
        "training_args = TrainingArguments(\n",
        "    output_dir='/content/drive/MyDrive/el_amante_japones/ner_model_3',\n",
        "    learning_rate=2e-6,\n",
        "    per_device_train_batch_size=8,\n",
        "    per_device_eval_batch_size=8,\n",
        "    num_train_epochs=3,\n",
        "    weight_decay=0.01,\n",
        "    evaluation_strategy=\"epoch\",\n",
        "    save_strategy=\"epoch\",\n",
        "    load_best_model_at_end=True,\n",
        "    push_to_hub=False,\n",
        ")"
      ]
    },
    {
      "cell_type": "code",
      "execution_count": null,
      "metadata": {
        "colab": {
          "base_uri": "https://localhost:8080/",
          "height": 282
        },
        "id": "Dr_KWCvA8xMF",
        "outputId": "9a87c15d-4eb2-4df8-904e-b7742ebe8129"
      },
      "outputs": [
        {
          "name": "stderr",
          "output_type": "stream",
          "text": [
            "/usr/local/lib/python3.10/dist-packages/accelerate/accelerator.py:432: FutureWarning: Passing the following arguments to `Accelerator` is deprecated and will be removed in version 1.0 of Accelerate: dict_keys(['dispatch_batches', 'split_batches', 'even_batches', 'use_seedable_sampler']). Please pass an `accelerate.DataLoaderConfiguration` instead: \n",
            "dataloader_config = DataLoaderConfiguration(dispatch_batches=None, split_batches=False, even_batches=True, use_seedable_sampler=True)\n",
            "  warnings.warn(\n"
          ]
        },
        {
          "data": {
            "text/html": [
              "\n",
              "    <div>\n",
              "      \n",
              "      <progress value='3123' max='3123' style='width:300px; height:20px; vertical-align: middle;'></progress>\n",
              "      [3123/3123 10:12, Epoch 3/3]\n",
              "    </div>\n",
              "    <table border=\"1\" class=\"dataframe\">\n",
              "  <thead>\n",
              " <tr style=\"text-align: left;\">\n",
              "      <th>Epoch</th>\n",
              "      <th>Training Loss</th>\n",
              "      <th>Validation Loss</th>\n",
              "    </tr>\n",
              "  </thead>\n",
              "  <tbody>\n",
              "    <tr>\n",
              "      <td>1</td>\n",
              "      <td>0.204800</td>\n",
              "      <td>0.166911</td>\n",
              "    </tr>\n",
              "    <tr>\n",
              "      <td>2</td>\n",
              "      <td>0.147700</td>\n",
              "      <td>0.137032</td>\n",
              "    </tr>\n",
              "    <tr>\n",
              "      <td>3</td>\n",
              "      <td>0.132900</td>\n",
              "      <td>0.132445</td>\n",
              "    </tr>\n",
              "  </tbody>\n",
              "</table><p>"
            ],
            "text/plain": [
              "<IPython.core.display.HTML object>"
            ]
          },
          "metadata": {},
          "output_type": "display_data"
        },
        {
          "data": {
            "text/plain": [
              "TrainOutput(global_step=3123, training_loss=0.2025254262092974, metrics={'train_runtime': 612.5589, 'train_samples_per_second': 40.767, 'train_steps_per_second': 5.098, 'total_flos': 927919421530704.0, 'train_loss': 0.2025254262092974, 'epoch': 3.0})"
            ]
          },
          "execution_count": 98,
          "metadata": {},
          "output_type": "execute_result"
        }
      ],
      "source": [
        "from utils_ner import tokenizer, data_collator\n",
        "trainer = Trainer(\n",
        "    model=model,\n",
        "    args=training_args,\n",
        "    train_dataset=tokenized_conll[\"train\"],\n",
        "    eval_dataset=tokenized_conll[\"test\"],\n",
        "    tokenizer=tokenizer,\n",
        "    data_collator=data_collator,\n",
        ")\n",
        "\n",
        "trainer.train()"
      ]
    },
    {
      "cell_type": "code",
      "execution_count": 5,
      "metadata": {
        "id": "C4jIEEvE8xMF"
      },
      "outputs": [],
      "source": [
        "model = AutoModelForTokenClassification.from_pretrained('ner_model_2/checkpoint-3123')\n",
        "tokenizer = AutoTokenizer.from_pretrained('ner_model_2/checkpoint-3123')\n",
        "\n",
        "ner = pipeline(\"ner\", model=model, tokenizer=tokenizer)"
      ]
    },
    {
      "cell_type": "code",
      "execution_count": 6,
      "metadata": {
        "id": "JFQhZOqq8xMF"
      },
      "outputs": [
        {
          "name": "stderr",
          "output_type": "stream",
          "text": [
            "[nltk_data] Downloading package punkt to\n",
            "[nltk_data]     C:\\Users\\CarolinaSoria\\AppData\\Roaming\\nltk_data...\n",
            "[nltk_data]   Package punkt is already up-to-date!\n",
            "[nltk_data] Downloading package stopwords to\n",
            "[nltk_data]     C:\\Users\\CarolinaSoria\\AppData\\Roaming\\nltk_data...\n",
            "[nltk_data]   Package stopwords is already up-to-date!\n",
            "[nltk_data] Downloading package wordnet to\n",
            "[nltk_data]     C:\\Users\\CarolinaSoria\\AppData\\Roaming\\nltk_data...\n",
            "[nltk_data]   Package wordnet is already up-to-date!\n",
            "[nltk_data] Downloading package averaged_perceptron_tagger to\n",
            "[nltk_data]     C:\\Users\\CarolinaSoria\\AppData\\Roaming\\nltk_data...\n",
            "[nltk_data]   Package averaged_perceptron_tagger is already up-to-\n",
            "[nltk_data]       date!\n",
            "[nltk_data] Downloading package stopwords to\n",
            "[nltk_data]     C:\\Users\\CarolinaSoria\\AppData\\Roaming\\nltk_data...\n",
            "[nltk_data]   Package stopwords is already up-to-date!\n",
            "[nltk_data] Downloading package punkt to\n",
            "[nltk_data]     C:\\Users\\CarolinaSoria\\AppData\\Roaming\\nltk_data...\n",
            "[nltk_data]   Package punkt is already up-to-date!\n"
          ]
        }
      ],
      "source": [
        "from utils import unicodedata, re, nltk, snowball_stemmer\n",
        "\n",
        "text_lower = extracted_text.lower()\n",
        "text_normalized = unicodedata.normalize('NFKD', text_lower).encode('ascii', 'ignore').decode('utf-8')\n",
        "filtered_text = re.sub('[^A-Za-z0-9\\s]', ' ', text_normalized)\n",
        "#filtered_text = re.sub('[^A-Za-z0-9áéíóúÁÉÍÓÚñÑüÜ\\s]', ' ',text_lower)\n",
        "tokens = nltk.word_tokenize(filtered_text)\n",
        "tokens_no_stopwords = [word for word in tokens if word not in nltk.corpus.stopwords.words('spanish')]\n",
        "stemmed_words = [snowball_stemmer.stem(word) for word in tokens_no_stopwords]"
      ]
    },
    {
      "cell_type": "code",
      "execution_count": 7,
      "metadata": {
        "id": "jgXJjjL38xMG"
      },
      "outputs": [],
      "source": [
        "#text = filtered_text.replace('\\n', '')\n",
        "ner_results_1 = ner(filtered_text[0:2000])"
      ]
    },
    {
      "cell_type": "code",
      "execution_count": 8,
      "metadata": {
        "id": "CvzZhd1-x88d"
      },
      "outputs": [],
      "source": [
        "ner_results_2 = ner(filtered_text[2000:4000])"
      ]
    },
    {
      "cell_type": "code",
      "execution_count": 9,
      "metadata": {
        "id": "U9sa_GERyEH2"
      },
      "outputs": [],
      "source": [
        "ner_results_3 = ner(filtered_text[4000:6000])"
      ]
    },
    {
      "cell_type": "code",
      "execution_count": 10,
      "metadata": {
        "id": "onXNhYKB8xMG"
      },
      "outputs": [],
      "source": [
        "def concatenate_entities(tag_results):\n",
        "    concatenated_entities = []\n",
        "    current_entity = None\n",
        "    current_entity_text = \"\"\n",
        "    for result in tag_results:\n",
        "        if result['entity'] in ['B-PER', 'I-PER']:\n",
        "            if current_entity in ['B-PER', 'I-PER'] and result['entity'] == 'I-PER':\n",
        "                current_entity_text += result['word'].lstrip('▁')\n",
        "            else:\n",
        "                if current_entity is not None:\n",
        "                    concatenated_entities.append(current_entity_text)\n",
        "                current_entity = result['entity']\n",
        "                current_entity_text = result['word'].lstrip('▁')\n",
        "        else:\n",
        "            if current_entity in ['B-PER', 'I-PER']:\n",
        "                concatenated_entities.append(current_entity_text)\n",
        "            current_entity = None\n",
        "            current_entity_text = \"\"\n",
        "    if current_entity in ['B-PER', 'I-PER']:\n",
        "        concatenated_entities.append(current_entity_text)\n",
        "    return concatenated_entities"
      ]
    },
    {
      "cell_type": "code",
      "execution_count": 11,
      "metadata": {
        "colab": {
          "base_uri": "https://localhost:8080/"
        },
        "id": "QY9LR4wfGZTp",
        "outputId": "173109e4-0ae3-4d60-c149-9531ffd46518"
      },
      "outputs": [
        {
          "data": {
            "text/plain": [
              "{'B-LOC', 'B-MISC', 'B-ORG', 'B-PER', 'I-LOC', 'I-ORG', 'I-PER'}"
            ]
          },
          "execution_count": 11,
          "metadata": {},
          "output_type": "execute_result"
        }
      ],
      "source": [
        "def get_entity_types(ner_results):\n",
        "    entity_types = set()\n",
        "    for result in ner_results:\n",
        "        entity_types.add(result['entity'])\n",
        "    return entity_types\n",
        "\n",
        "get_entity_types(ner_results_1)"
      ]
    },
    {
      "cell_type": "code",
      "execution_count": 12,
      "metadata": {
        "colab": {
          "base_uri": "https://localhost:8080/"
        },
        "id": "In4W9glSUrl2",
        "outputId": "1d28a5a6-24af-4977-aca5-53c325672d18"
      },
      "outputs": [
        {
          "data": {
            "text/plain": [
              "[{'entity': 'B-LOC',\n",
              "  'score': 0.98319006,\n",
              "  'index': 13,\n",
              "  'word': '▁cuba',\n",
              "  'start': 42,\n",
              "  'end': 46},\n",
              " {'entity': 'B-LOC',\n",
              "  'score': 0.97265595,\n",
              "  'index': 22,\n",
              "  'word': '▁ber',\n",
              "  'start': 79,\n",
              "  'end': 82},\n",
              " {'entity': 'B-LOC',\n",
              "  'score': 0.945956,\n",
              "  'index': 23,\n",
              "  'word': 'ke',\n",
              "  'start': 82,\n",
              "  'end': 84},\n",
              " {'entity': 'B-LOC',\n",
              "  'score': 0.96639454,\n",
              "  'index': 24,\n",
              "  'word': 'ley',\n",
              "  'start': 84,\n",
              "  'end': 87},\n",
              " {'entity': 'B-PER',\n",
              "  'score': 0.97835314,\n",
              "  'index': 61,\n",
              "  'word': '▁sen',\n",
              "  'start': 265,\n",
              "  'end': 268},\n",
              " {'entity': 'B-PER',\n",
              "  'score': 0.97493297,\n",
              "  'index': 62,\n",
              "  'word': 'or',\n",
              "  'start': 268,\n",
              "  'end': 270},\n",
              " {'entity': 'B-PER',\n",
              "  'score': 0.92876166,\n",
              "  'index': 94,\n",
              "  'word': '▁tol',\n",
              "  'start': 435,\n",
              "  'end': 438},\n",
              " {'entity': 'B-PER',\n",
              "  'score': 0.8814607,\n",
              "  'index': 95,\n",
              "  'word': 'k',\n",
              "  'start': 438,\n",
              "  'end': 439},\n",
              " {'entity': 'B-PER',\n",
              "  'score': 0.71108973,\n",
              "  'index': 96,\n",
              "  'word': 'ien',\n",
              "  'start': 439,\n",
              "  'end': 442},\n",
              " {'entity': 'B-PER',\n",
              "  'score': 0.8217824,\n",
              "  'index': 97,\n",
              "  'word': '▁neil',\n",
              "  'start': 444,\n",
              "  'end': 448},\n",
              " {'entity': 'I-PER',\n",
              "  'score': 0.7707779,\n",
              "  'index': 98,\n",
              "  'word': '▁ga',\n",
              "  'start': 449,\n",
              "  'end': 451},\n",
              " {'entity': 'I-PER',\n",
              "  'score': 0.65883756,\n",
              "  'index': 99,\n",
              "  'word': 'iman',\n",
              "  'start': 451,\n",
              "  'end': 455},\n",
              " {'entity': 'B-PER',\n",
              "  'score': 0.8017308,\n",
              "  'index': 100,\n",
              "  'word': '▁philip',\n",
              "  'start': 457,\n",
              "  'end': 463},\n",
              " {'entity': 'B-PER',\n",
              "  'score': 0.66371906,\n",
              "  'index': 101,\n",
              "  'word': '▁pul',\n",
              "  'start': 464,\n",
              "  'end': 467},\n",
              " {'entity': 'B-PER',\n",
              "  'score': 0.5334241,\n",
              "  'index': 102,\n",
              "  'word': 'l',\n",
              "  'start': 467,\n",
              "  'end': 468},\n",
              " {'entity': 'B-PER',\n",
              "  'score': 0.5119635,\n",
              "  'index': 103,\n",
              "  'word': 'man',\n",
              "  'start': 468,\n",
              "  'end': 471},\n",
              " {'entity': 'B-PER',\n",
              "  'score': 0.97558165,\n",
              "  'index': 125,\n",
              "  'word': '▁sen',\n",
              "  'start': 580,\n",
              "  'end': 583},\n",
              " {'entity': 'B-PER',\n",
              "  'score': 0.9630955,\n",
              "  'index': 126,\n",
              "  'word': 'or',\n",
              "  'start': 583,\n",
              "  'end': 585},\n",
              " {'entity': 'B-PER',\n",
              "  'score': 0.97395724,\n",
              "  'index': 127,\n",
              "  'word': 'ita',\n",
              "  'start': 585,\n",
              "  'end': 588},\n",
              " {'entity': 'B-PER',\n",
              "  'score': 0.9746474,\n",
              "  'index': 139,\n",
              "  'word': '▁sen',\n",
              "  'start': 650,\n",
              "  'end': 653},\n",
              " {'entity': 'B-PER',\n",
              "  'score': 0.96933234,\n",
              "  'index': 140,\n",
              "  'word': 'or',\n",
              "  'start': 653,\n",
              "  'end': 655},\n",
              " {'entity': 'B-MISC',\n",
              "  'score': 0.56616527,\n",
              "  'index': 198,\n",
              "  'word': '▁lar',\n",
              "  'start': 950,\n",
              "  'end': 953},\n",
              " {'entity': 'B-MISC',\n",
              "  'score': 0.42392322,\n",
              "  'index': 199,\n",
              "  'word': 'k',\n",
              "  'start': 953,\n",
              "  'end': 954},\n",
              " {'entity': 'I-MISC',\n",
              "  'score': 0.5410085,\n",
              "  'index': 200,\n",
              "  'word': '▁house',\n",
              "  'start': 955,\n",
              "  'end': 960}]"
            ]
          },
          "execution_count": 12,
          "metadata": {},
          "output_type": "execute_result"
        }
      ],
      "source": [
        "ner_results_3"
      ]
    },
    {
      "cell_type": "code",
      "execution_count": 13,
      "metadata": {
        "colab": {
          "base_uri": "https://localhost:8080/"
        },
        "id": "VIAX0VaoZaPl",
        "outputId": "869c72d4-47be-4935-bff4-7dd8ae239328"
      },
      "outputs": [
        {
          "data": {
            "text/plain": [
              "499183"
            ]
          },
          "execution_count": 13,
          "metadata": {},
          "output_type": "execute_result"
        }
      ],
      "source": [
        "len(filtered_text)"
      ]
    }
  ],
  "metadata": {
    "accelerator": "TPU",
    "colab": {
      "provenance": []
    },
    "kernelspec": {
      "display_name": "Python 3",
      "name": "python3"
    },
    "language_info": {
      "codemirror_mode": {
        "name": "ipython",
        "version": 3
      },
      "file_extension": ".py",
      "mimetype": "text/x-python",
      "name": "python",
      "nbconvert_exporter": "python",
      "pygments_lexer": "ipython3",
      "version": "3.11.5"
    },
    "orig_nbformat": 4,
    "vscode": {
      "interpreter": {
        "hash": "aee8b7b246df8f9039afb4144a1f6fd8d2ca17a180786b69acc140d282b71a49"
      }
    },
    "widgets": {
      "application/vnd.jupyter.widget-state+json": {
        "07394ec2f1e54db39f538e96ef84c904": {
          "model_module": "@jupyter-widgets/controls",
          "model_module_version": "1.5.0",
          "model_name": "HTMLModel",
          "state": {
            "_dom_classes": [],
            "_model_module": "@jupyter-widgets/controls",
            "_model_module_version": "1.5.0",
            "_model_name": "HTMLModel",
            "_view_count": null,
            "_view_module": "@jupyter-widgets/controls",
            "_view_module_version": "1.5.0",
            "_view_name": "HTMLView",
            "description": "",
            "description_tooltip": null,
            "layout": "IPY_MODEL_9a9e326c069c485a9af82ba769fd557f",
            "placeholder": "​",
            "style": "IPY_MODEL_1d041ef6702240879d3cbc8f5425c8c9",
            "value": "pytorch_model.bin: 100%"
          }
        },
        "1d041ef6702240879d3cbc8f5425c8c9": {
          "model_module": "@jupyter-widgets/controls",
          "model_module_version": "1.5.0",
          "model_name": "DescriptionStyleModel",
          "state": {
            "_model_module": "@jupyter-widgets/controls",
            "_model_module_version": "1.5.0",
            "_model_name": "DescriptionStyleModel",
            "_view_count": null,
            "_view_module": "@jupyter-widgets/base",
            "_view_module_version": "1.2.0",
            "_view_name": "StyleView",
            "description_width": ""
          }
        },
        "459aae3da07f4daf8aa44d28d2c43794": {
          "model_module": "@jupyter-widgets/controls",
          "model_module_version": "1.5.0",
          "model_name": "HTMLModel",
          "state": {
            "_dom_classes": [],
            "_model_module": "@jupyter-widgets/controls",
            "_model_module_version": "1.5.0",
            "_model_name": "HTMLModel",
            "_view_count": null,
            "_view_module": "@jupyter-widgets/controls",
            "_view_module_version": "1.5.0",
            "_view_name": "HTMLView",
            "description": "",
            "description_tooltip": null,
            "layout": "IPY_MODEL_f8592c8fa3ec4fc5a5dd33a578f56517",
            "placeholder": "​",
            "style": "IPY_MODEL_d534fd21ca7b4e18aadaf128bd8289f5",
            "value": " 440M/440M [00:23&lt;00:00, 19.0MB/s]"
          }
        },
        "60b180663a804725b30dc7df891dca4e": {
          "model_module": "@jupyter-widgets/controls",
          "model_module_version": "1.5.0",
          "model_name": "ProgressStyleModel",
          "state": {
            "_model_module": "@jupyter-widgets/controls",
            "_model_module_version": "1.5.0",
            "_model_name": "ProgressStyleModel",
            "_view_count": null,
            "_view_module": "@jupyter-widgets/base",
            "_view_module_version": "1.2.0",
            "_view_name": "StyleView",
            "bar_color": null,
            "description_width": ""
          }
        },
        "66f3d849e87b4c2c93359fffd13de223": {
          "model_module": "@jupyter-widgets/base",
          "model_module_version": "1.2.0",
          "model_name": "LayoutModel",
          "state": {
            "_model_module": "@jupyter-widgets/base",
            "_model_module_version": "1.2.0",
            "_model_name": "LayoutModel",
            "_view_count": null,
            "_view_module": "@jupyter-widgets/base",
            "_view_module_version": "1.2.0",
            "_view_name": "LayoutView",
            "align_content": null,
            "align_items": null,
            "align_self": null,
            "border": null,
            "bottom": null,
            "display": null,
            "flex": null,
            "flex_flow": null,
            "grid_area": null,
            "grid_auto_columns": null,
            "grid_auto_flow": null,
            "grid_auto_rows": null,
            "grid_column": null,
            "grid_gap": null,
            "grid_row": null,
            "grid_template_areas": null,
            "grid_template_columns": null,
            "grid_template_rows": null,
            "height": null,
            "justify_content": null,
            "justify_items": null,
            "left": null,
            "margin": null,
            "max_height": null,
            "max_width": null,
            "min_height": null,
            "min_width": null,
            "object_fit": null,
            "object_position": null,
            "order": null,
            "overflow": null,
            "overflow_x": null,
            "overflow_y": null,
            "padding": null,
            "right": null,
            "top": null,
            "visibility": null,
            "width": null
          }
        },
        "9a9e326c069c485a9af82ba769fd557f": {
          "model_module": "@jupyter-widgets/base",
          "model_module_version": "1.2.0",
          "model_name": "LayoutModel",
          "state": {
            "_model_module": "@jupyter-widgets/base",
            "_model_module_version": "1.2.0",
            "_model_name": "LayoutModel",
            "_view_count": null,
            "_view_module": "@jupyter-widgets/base",
            "_view_module_version": "1.2.0",
            "_view_name": "LayoutView",
            "align_content": null,
            "align_items": null,
            "align_self": null,
            "border": null,
            "bottom": null,
            "display": null,
            "flex": null,
            "flex_flow": null,
            "grid_area": null,
            "grid_auto_columns": null,
            "grid_auto_flow": null,
            "grid_auto_rows": null,
            "grid_column": null,
            "grid_gap": null,
            "grid_row": null,
            "grid_template_areas": null,
            "grid_template_columns": null,
            "grid_template_rows": null,
            "height": null,
            "justify_content": null,
            "justify_items": null,
            "left": null,
            "margin": null,
            "max_height": null,
            "max_width": null,
            "min_height": null,
            "min_width": null,
            "object_fit": null,
            "object_position": null,
            "order": null,
            "overflow": null,
            "overflow_x": null,
            "overflow_y": null,
            "padding": null,
            "right": null,
            "top": null,
            "visibility": null,
            "width": null
          }
        },
        "9f51592073ac4c7791ea81bcee1e1afc": {
          "model_module": "@jupyter-widgets/controls",
          "model_module_version": "1.5.0",
          "model_name": "HBoxModel",
          "state": {
            "_dom_classes": [],
            "_model_module": "@jupyter-widgets/controls",
            "_model_module_version": "1.5.0",
            "_model_name": "HBoxModel",
            "_view_count": null,
            "_view_module": "@jupyter-widgets/controls",
            "_view_module_version": "1.5.0",
            "_view_name": "HBoxView",
            "box_style": "",
            "children": [
              "IPY_MODEL_07394ec2f1e54db39f538e96ef84c904",
              "IPY_MODEL_e5d34cf2d6f94e258ecc11abb7f65791",
              "IPY_MODEL_459aae3da07f4daf8aa44d28d2c43794"
            ],
            "layout": "IPY_MODEL_c839f5ea333046e7ae7b39fa33238c1f"
          }
        },
        "c839f5ea333046e7ae7b39fa33238c1f": {
          "model_module": "@jupyter-widgets/base",
          "model_module_version": "1.2.0",
          "model_name": "LayoutModel",
          "state": {
            "_model_module": "@jupyter-widgets/base",
            "_model_module_version": "1.2.0",
            "_model_name": "LayoutModel",
            "_view_count": null,
            "_view_module": "@jupyter-widgets/base",
            "_view_module_version": "1.2.0",
            "_view_name": "LayoutView",
            "align_content": null,
            "align_items": null,
            "align_self": null,
            "border": null,
            "bottom": null,
            "display": null,
            "flex": null,
            "flex_flow": null,
            "grid_area": null,
            "grid_auto_columns": null,
            "grid_auto_flow": null,
            "grid_auto_rows": null,
            "grid_column": null,
            "grid_gap": null,
            "grid_row": null,
            "grid_template_areas": null,
            "grid_template_columns": null,
            "grid_template_rows": null,
            "height": null,
            "justify_content": null,
            "justify_items": null,
            "left": null,
            "margin": null,
            "max_height": null,
            "max_width": null,
            "min_height": null,
            "min_width": null,
            "object_fit": null,
            "object_position": null,
            "order": null,
            "overflow": null,
            "overflow_x": null,
            "overflow_y": null,
            "padding": null,
            "right": null,
            "top": null,
            "visibility": null,
            "width": null
          }
        },
        "d534fd21ca7b4e18aadaf128bd8289f5": {
          "model_module": "@jupyter-widgets/controls",
          "model_module_version": "1.5.0",
          "model_name": "DescriptionStyleModel",
          "state": {
            "_model_module": "@jupyter-widgets/controls",
            "_model_module_version": "1.5.0",
            "_model_name": "DescriptionStyleModel",
            "_view_count": null,
            "_view_module": "@jupyter-widgets/base",
            "_view_module_version": "1.2.0",
            "_view_name": "StyleView",
            "description_width": ""
          }
        },
        "e5d34cf2d6f94e258ecc11abb7f65791": {
          "model_module": "@jupyter-widgets/controls",
          "model_module_version": "1.5.0",
          "model_name": "FloatProgressModel",
          "state": {
            "_dom_classes": [],
            "_model_module": "@jupyter-widgets/controls",
            "_model_module_version": "1.5.0",
            "_model_name": "FloatProgressModel",
            "_view_count": null,
            "_view_module": "@jupyter-widgets/controls",
            "_view_module_version": "1.5.0",
            "_view_name": "ProgressView",
            "bar_style": "success",
            "description": "",
            "description_tooltip": null,
            "layout": "IPY_MODEL_66f3d849e87b4c2c93359fffd13de223",
            "max": 439621341,
            "min": 0,
            "orientation": "horizontal",
            "style": "IPY_MODEL_60b180663a804725b30dc7df891dca4e",
            "value": 439621341
          }
        },
        "f8592c8fa3ec4fc5a5dd33a578f56517": {
          "model_module": "@jupyter-widgets/base",
          "model_module_version": "1.2.0",
          "model_name": "LayoutModel",
          "state": {
            "_model_module": "@jupyter-widgets/base",
            "_model_module_version": "1.2.0",
            "_model_name": "LayoutModel",
            "_view_count": null,
            "_view_module": "@jupyter-widgets/base",
            "_view_module_version": "1.2.0",
            "_view_name": "LayoutView",
            "align_content": null,
            "align_items": null,
            "align_self": null,
            "border": null,
            "bottom": null,
            "display": null,
            "flex": null,
            "flex_flow": null,
            "grid_area": null,
            "grid_auto_columns": null,
            "grid_auto_flow": null,
            "grid_auto_rows": null,
            "grid_column": null,
            "grid_gap": null,
            "grid_row": null,
            "grid_template_areas": null,
            "grid_template_columns": null,
            "grid_template_rows": null,
            "height": null,
            "justify_content": null,
            "justify_items": null,
            "left": null,
            "margin": null,
            "max_height": null,
            "max_width": null,
            "min_height": null,
            "min_width": null,
            "object_fit": null,
            "object_position": null,
            "order": null,
            "overflow": null,
            "overflow_x": null,
            "overflow_y": null,
            "padding": null,
            "right": null,
            "top": null,
            "visibility": null,
            "width": null
          }
        }
      }
    }
  },
  "nbformat": 4,
  "nbformat_minor": 0
}
